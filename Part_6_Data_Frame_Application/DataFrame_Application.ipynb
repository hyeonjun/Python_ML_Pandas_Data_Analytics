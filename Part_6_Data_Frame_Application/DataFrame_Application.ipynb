{
  "nbformat": 4,
  "nbformat_minor": 0,
  "metadata": {
    "colab": {
      "name": "DataFrame_Application.ipynb",
      "provenance": [],
      "collapsed_sections": [],
      "mount_file_id": "1EpTxhXhoAZnEmYtYBK_2xxOSKTaYn-eZ",
      "authorship_tag": "ABX9TyPJZy3wkKbMeiuja5/6fqjI"
    },
    "kernelspec": {
      "name": "python3",
      "display_name": "Python 3"
    },
    "language_info": {
      "name": "python"
    }
  },
  "cells": [
    {
      "cell_type": "markdown",
      "metadata": {
        "id": "PGEQj_Tols5d"
      },
      "source": [
        "# 함수 매핑\n",
        "\n",
        "데이터프레임에 함수를 매핑하는 방법, 데이터를 집계하는 그룹 연산, 데이터프레임을 합치거나 다양한 형태로 구조를 변경하는 방법 등에 관해 알아보자.\n",
        "\n",
        "함수 매핑은 시리즈 또는 데이터프레임의 개별 원소를 특정 함수에 일대일 대응시키는 과정을 뜻한다. 사용자가 직접 만든 함수(lambda 함수 포함)를 적용할 수 있기 때문에 판다스 기본 함수로 처리하기 어려운 복잡한 연산을 데이터프레임 등 판다스 객체에 적용하는 것이 가능하다."
      ]
    },
    {
      "cell_type": "markdown",
      "metadata": {
        "id": "7DsA3GEimUB6"
      },
      "source": [
        "* 개별 원소에 함수 매핑\n",
        "\n",
        "#### 시리즈 원소에 함수 매핑\n",
        "\n",
        "시리즈 객체에 apply() 메소드를 적용하면 인자로 전달하는 매핑 함수에 시리즈의 모든 원소를 하나씩 입력하고 함수의 리턴값을 돌려받는다. 시리즈 원소의 개수만큼 리턴값을 받아서 같은 크기의 시리즈 객체로 반환한다.\n",
        "\n",
        "        시리즈의 원소에 함수 매핑 : Series객체.apply(매핑 함수)\n",
        "\n",
        "'titanic' 데이터셋에서 숫자 데이터로 구성된 2개의 열('age','fare')을 선택하고, 숫자 10만을 원소 값으로 갖는 새로운 열('ten')을 추가한다."
      ]
    },
    {
      "cell_type": "code",
      "metadata": {
        "colab": {
          "base_uri": "https://localhost:8080/",
          "height": 203
        },
        "id": "P7rsnCwQLw0l",
        "outputId": "880ba608-8cdd-4e9f-d728-43fb5d6a5e19"
      },
      "source": [
        "import seaborn as sns\n",
        "\n",
        "# titanic 데이터셋에서 age, fare 2개 열을 선택하여 데이터프레임 만들기\n",
        "titanic = sns.load_dataset('titanic')\n",
        "df = titanic.loc[:, ['age','fare']]\n",
        "df['ten'] = 10\n",
        "df.head()"
      ],
      "execution_count": 1,
      "outputs": [
        {
          "output_type": "execute_result",
          "data": {
            "text/html": [
              "<div>\n",
              "<style scoped>\n",
              "    .dataframe tbody tr th:only-of-type {\n",
              "        vertical-align: middle;\n",
              "    }\n",
              "\n",
              "    .dataframe tbody tr th {\n",
              "        vertical-align: top;\n",
              "    }\n",
              "\n",
              "    .dataframe thead th {\n",
              "        text-align: right;\n",
              "    }\n",
              "</style>\n",
              "<table border=\"1\" class=\"dataframe\">\n",
              "  <thead>\n",
              "    <tr style=\"text-align: right;\">\n",
              "      <th></th>\n",
              "      <th>age</th>\n",
              "      <th>fare</th>\n",
              "      <th>ten</th>\n",
              "    </tr>\n",
              "  </thead>\n",
              "  <tbody>\n",
              "    <tr>\n",
              "      <th>0</th>\n",
              "      <td>22.0</td>\n",
              "      <td>7.2500</td>\n",
              "      <td>10</td>\n",
              "    </tr>\n",
              "    <tr>\n",
              "      <th>1</th>\n",
              "      <td>38.0</td>\n",
              "      <td>71.2833</td>\n",
              "      <td>10</td>\n",
              "    </tr>\n",
              "    <tr>\n",
              "      <th>2</th>\n",
              "      <td>26.0</td>\n",
              "      <td>7.9250</td>\n",
              "      <td>10</td>\n",
              "    </tr>\n",
              "    <tr>\n",
              "      <th>3</th>\n",
              "      <td>35.0</td>\n",
              "      <td>53.1000</td>\n",
              "      <td>10</td>\n",
              "    </tr>\n",
              "    <tr>\n",
              "      <th>4</th>\n",
              "      <td>35.0</td>\n",
              "      <td>8.0500</td>\n",
              "      <td>10</td>\n",
              "    </tr>\n",
              "  </tbody>\n",
              "</table>\n",
              "</div>"
            ],
            "text/plain": [
              "    age     fare  ten\n",
              "0  22.0   7.2500   10\n",
              "1  38.0  71.2833   10\n",
              "2  26.0   7.9250   10\n",
              "3  35.0  53.1000   10\n",
              "4  35.0   8.0500   10"
            ]
          },
          "metadata": {},
          "execution_count": 1
        }
      ]
    },
    {
      "cell_type": "markdown",
      "metadata": {
        "id": "t9wWpNUlp7aR"
      },
      "source": [
        "두 가지 사용자 함수를 정의한다. apply() 메소드를 이용하여 df['age'] 열에 add_10 함수, add_two_obj 함수를 매핑하여 모든 원소에 숫자 10을 더한다.\n",
        "\n",
        "그리고 lambda 함수를 df['age'] 열에 매핑하여 add_10 함수의 리턴값을 sr3에 저장한다. 또, lambda 함수를 사용하여 10을 더해보자."
      ]
    },
    {
      "cell_type": "code",
      "metadata": {
        "colab": {
          "base_uri": "https://localhost:8080/"
        },
        "id": "yl40RcsJoi8K",
        "outputId": "a730afa4-dc04-4d5e-c60b-110370b2c598"
      },
      "source": [
        "# 사용자 함수 정의\n",
        "def add_10(n): # 10을 더하는 함수\n",
        "    return n+10\n",
        "\n",
        "def add_two_obj(a, b):\n",
        "    return a+b\n",
        "\n",
        "print(add_10(10))\n",
        "print(add_two_obj(10, 10))"
      ],
      "execution_count": 2,
      "outputs": [
        {
          "output_type": "stream",
          "name": "stdout",
          "text": [
            "20\n",
            "20\n"
          ]
        }
      ]
    },
    {
      "cell_type": "code",
      "metadata": {
        "colab": {
          "base_uri": "https://localhost:8080/"
        },
        "id": "nX436NHzpAk4",
        "outputId": "258ff90b-36a9-429b-9259-b0d9473a793c"
      },
      "source": [
        "# 시리즈 객체에 적용\n",
        "sr1 = df['age'].apply(add_10)\n",
        "sr1.head()"
      ],
      "execution_count": 3,
      "outputs": [
        {
          "output_type": "execute_result",
          "data": {
            "text/plain": [
              "0    32.0\n",
              "1    48.0\n",
              "2    36.0\n",
              "3    45.0\n",
              "4    45.0\n",
              "Name: age, dtype: float64"
            ]
          },
          "metadata": {},
          "execution_count": 3
        }
      ]
    },
    {
      "cell_type": "code",
      "metadata": {
        "colab": {
          "base_uri": "https://localhost:8080/"
        },
        "id": "TiUUy3lUpN0Z",
        "outputId": "bd4bc329-64fd-4d50-897e-5df8d822072e"
      },
      "source": [
        "# 시리즈 객체와 숫자에 적용 : 2개의 인수(시리즈 + 숫자)\n",
        "sr2 = df['age'].apply(add_two_obj, b=10)\n",
        "sr2.head()"
      ],
      "execution_count": 4,
      "outputs": [
        {
          "output_type": "execute_result",
          "data": {
            "text/plain": [
              "0    32.0\n",
              "1    48.0\n",
              "2    36.0\n",
              "3    45.0\n",
              "4    45.0\n",
              "Name: age, dtype: float64"
            ]
          },
          "metadata": {},
          "execution_count": 4
        }
      ]
    },
    {
      "cell_type": "code",
      "metadata": {
        "colab": {
          "base_uri": "https://localhost:8080/"
        },
        "id": "LHwYIoBMpdWw",
        "outputId": "929e2e2e-cbcd-4411-8dd8-fa299315fc32"
      },
      "source": [
        "# 람다 함수 활용 : 시리즈 객체에 적용\n",
        "sr3 = df['age'].apply(lambda x:add_10(x))\n",
        "sr3.head()"
      ],
      "execution_count": 5,
      "outputs": [
        {
          "output_type": "execute_result",
          "data": {
            "text/plain": [
              "0    32.0\n",
              "1    48.0\n",
              "2    36.0\n",
              "3    45.0\n",
              "4    45.0\n",
              "Name: age, dtype: float64"
            ]
          },
          "metadata": {},
          "execution_count": 5
        }
      ]
    },
    {
      "cell_type": "code",
      "metadata": {
        "colab": {
          "base_uri": "https://localhost:8080/"
        },
        "id": "wTBmX9vWptT4",
        "outputId": "ef04cdff-d979-43f6-c4de-809e2c61f870"
      },
      "source": [
        "sr4 = df['age'].apply(lambda x: x+10)\n",
        "sr4.head()"
      ],
      "execution_count": 6,
      "outputs": [
        {
          "output_type": "execute_result",
          "data": {
            "text/plain": [
              "0    32.0\n",
              "1    48.0\n",
              "2    36.0\n",
              "3    45.0\n",
              "4    45.0\n",
              "Name: age, dtype: float64"
            ]
          },
          "metadata": {},
          "execution_count": 6
        }
      ]
    },
    {
      "cell_type": "markdown",
      "metadata": {
        "id": "ir_b8_GKqldg"
      },
      "source": [
        "#### 데이터프레임 원소에 함수 매핑\n",
        "\n",
        "데이터프레임의개별 원소에 특정 함수를 매핑하려면, applymap() 메소드를 활용한다. 매핑 함수에 데이터프레임의 각 원소를 하나씩 넣어서 리턴값을 돌려받는다. 원소의 원래 위치에 매핑 함수의 리턴값을 입력하여 동일한 형태의 데이터프레임이 만들어진다.\n",
        "\n",
        "        데이터프레임의 원소에 함수 매핑 : DataFrame.applymap(매핑 함수)\n",
        "\n",
        "'titanic' 데이터셋에서 숫자 데이터로 구성된 2개의 열('age','fare')을 선택하여 만든 데이터프레임 df를 다시 활용한다. 인수 n을 입력 받아 숫자 10을 더한 결과를 반환하는 add_10(n) 함수도 다시 사용한다. applymap() 메소드를 이용하여 add_10(n) 함수를 df에 적용하면, df의 각 원소에 숫자 10을 더한 값을 원소로 갖는 데이터프레임이 만들어진다."
      ]
    },
    {
      "cell_type": "code",
      "metadata": {
        "colab": {
          "base_uri": "https://localhost:8080/",
          "height": 203
        },
        "id": "a-mMgCH7rbLo",
        "outputId": "01902cb3-9110-48e2-dcf7-7765cfea0c20"
      },
      "source": [
        "import seaborn as sns\n",
        "\n",
        "titanic = sns.load_dataset('titanic')\n",
        "df = titanic.loc[:, ['age','fare']]\n",
        "df.head()"
      ],
      "execution_count": 7,
      "outputs": [
        {
          "output_type": "execute_result",
          "data": {
            "text/html": [
              "<div>\n",
              "<style scoped>\n",
              "    .dataframe tbody tr th:only-of-type {\n",
              "        vertical-align: middle;\n",
              "    }\n",
              "\n",
              "    .dataframe tbody tr th {\n",
              "        vertical-align: top;\n",
              "    }\n",
              "\n",
              "    .dataframe thead th {\n",
              "        text-align: right;\n",
              "    }\n",
              "</style>\n",
              "<table border=\"1\" class=\"dataframe\">\n",
              "  <thead>\n",
              "    <tr style=\"text-align: right;\">\n",
              "      <th></th>\n",
              "      <th>age</th>\n",
              "      <th>fare</th>\n",
              "    </tr>\n",
              "  </thead>\n",
              "  <tbody>\n",
              "    <tr>\n",
              "      <th>0</th>\n",
              "      <td>22.0</td>\n",
              "      <td>7.2500</td>\n",
              "    </tr>\n",
              "    <tr>\n",
              "      <th>1</th>\n",
              "      <td>38.0</td>\n",
              "      <td>71.2833</td>\n",
              "    </tr>\n",
              "    <tr>\n",
              "      <th>2</th>\n",
              "      <td>26.0</td>\n",
              "      <td>7.9250</td>\n",
              "    </tr>\n",
              "    <tr>\n",
              "      <th>3</th>\n",
              "      <td>35.0</td>\n",
              "      <td>53.1000</td>\n",
              "    </tr>\n",
              "    <tr>\n",
              "      <th>4</th>\n",
              "      <td>35.0</td>\n",
              "      <td>8.0500</td>\n",
              "    </tr>\n",
              "  </tbody>\n",
              "</table>\n",
              "</div>"
            ],
            "text/plain": [
              "    age     fare\n",
              "0  22.0   7.2500\n",
              "1  38.0  71.2833\n",
              "2  26.0   7.9250\n",
              "3  35.0  53.1000\n",
              "4  35.0   8.0500"
            ]
          },
          "metadata": {},
          "execution_count": 7
        }
      ]
    },
    {
      "cell_type": "code",
      "metadata": {
        "colab": {
          "base_uri": "https://localhost:8080/",
          "height": 203
        },
        "id": "xZwnj9LGrmr_",
        "outputId": "234edb27-ad35-4ff1-e678-7cdfe58f02a4"
      },
      "source": [
        "def add_10(n):\n",
        "    return n+10\n",
        "\n",
        "df_map = df.applymap(add_10)\n",
        "df_map.head()"
      ],
      "execution_count": 8,
      "outputs": [
        {
          "output_type": "execute_result",
          "data": {
            "text/html": [
              "<div>\n",
              "<style scoped>\n",
              "    .dataframe tbody tr th:only-of-type {\n",
              "        vertical-align: middle;\n",
              "    }\n",
              "\n",
              "    .dataframe tbody tr th {\n",
              "        vertical-align: top;\n",
              "    }\n",
              "\n",
              "    .dataframe thead th {\n",
              "        text-align: right;\n",
              "    }\n",
              "</style>\n",
              "<table border=\"1\" class=\"dataframe\">\n",
              "  <thead>\n",
              "    <tr style=\"text-align: right;\">\n",
              "      <th></th>\n",
              "      <th>age</th>\n",
              "      <th>fare</th>\n",
              "    </tr>\n",
              "  </thead>\n",
              "  <tbody>\n",
              "    <tr>\n",
              "      <th>0</th>\n",
              "      <td>32.0</td>\n",
              "      <td>17.2500</td>\n",
              "    </tr>\n",
              "    <tr>\n",
              "      <th>1</th>\n",
              "      <td>48.0</td>\n",
              "      <td>81.2833</td>\n",
              "    </tr>\n",
              "    <tr>\n",
              "      <th>2</th>\n",
              "      <td>36.0</td>\n",
              "      <td>17.9250</td>\n",
              "    </tr>\n",
              "    <tr>\n",
              "      <th>3</th>\n",
              "      <td>45.0</td>\n",
              "      <td>63.1000</td>\n",
              "    </tr>\n",
              "    <tr>\n",
              "      <th>4</th>\n",
              "      <td>45.0</td>\n",
              "      <td>18.0500</td>\n",
              "    </tr>\n",
              "  </tbody>\n",
              "</table>\n",
              "</div>"
            ],
            "text/plain": [
              "    age     fare\n",
              "0  32.0  17.2500\n",
              "1  48.0  81.2833\n",
              "2  36.0  17.9250\n",
              "3  45.0  63.1000\n",
              "4  45.0  18.0500"
            ]
          },
          "metadata": {},
          "execution_count": 8
        }
      ]
    },
    {
      "cell_type": "markdown",
      "metadata": {
        "id": "2IksgCSFr0mH"
      },
      "source": [
        "* 시리즈 객체에 함수 매핑\n",
        "\n",
        "#### 데이터프레임의 각 열에 함수 매핑\n",
        "\n",
        "데이터프레임에 apply(axis=0) 메소드를 적용하면 모든 열을 하나씩 분리하여 매핑 함수의 인자로 각 열(시리즈)이 전달된다. 매핑 함수에 따라 반환되는 객체의 종류가 다르다.\n",
        "\n",
        "        데이터프레임의 열에 함수 매핑 : DataFrame.apply(매핑 함수, axis=0)\n",
        "\n",
        "시리즈를 입력받고 시리즈를 반환하는 함수를 매핑하면, 데이터프레임을 반환한다.\n",
        "\n",
        "이번에는 시리즈를 입력받아서 시리즈를 반환하는 missing_value(series) 함수를 정의하여 사용하자. 데이터프레임의 열을 매핑 함수에 전달하면 각 열의 리턴값은 시리즈 형태로 반환된다. 그리고 이들 시리즈가 하나의 데이터프레임으로 통합되는 과정을 거친다."
      ]
    },
    {
      "cell_type": "code",
      "metadata": {
        "colab": {
          "base_uri": "https://localhost:8080/",
          "height": 203
        },
        "id": "WSQhGCAgtu2n",
        "outputId": "fbcf9090-570a-4e3d-c3ae-256488f3afd5"
      },
      "source": [
        "import seaborn as sns\n",
        "\n",
        "titanic = sns.load_dataset('titanic')\n",
        "df = titanic.loc[:, ['age','fare']]\n",
        "df.head()"
      ],
      "execution_count": 9,
      "outputs": [
        {
          "output_type": "execute_result",
          "data": {
            "text/html": [
              "<div>\n",
              "<style scoped>\n",
              "    .dataframe tbody tr th:only-of-type {\n",
              "        vertical-align: middle;\n",
              "    }\n",
              "\n",
              "    .dataframe tbody tr th {\n",
              "        vertical-align: top;\n",
              "    }\n",
              "\n",
              "    .dataframe thead th {\n",
              "        text-align: right;\n",
              "    }\n",
              "</style>\n",
              "<table border=\"1\" class=\"dataframe\">\n",
              "  <thead>\n",
              "    <tr style=\"text-align: right;\">\n",
              "      <th></th>\n",
              "      <th>age</th>\n",
              "      <th>fare</th>\n",
              "    </tr>\n",
              "  </thead>\n",
              "  <tbody>\n",
              "    <tr>\n",
              "      <th>0</th>\n",
              "      <td>22.0</td>\n",
              "      <td>7.2500</td>\n",
              "    </tr>\n",
              "    <tr>\n",
              "      <th>1</th>\n",
              "      <td>38.0</td>\n",
              "      <td>71.2833</td>\n",
              "    </tr>\n",
              "    <tr>\n",
              "      <th>2</th>\n",
              "      <td>26.0</td>\n",
              "      <td>7.9250</td>\n",
              "    </tr>\n",
              "    <tr>\n",
              "      <th>3</th>\n",
              "      <td>35.0</td>\n",
              "      <td>53.1000</td>\n",
              "    </tr>\n",
              "    <tr>\n",
              "      <th>4</th>\n",
              "      <td>35.0</td>\n",
              "      <td>8.0500</td>\n",
              "    </tr>\n",
              "  </tbody>\n",
              "</table>\n",
              "</div>"
            ],
            "text/plain": [
              "    age     fare\n",
              "0  22.0   7.2500\n",
              "1  38.0  71.2833\n",
              "2  26.0   7.9250\n",
              "3  35.0  53.1000\n",
              "4  35.0   8.0500"
            ]
          },
          "metadata": {},
          "execution_count": 9
        }
      ]
    },
    {
      "cell_type": "code",
      "metadata": {
        "colab": {
          "base_uri": "https://localhost:8080/",
          "height": 203
        },
        "id": "v71u8iX8t6Vv",
        "outputId": "9ec4e901-571b-4868-8122-39f4b8132fe2"
      },
      "source": [
        "def missing_value(series):\n",
        "    return series.isnull() # 불린 시리즈를 반환\n",
        "\n",
        "result = df.apply(missing_value, axis=0)\n",
        "result.head()"
      ],
      "execution_count": 10,
      "outputs": [
        {
          "output_type": "execute_result",
          "data": {
            "text/html": [
              "<div>\n",
              "<style scoped>\n",
              "    .dataframe tbody tr th:only-of-type {\n",
              "        vertical-align: middle;\n",
              "    }\n",
              "\n",
              "    .dataframe tbody tr th {\n",
              "        vertical-align: top;\n",
              "    }\n",
              "\n",
              "    .dataframe thead th {\n",
              "        text-align: right;\n",
              "    }\n",
              "</style>\n",
              "<table border=\"1\" class=\"dataframe\">\n",
              "  <thead>\n",
              "    <tr style=\"text-align: right;\">\n",
              "      <th></th>\n",
              "      <th>age</th>\n",
              "      <th>fare</th>\n",
              "    </tr>\n",
              "  </thead>\n",
              "  <tbody>\n",
              "    <tr>\n",
              "      <th>0</th>\n",
              "      <td>False</td>\n",
              "      <td>False</td>\n",
              "    </tr>\n",
              "    <tr>\n",
              "      <th>1</th>\n",
              "      <td>False</td>\n",
              "      <td>False</td>\n",
              "    </tr>\n",
              "    <tr>\n",
              "      <th>2</th>\n",
              "      <td>False</td>\n",
              "      <td>False</td>\n",
              "    </tr>\n",
              "    <tr>\n",
              "      <th>3</th>\n",
              "      <td>False</td>\n",
              "      <td>False</td>\n",
              "    </tr>\n",
              "    <tr>\n",
              "      <th>4</th>\n",
              "      <td>False</td>\n",
              "      <td>False</td>\n",
              "    </tr>\n",
              "  </tbody>\n",
              "</table>\n",
              "</div>"
            ],
            "text/plain": [
              "     age   fare\n",
              "0  False  False\n",
              "1  False  False\n",
              "2  False  False\n",
              "3  False  False\n",
              "4  False  False"
            ]
          },
          "metadata": {},
          "execution_count": 10
        }
      ]
    },
    {
      "cell_type": "markdown",
      "metadata": {
        "id": "lgluuz62uwbe"
      },
      "source": [
        "한편 시리즈를 입력받아서 하나의 값을 반호나하는 함수를 매핑하면 시리즈를 반환한다.\n",
        "\n",
        "시리즈의 최대값, 최소값의 차이를 계산하여 값을 반환하는 min_max(x) 함수를 정의해서 사용하자. 데이터프레임의 각 열을 매핑 함수에 전달하면 각 열의 리턴값은 하나의 값으로 반환된다. 마지막으로 이들 값을 하나의 시리즈로 통합하는 과정을 거친다.\n",
        "\n",
        "이때 각 열의 이름이 시리즈의 인덱스가 되고, 함수가 반환하는 값이 각 인덱스에 매칭되는 데이터 값이 된다. axis=0 옵션의 경우 따로 설정하지 않아도 apply() 함수에서 기본 적용된다. "
      ]
    },
    {
      "cell_type": "code",
      "metadata": {
        "colab": {
          "base_uri": "https://localhost:8080/",
          "height": 203
        },
        "id": "Z-KYTQxNyI4n",
        "outputId": "7419324e-1f9e-4f82-a6a8-9fd069e63ea2"
      },
      "source": [
        "import seaborn as sns\n",
        "\n",
        "titanic = sns.load_dataset('titanic')\n",
        "df = titanic.loc[:, ['age', 'fare']]\n",
        "df.head()"
      ],
      "execution_count": 11,
      "outputs": [
        {
          "output_type": "execute_result",
          "data": {
            "text/html": [
              "<div>\n",
              "<style scoped>\n",
              "    .dataframe tbody tr th:only-of-type {\n",
              "        vertical-align: middle;\n",
              "    }\n",
              "\n",
              "    .dataframe tbody tr th {\n",
              "        vertical-align: top;\n",
              "    }\n",
              "\n",
              "    .dataframe thead th {\n",
              "        text-align: right;\n",
              "    }\n",
              "</style>\n",
              "<table border=\"1\" class=\"dataframe\">\n",
              "  <thead>\n",
              "    <tr style=\"text-align: right;\">\n",
              "      <th></th>\n",
              "      <th>age</th>\n",
              "      <th>fare</th>\n",
              "    </tr>\n",
              "  </thead>\n",
              "  <tbody>\n",
              "    <tr>\n",
              "      <th>0</th>\n",
              "      <td>22.0</td>\n",
              "      <td>7.2500</td>\n",
              "    </tr>\n",
              "    <tr>\n",
              "      <th>1</th>\n",
              "      <td>38.0</td>\n",
              "      <td>71.2833</td>\n",
              "    </tr>\n",
              "    <tr>\n",
              "      <th>2</th>\n",
              "      <td>26.0</td>\n",
              "      <td>7.9250</td>\n",
              "    </tr>\n",
              "    <tr>\n",
              "      <th>3</th>\n",
              "      <td>35.0</td>\n",
              "      <td>53.1000</td>\n",
              "    </tr>\n",
              "    <tr>\n",
              "      <th>4</th>\n",
              "      <td>35.0</td>\n",
              "      <td>8.0500</td>\n",
              "    </tr>\n",
              "  </tbody>\n",
              "</table>\n",
              "</div>"
            ],
            "text/plain": [
              "    age     fare\n",
              "0  22.0   7.2500\n",
              "1  38.0  71.2833\n",
              "2  26.0   7.9250\n",
              "3  35.0  53.1000\n",
              "4  35.0   8.0500"
            ]
          },
          "metadata": {},
          "execution_count": 11
        }
      ]
    },
    {
      "cell_type": "code",
      "metadata": {
        "colab": {
          "base_uri": "https://localhost:8080/"
        },
        "id": "nljZAIkOyohF",
        "outputId": "f71c0461-8b25-454c-8e3a-d7cce1c9ab82"
      },
      "source": [
        "def min_max(x):\n",
        "    return x.max() - x.min()\n",
        "\n",
        "result = df.apply(min_max)\n",
        "print(result)\n",
        "print()\n",
        "print(type(result))"
      ],
      "execution_count": 12,
      "outputs": [
        {
          "output_type": "stream",
          "name": "stdout",
          "text": [
            "age      79.5800\n",
            "fare    512.3292\n",
            "dtype: float64\n",
            "\n",
            "<class 'pandas.core.series.Series'>\n"
          ]
        }
      ]
    },
    {
      "cell_type": "markdown",
      "metadata": {
        "id": "Tu7WS_3PzPYN"
      },
      "source": [
        "#### 데이터프레임의 각 행에 함수 매핑\n",
        "\n",
        "데이터프레임 객체에 apply(axis=1) 메소드를 적용하면 데이터프레임의 각 행을 매핑 함수의 인지로 전달된다. 데이터프레임의 행 인덱스가 매핑 결과로 반환되는 시리즈의 인덱스가 된다. 시리즈의 인덱스에 매칭되는 데이터 값에는 각 행의 데이터를 함수에 적용한 리턴값을 가져온다.\n",
        "\n",
        "        데이터프레임의 행에 함수 매핑 : DataFrame.apply(매핑 함수, axis=1)"
      ]
    },
    {
      "cell_type": "code",
      "metadata": {
        "colab": {
          "base_uri": "https://localhost:8080/",
          "height": 203
        },
        "id": "jOT_pXMsz8OU",
        "outputId": "123c8bf2-3f4d-4c28-b403-2cb1985f0453"
      },
      "source": [
        "import seaborn as sns\n",
        "\n",
        "titanic = sns.load_dataset('titanic')\n",
        "df = titanic.loc[:, ['age', 'fare']]\n",
        "df['ten'] = 10\n",
        "df.head()"
      ],
      "execution_count": 13,
      "outputs": [
        {
          "output_type": "execute_result",
          "data": {
            "text/html": [
              "<div>\n",
              "<style scoped>\n",
              "    .dataframe tbody tr th:only-of-type {\n",
              "        vertical-align: middle;\n",
              "    }\n",
              "\n",
              "    .dataframe tbody tr th {\n",
              "        vertical-align: top;\n",
              "    }\n",
              "\n",
              "    .dataframe thead th {\n",
              "        text-align: right;\n",
              "    }\n",
              "</style>\n",
              "<table border=\"1\" class=\"dataframe\">\n",
              "  <thead>\n",
              "    <tr style=\"text-align: right;\">\n",
              "      <th></th>\n",
              "      <th>age</th>\n",
              "      <th>fare</th>\n",
              "      <th>ten</th>\n",
              "    </tr>\n",
              "  </thead>\n",
              "  <tbody>\n",
              "    <tr>\n",
              "      <th>0</th>\n",
              "      <td>22.0</td>\n",
              "      <td>7.2500</td>\n",
              "      <td>10</td>\n",
              "    </tr>\n",
              "    <tr>\n",
              "      <th>1</th>\n",
              "      <td>38.0</td>\n",
              "      <td>71.2833</td>\n",
              "      <td>10</td>\n",
              "    </tr>\n",
              "    <tr>\n",
              "      <th>2</th>\n",
              "      <td>26.0</td>\n",
              "      <td>7.9250</td>\n",
              "      <td>10</td>\n",
              "    </tr>\n",
              "    <tr>\n",
              "      <th>3</th>\n",
              "      <td>35.0</td>\n",
              "      <td>53.1000</td>\n",
              "      <td>10</td>\n",
              "    </tr>\n",
              "    <tr>\n",
              "      <th>4</th>\n",
              "      <td>35.0</td>\n",
              "      <td>8.0500</td>\n",
              "      <td>10</td>\n",
              "    </tr>\n",
              "  </tbody>\n",
              "</table>\n",
              "</div>"
            ],
            "text/plain": [
              "    age     fare  ten\n",
              "0  22.0   7.2500   10\n",
              "1  38.0  71.2833   10\n",
              "2  26.0   7.9250   10\n",
              "3  35.0  53.1000   10\n",
              "4  35.0   8.0500   10"
            ]
          },
          "metadata": {},
          "execution_count": 13
        }
      ]
    },
    {
      "cell_type": "code",
      "metadata": {
        "colab": {
          "base_uri": "https://localhost:8080/",
          "height": 203
        },
        "id": "O-rOiEjz0IE9",
        "outputId": "a7fe6ced-3786-4713-c722-cde022ca502a"
      },
      "source": [
        "def add_two_obj(a, b):\n",
        "    return a + b\n",
        "\n",
        "# 데이터프레임의 2개의 열에 적용\n",
        "df['add'] = df.apply(lambda x: add_two_obj(x['age'], x['ten']), axis=1)\n",
        "df.head()"
      ],
      "execution_count": 14,
      "outputs": [
        {
          "output_type": "execute_result",
          "data": {
            "text/html": [
              "<div>\n",
              "<style scoped>\n",
              "    .dataframe tbody tr th:only-of-type {\n",
              "        vertical-align: middle;\n",
              "    }\n",
              "\n",
              "    .dataframe tbody tr th {\n",
              "        vertical-align: top;\n",
              "    }\n",
              "\n",
              "    .dataframe thead th {\n",
              "        text-align: right;\n",
              "    }\n",
              "</style>\n",
              "<table border=\"1\" class=\"dataframe\">\n",
              "  <thead>\n",
              "    <tr style=\"text-align: right;\">\n",
              "      <th></th>\n",
              "      <th>age</th>\n",
              "      <th>fare</th>\n",
              "      <th>ten</th>\n",
              "      <th>add</th>\n",
              "    </tr>\n",
              "  </thead>\n",
              "  <tbody>\n",
              "    <tr>\n",
              "      <th>0</th>\n",
              "      <td>22.0</td>\n",
              "      <td>7.2500</td>\n",
              "      <td>10</td>\n",
              "      <td>32.0</td>\n",
              "    </tr>\n",
              "    <tr>\n",
              "      <th>1</th>\n",
              "      <td>38.0</td>\n",
              "      <td>71.2833</td>\n",
              "      <td>10</td>\n",
              "      <td>48.0</td>\n",
              "    </tr>\n",
              "    <tr>\n",
              "      <th>2</th>\n",
              "      <td>26.0</td>\n",
              "      <td>7.9250</td>\n",
              "      <td>10</td>\n",
              "      <td>36.0</td>\n",
              "    </tr>\n",
              "    <tr>\n",
              "      <th>3</th>\n",
              "      <td>35.0</td>\n",
              "      <td>53.1000</td>\n",
              "      <td>10</td>\n",
              "      <td>45.0</td>\n",
              "    </tr>\n",
              "    <tr>\n",
              "      <th>4</th>\n",
              "      <td>35.0</td>\n",
              "      <td>8.0500</td>\n",
              "      <td>10</td>\n",
              "      <td>45.0</td>\n",
              "    </tr>\n",
              "  </tbody>\n",
              "</table>\n",
              "</div>"
            ],
            "text/plain": [
              "    age     fare  ten   add\n",
              "0  22.0   7.2500   10  32.0\n",
              "1  38.0  71.2833   10  48.0\n",
              "2  26.0   7.9250   10  36.0\n",
              "3  35.0  53.1000   10  45.0\n",
              "4  35.0   8.0500   10  45.0"
            ]
          },
          "metadata": {},
          "execution_count": 14
        }
      ]
    },
    {
      "cell_type": "markdown",
      "metadata": {
        "id": "n726Sng70qUU"
      },
      "source": [
        "* 데이터프레임 객체에 함수 매핑\n",
        "\n",
        "데이터프레임 객체를 함수에 매핑하려면 pipe() 메소드를 활용한다. 이때 사용하는 함수가 반환하는 리턴값에 따라 pipe() 메소드가 반환하는 객체의 종류가 결정된다. 데이터프레임을 반환하는 경우, 시리즈를 반환하는 경우, 개별 값을 반환하는 경우로 나눌 수 있다.\n",
        "\n",
        "        DataFrame.pipe(매핑 함수)\n",
        "\n",
        "각 케이스에 대해 알아보자. 'titanic' 데이터셋에서 숫자 데이터로 구성된 2개의 열('age','fare')을 선택하여 만든 데이터프레임 df를 다시 사용한다. 데이터프레임을 인자로 받아 데이터프레임, 시리즈, 값을 반환하는 3개의 사용자 함수를 정의한다."
      ]
    },
    {
      "cell_type": "code",
      "metadata": {
        "colab": {
          "base_uri": "https://localhost:8080/",
          "height": 362
        },
        "id": "F97NCaC_2Vbl",
        "outputId": "780e32a1-bdf8-4321-c64e-3d2e29668d6a"
      },
      "source": [
        "import seaborn as sns\n",
        "\n",
        "titanic = sns.load_dataset('titanic')\n",
        "df = titanic.loc[:, ['age', 'fare']]\n",
        "\n",
        "# 각 열의 NaN 찾기 - 데이터프레임 전달하면 데이터프레임을 반환\n",
        "def missing_value(x):\n",
        "    return x.isnull()\n",
        "\n",
        "# 각 열의 NaN 개수 반환 - 데이터프레임 전달하면 시리즈 반환\n",
        "def missing_count(x):\n",
        "    return missing_value(x).sum()\n",
        "\n",
        "# 데이터프레임의 총 NaN 개수 - 데이터프레임 전달하면 값을 반환\n",
        "def total_number_missing(x):\n",
        "    return missing_count(x).sum()\n",
        "\n",
        "result_df = df.pipe(missing_value)\n",
        "display(result_df.head())\n",
        "print(type(result_df))\n",
        "print()\n",
        "\n",
        "result_series = df.pipe(missing_count)\n",
        "display(result_series)\n",
        "print(type(result_series))\n",
        "print()\n",
        "\n",
        "result_value = df.pipe(total_number_missing)\n",
        "display(result_value)\n",
        "print(type(result_value))"
      ],
      "execution_count": 15,
      "outputs": [
        {
          "output_type": "display_data",
          "data": {
            "text/html": [
              "<div>\n",
              "<style scoped>\n",
              "    .dataframe tbody tr th:only-of-type {\n",
              "        vertical-align: middle;\n",
              "    }\n",
              "\n",
              "    .dataframe tbody tr th {\n",
              "        vertical-align: top;\n",
              "    }\n",
              "\n",
              "    .dataframe thead th {\n",
              "        text-align: right;\n",
              "    }\n",
              "</style>\n",
              "<table border=\"1\" class=\"dataframe\">\n",
              "  <thead>\n",
              "    <tr style=\"text-align: right;\">\n",
              "      <th></th>\n",
              "      <th>age</th>\n",
              "      <th>fare</th>\n",
              "    </tr>\n",
              "  </thead>\n",
              "  <tbody>\n",
              "    <tr>\n",
              "      <th>0</th>\n",
              "      <td>False</td>\n",
              "      <td>False</td>\n",
              "    </tr>\n",
              "    <tr>\n",
              "      <th>1</th>\n",
              "      <td>False</td>\n",
              "      <td>False</td>\n",
              "    </tr>\n",
              "    <tr>\n",
              "      <th>2</th>\n",
              "      <td>False</td>\n",
              "      <td>False</td>\n",
              "    </tr>\n",
              "    <tr>\n",
              "      <th>3</th>\n",
              "      <td>False</td>\n",
              "      <td>False</td>\n",
              "    </tr>\n",
              "    <tr>\n",
              "      <th>4</th>\n",
              "      <td>False</td>\n",
              "      <td>False</td>\n",
              "    </tr>\n",
              "  </tbody>\n",
              "</table>\n",
              "</div>"
            ],
            "text/plain": [
              "     age   fare\n",
              "0  False  False\n",
              "1  False  False\n",
              "2  False  False\n",
              "3  False  False\n",
              "4  False  False"
            ]
          },
          "metadata": {}
        },
        {
          "output_type": "stream",
          "name": "stdout",
          "text": [
            "<class 'pandas.core.frame.DataFrame'>\n",
            "\n"
          ]
        },
        {
          "output_type": "display_data",
          "data": {
            "text/plain": [
              "age     177\n",
              "fare      0\n",
              "dtype: int64"
            ]
          },
          "metadata": {}
        },
        {
          "output_type": "stream",
          "name": "stdout",
          "text": [
            "<class 'pandas.core.series.Series'>\n",
            "\n"
          ]
        },
        {
          "output_type": "display_data",
          "data": {
            "text/plain": [
              "177"
            ]
          },
          "metadata": {}
        },
        {
          "output_type": "stream",
          "name": "stdout",
          "text": [
            "<class 'numpy.int64'>\n"
          ]
        }
      ]
    },
    {
      "cell_type": "markdown",
      "metadata": {
        "id": "sfHMYevp4Gcl"
      },
      "source": [
        "![image.png](data:image/png;base64,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)"
      ]
    },
    {
      "cell_type": "markdown",
      "metadata": {
        "id": "ZtxXpZ5fJVFj"
      },
      "source": [
        "# 열 재구성\n",
        "\n",
        "* 열 순서 변경\n",
        "\n",
        "        DataFrame[재구성한 열 이름의 리스트]\n",
        "    \n",
        "'titanic' 데이터셋의 일부분(5행 x 4열)을 선택하여 데이터프레임 df를 만들고 df를 출력해서 내용을 확인한다. 리스트 슬라이싱과 다르게 마지막 범위의 값이 포함된다."
      ]
    },
    {
      "cell_type": "code",
      "metadata": {
        "colab": {
          "base_uri": "https://localhost:8080/",
          "height": 203
        },
        "id": "AjcT8LciJrUj",
        "outputId": "4ef52b89-5c3a-457c-ea3c-8a61115460e3"
      },
      "source": [
        "import seaborn as sns\n",
        "\n",
        "titanic = sns.load_dataset('titanic')\n",
        "df = titanic.loc[0:4, 'survived':'age']\n",
        "df"
      ],
      "execution_count": 16,
      "outputs": [
        {
          "output_type": "execute_result",
          "data": {
            "text/html": [
              "<div>\n",
              "<style scoped>\n",
              "    .dataframe tbody tr th:only-of-type {\n",
              "        vertical-align: middle;\n",
              "    }\n",
              "\n",
              "    .dataframe tbody tr th {\n",
              "        vertical-align: top;\n",
              "    }\n",
              "\n",
              "    .dataframe thead th {\n",
              "        text-align: right;\n",
              "    }\n",
              "</style>\n",
              "<table border=\"1\" class=\"dataframe\">\n",
              "  <thead>\n",
              "    <tr style=\"text-align: right;\">\n",
              "      <th></th>\n",
              "      <th>survived</th>\n",
              "      <th>pclass</th>\n",
              "      <th>sex</th>\n",
              "      <th>age</th>\n",
              "    </tr>\n",
              "  </thead>\n",
              "  <tbody>\n",
              "    <tr>\n",
              "      <th>0</th>\n",
              "      <td>0</td>\n",
              "      <td>3</td>\n",
              "      <td>male</td>\n",
              "      <td>22.0</td>\n",
              "    </tr>\n",
              "    <tr>\n",
              "      <th>1</th>\n",
              "      <td>1</td>\n",
              "      <td>1</td>\n",
              "      <td>female</td>\n",
              "      <td>38.0</td>\n",
              "    </tr>\n",
              "    <tr>\n",
              "      <th>2</th>\n",
              "      <td>1</td>\n",
              "      <td>3</td>\n",
              "      <td>female</td>\n",
              "      <td>26.0</td>\n",
              "    </tr>\n",
              "    <tr>\n",
              "      <th>3</th>\n",
              "      <td>1</td>\n",
              "      <td>1</td>\n",
              "      <td>female</td>\n",
              "      <td>35.0</td>\n",
              "    </tr>\n",
              "    <tr>\n",
              "      <th>4</th>\n",
              "      <td>0</td>\n",
              "      <td>3</td>\n",
              "      <td>male</td>\n",
              "      <td>35.0</td>\n",
              "    </tr>\n",
              "  </tbody>\n",
              "</table>\n",
              "</div>"
            ],
            "text/plain": [
              "   survived  pclass     sex   age\n",
              "0         0       3    male  22.0\n",
              "1         1       1  female  38.0\n",
              "2         1       3  female  26.0\n",
              "3         1       1  female  35.0\n",
              "4         0       3    male  35.0"
            ]
          },
          "metadata": {},
          "execution_count": 16
        }
      ]
    },
    {
      "cell_type": "code",
      "metadata": {
        "colab": {
          "base_uri": "https://localhost:8080/"
        },
        "id": "4s_ycKhUJ7eq",
        "outputId": "0dad06d2-9e9c-4de2-876f-e8013a83f678"
      },
      "source": [
        "# 열 이름의 리스트 만들기\n",
        "columns = list(df.columns.values)\n",
        "columns"
      ],
      "execution_count": 17,
      "outputs": [
        {
          "output_type": "execute_result",
          "data": {
            "text/plain": [
              "['survived', 'pclass', 'sex', 'age']"
            ]
          },
          "metadata": {},
          "execution_count": 17
        }
      ]
    },
    {
      "cell_type": "markdown",
      "metadata": {
        "id": "m6Rw9QpGKCub"
      },
      "source": [
        "sorted() 함수에 columns 변수를 입력하면 열 이름이 알파벳 순으로 정렬된다. 정렬된 열 이름의 리스트를 이용하여 df에서 해당 열들을 선택한다."
      ]
    },
    {
      "cell_type": "code",
      "metadata": {
        "colab": {
          "base_uri": "https://localhost:8080/",
          "height": 203
        },
        "id": "pkb5LR6mKCZS",
        "outputId": "88b2a646-1ab4-4d08-bb77-7e5406f454c5"
      },
      "source": [
        "columns_sorted = sorted(columns)\n",
        "df_sorted = df[columns_sorted]\n",
        "df_sorted"
      ],
      "execution_count": 18,
      "outputs": [
        {
          "output_type": "execute_result",
          "data": {
            "text/html": [
              "<div>\n",
              "<style scoped>\n",
              "    .dataframe tbody tr th:only-of-type {\n",
              "        vertical-align: middle;\n",
              "    }\n",
              "\n",
              "    .dataframe tbody tr th {\n",
              "        vertical-align: top;\n",
              "    }\n",
              "\n",
              "    .dataframe thead th {\n",
              "        text-align: right;\n",
              "    }\n",
              "</style>\n",
              "<table border=\"1\" class=\"dataframe\">\n",
              "  <thead>\n",
              "    <tr style=\"text-align: right;\">\n",
              "      <th></th>\n",
              "      <th>age</th>\n",
              "      <th>pclass</th>\n",
              "      <th>sex</th>\n",
              "      <th>survived</th>\n",
              "    </tr>\n",
              "  </thead>\n",
              "  <tbody>\n",
              "    <tr>\n",
              "      <th>0</th>\n",
              "      <td>22.0</td>\n",
              "      <td>3</td>\n",
              "      <td>male</td>\n",
              "      <td>0</td>\n",
              "    </tr>\n",
              "    <tr>\n",
              "      <th>1</th>\n",
              "      <td>38.0</td>\n",
              "      <td>1</td>\n",
              "      <td>female</td>\n",
              "      <td>1</td>\n",
              "    </tr>\n",
              "    <tr>\n",
              "      <th>2</th>\n",
              "      <td>26.0</td>\n",
              "      <td>3</td>\n",
              "      <td>female</td>\n",
              "      <td>1</td>\n",
              "    </tr>\n",
              "    <tr>\n",
              "      <th>3</th>\n",
              "      <td>35.0</td>\n",
              "      <td>1</td>\n",
              "      <td>female</td>\n",
              "      <td>1</td>\n",
              "    </tr>\n",
              "    <tr>\n",
              "      <th>4</th>\n",
              "      <td>35.0</td>\n",
              "      <td>3</td>\n",
              "      <td>male</td>\n",
              "      <td>0</td>\n",
              "    </tr>\n",
              "  </tbody>\n",
              "</table>\n",
              "</div>"
            ],
            "text/plain": [
              "    age  pclass     sex  survived\n",
              "0  22.0       3    male         0\n",
              "1  38.0       1  female         1\n",
              "2  26.0       3  female         1\n",
              "3  35.0       1  female         1\n",
              "4  35.0       3    male         0"
            ]
          },
          "metadata": {},
          "execution_count": 18
        }
      ]
    },
    {
      "cell_type": "markdown",
      "metadata": {
        "id": "5WAmdLniKyAq"
      },
      "source": [
        "reversed() 함수에 columns 변수를 전달하면 기존 순서의 정반대 역순으로 정렬된다. 정렬 결과를 리스트로 반환하고 이 리스트로 데이터프레임 열 순서를 반영해보자"
      ]
    },
    {
      "cell_type": "code",
      "metadata": {
        "colab": {
          "base_uri": "https://localhost:8080/",
          "height": 203
        },
        "id": "8FWnMramKZRc",
        "outputId": "34371a32-f77c-4d25-d5e7-c68c90bb5429"
      },
      "source": [
        "columns_reversed = list(reversed(columns))\n",
        "df_reversed = df[columns_reversed]\n",
        "df_reversed"
      ],
      "execution_count": 19,
      "outputs": [
        {
          "output_type": "execute_result",
          "data": {
            "text/html": [
              "<div>\n",
              "<style scoped>\n",
              "    .dataframe tbody tr th:only-of-type {\n",
              "        vertical-align: middle;\n",
              "    }\n",
              "\n",
              "    .dataframe tbody tr th {\n",
              "        vertical-align: top;\n",
              "    }\n",
              "\n",
              "    .dataframe thead th {\n",
              "        text-align: right;\n",
              "    }\n",
              "</style>\n",
              "<table border=\"1\" class=\"dataframe\">\n",
              "  <thead>\n",
              "    <tr style=\"text-align: right;\">\n",
              "      <th></th>\n",
              "      <th>age</th>\n",
              "      <th>sex</th>\n",
              "      <th>pclass</th>\n",
              "      <th>survived</th>\n",
              "    </tr>\n",
              "  </thead>\n",
              "  <tbody>\n",
              "    <tr>\n",
              "      <th>0</th>\n",
              "      <td>22.0</td>\n",
              "      <td>male</td>\n",
              "      <td>3</td>\n",
              "      <td>0</td>\n",
              "    </tr>\n",
              "    <tr>\n",
              "      <th>1</th>\n",
              "      <td>38.0</td>\n",
              "      <td>female</td>\n",
              "      <td>1</td>\n",
              "      <td>1</td>\n",
              "    </tr>\n",
              "    <tr>\n",
              "      <th>2</th>\n",
              "      <td>26.0</td>\n",
              "      <td>female</td>\n",
              "      <td>3</td>\n",
              "      <td>1</td>\n",
              "    </tr>\n",
              "    <tr>\n",
              "      <th>3</th>\n",
              "      <td>35.0</td>\n",
              "      <td>female</td>\n",
              "      <td>1</td>\n",
              "      <td>1</td>\n",
              "    </tr>\n",
              "    <tr>\n",
              "      <th>4</th>\n",
              "      <td>35.0</td>\n",
              "      <td>male</td>\n",
              "      <td>3</td>\n",
              "      <td>0</td>\n",
              "    </tr>\n",
              "  </tbody>\n",
              "</table>\n",
              "</div>"
            ],
            "text/plain": [
              "    age     sex  pclass  survived\n",
              "0  22.0    male       3         0\n",
              "1  38.0  female       1         1\n",
              "2  26.0  female       3         1\n",
              "3  35.0  female       1         1\n",
              "4  35.0    male       3         0"
            ]
          },
          "metadata": {},
          "execution_count": 19
        }
      ]
    },
    {
      "cell_type": "markdown",
      "metadata": {
        "id": "nFFr-Da_K9Hx"
      },
      "source": [
        "임의의 순서로 열 이름을 재배치한 상태로 데이터프레임 df에서 각 열을 순서에 맞춰서 선택할 수 있다."
      ]
    },
    {
      "cell_type": "code",
      "metadata": {
        "colab": {
          "base_uri": "https://localhost:8080/",
          "height": 203
        },
        "id": "3AiSAeTYLFj6",
        "outputId": "1a770d78-a172-4220-bd6c-65d1405c7669"
      },
      "source": [
        "columns_customed = ['pclass', 'sex', 'age', 'survived']  \n",
        "df_customed = df[columns_customed]\n",
        "df_customed"
      ],
      "execution_count": 20,
      "outputs": [
        {
          "output_type": "execute_result",
          "data": {
            "text/html": [
              "<div>\n",
              "<style scoped>\n",
              "    .dataframe tbody tr th:only-of-type {\n",
              "        vertical-align: middle;\n",
              "    }\n",
              "\n",
              "    .dataframe tbody tr th {\n",
              "        vertical-align: top;\n",
              "    }\n",
              "\n",
              "    .dataframe thead th {\n",
              "        text-align: right;\n",
              "    }\n",
              "</style>\n",
              "<table border=\"1\" class=\"dataframe\">\n",
              "  <thead>\n",
              "    <tr style=\"text-align: right;\">\n",
              "      <th></th>\n",
              "      <th>pclass</th>\n",
              "      <th>sex</th>\n",
              "      <th>age</th>\n",
              "      <th>survived</th>\n",
              "    </tr>\n",
              "  </thead>\n",
              "  <tbody>\n",
              "    <tr>\n",
              "      <th>0</th>\n",
              "      <td>3</td>\n",
              "      <td>male</td>\n",
              "      <td>22.0</td>\n",
              "      <td>0</td>\n",
              "    </tr>\n",
              "    <tr>\n",
              "      <th>1</th>\n",
              "      <td>1</td>\n",
              "      <td>female</td>\n",
              "      <td>38.0</td>\n",
              "      <td>1</td>\n",
              "    </tr>\n",
              "    <tr>\n",
              "      <th>2</th>\n",
              "      <td>3</td>\n",
              "      <td>female</td>\n",
              "      <td>26.0</td>\n",
              "      <td>1</td>\n",
              "    </tr>\n",
              "    <tr>\n",
              "      <th>3</th>\n",
              "      <td>1</td>\n",
              "      <td>female</td>\n",
              "      <td>35.0</td>\n",
              "      <td>1</td>\n",
              "    </tr>\n",
              "    <tr>\n",
              "      <th>4</th>\n",
              "      <td>3</td>\n",
              "      <td>male</td>\n",
              "      <td>35.0</td>\n",
              "      <td>0</td>\n",
              "    </tr>\n",
              "  </tbody>\n",
              "</table>\n",
              "</div>"
            ],
            "text/plain": [
              "   pclass     sex   age  survived\n",
              "0       3    male  22.0         0\n",
              "1       1  female  38.0         1\n",
              "2       3  female  26.0         1\n",
              "3       1  female  35.0         1\n",
              "4       3    male  35.0         0"
            ]
          },
          "metadata": {},
          "execution_count": 20
        }
      ]
    },
    {
      "cell_type": "markdown",
      "metadata": {
        "id": "LjWB3CRALZXy"
      },
      "source": [
        "* 열 분리\n",
        "\n",
        "하나의 열이 여러가지 정보를 담고 있을 때 각 정보를 서로 분리해서 사용하는 경우가 있다. 어떤 열에 '연월일' 정보가 있을 땐 '연','월','일'을 구분해서 3개의 열을 만드는 것이나, 사람의 이름이 들어 있는 열을 '성'과 '이름'으로 구분하는 것을 예로 들 수 있다.\n",
        "\n",
        "시리즈의 str 속성으로 문자열 데이터에 접근하는 방법을 이용하여 '연월일'에서 '연','월','일'로 구분해보자."
      ]
    },
    {
      "cell_type": "code",
      "metadata": {
        "colab": {
          "base_uri": "https://localhost:8080/",
          "height": 344
        },
        "id": "8ueslFHcL2fx",
        "outputId": "a4a50d5c-03c5-4620-f367-7286dad5112b"
      },
      "source": [
        "import pandas as pd\n",
        "\n",
        "df = pd.read_excel('경로/주가데이터.xlsx', engine='openpyxl')\n",
        "display(df.head())\n",
        "print(df.dtypes)"
      ],
      "execution_count": 21,
      "outputs": [
        {
          "output_type": "display_data",
          "data": {
            "text/html": [
              "<div>\n",
              "<style scoped>\n",
              "    .dataframe tbody tr th:only-of-type {\n",
              "        vertical-align: middle;\n",
              "    }\n",
              "\n",
              "    .dataframe tbody tr th {\n",
              "        vertical-align: top;\n",
              "    }\n",
              "\n",
              "    .dataframe thead th {\n",
              "        text-align: right;\n",
              "    }\n",
              "</style>\n",
              "<table border=\"1\" class=\"dataframe\">\n",
              "  <thead>\n",
              "    <tr style=\"text-align: right;\">\n",
              "      <th></th>\n",
              "      <th>연월일</th>\n",
              "      <th>당일종가</th>\n",
              "      <th>전일종가</th>\n",
              "      <th>시가</th>\n",
              "      <th>고가</th>\n",
              "      <th>저가</th>\n",
              "      <th>거래량</th>\n",
              "    </tr>\n",
              "  </thead>\n",
              "  <tbody>\n",
              "    <tr>\n",
              "      <th>0</th>\n",
              "      <td>2018-07-02</td>\n",
              "      <td>10100</td>\n",
              "      <td>600</td>\n",
              "      <td>10850</td>\n",
              "      <td>10900</td>\n",
              "      <td>10000</td>\n",
              "      <td>137977</td>\n",
              "    </tr>\n",
              "    <tr>\n",
              "      <th>1</th>\n",
              "      <td>2018-06-29</td>\n",
              "      <td>10700</td>\n",
              "      <td>300</td>\n",
              "      <td>10550</td>\n",
              "      <td>10900</td>\n",
              "      <td>9990</td>\n",
              "      <td>170253</td>\n",
              "    </tr>\n",
              "    <tr>\n",
              "      <th>2</th>\n",
              "      <td>2018-06-28</td>\n",
              "      <td>10400</td>\n",
              "      <td>500</td>\n",
              "      <td>10900</td>\n",
              "      <td>10950</td>\n",
              "      <td>10150</td>\n",
              "      <td>155769</td>\n",
              "    </tr>\n",
              "    <tr>\n",
              "      <th>3</th>\n",
              "      <td>2018-06-27</td>\n",
              "      <td>10900</td>\n",
              "      <td>100</td>\n",
              "      <td>10800</td>\n",
              "      <td>11050</td>\n",
              "      <td>10500</td>\n",
              "      <td>133548</td>\n",
              "    </tr>\n",
              "    <tr>\n",
              "      <th>4</th>\n",
              "      <td>2018-06-26</td>\n",
              "      <td>10800</td>\n",
              "      <td>350</td>\n",
              "      <td>10900</td>\n",
              "      <td>11000</td>\n",
              "      <td>10700</td>\n",
              "      <td>63039</td>\n",
              "    </tr>\n",
              "  </tbody>\n",
              "</table>\n",
              "</div>"
            ],
            "text/plain": [
              "         연월일   당일종가  전일종가     시가     고가     저가     거래량\n",
              "0 2018-07-02  10100   600  10850  10900  10000  137977\n",
              "1 2018-06-29  10700   300  10550  10900   9990  170253\n",
              "2 2018-06-28  10400   500  10900  10950  10150  155769\n",
              "3 2018-06-27  10900   100  10800  11050  10500  133548\n",
              "4 2018-06-26  10800   350  10900  11000  10700   63039"
            ]
          },
          "metadata": {}
        },
        {
          "output_type": "stream",
          "name": "stdout",
          "text": [
            "연월일     datetime64[ns]\n",
            "당일종가             int64\n",
            "전일종가             int64\n",
            "시가               int64\n",
            "고가               int64\n",
            "저가               int64\n",
            "거래량              int64\n",
            "dtype: object\n"
          ]
        }
      ]
    },
    {
      "cell_type": "markdown",
      "metadata": {
        "id": "kj8Bx9siNVoj"
      },
      "source": [
        "astype() 메소드를 사용하여 '연월일' 열의 시간형 데이터를 문자열로 변경한다. split() 메소드를 사용하여 '-'를 기준으로 '연', '월', '일'로 분리하여 리스트로 정리한다."
      ]
    },
    {
      "cell_type": "code",
      "metadata": {
        "colab": {
          "base_uri": "https://localhost:8080/"
        },
        "id": "L8Erc5koNl2i",
        "outputId": "3d1f37e8-b2ab-4fa8-d9d6-0849d759927b"
      },
      "source": [
        "df['연월일'] = df['연월일'].astype('str')\n",
        "dates = df['연월일'].str.split('-')\n",
        "dates.head()"
      ],
      "execution_count": 22,
      "outputs": [
        {
          "output_type": "execute_result",
          "data": {
            "text/plain": [
              "0    [2018, 07, 02]\n",
              "1    [2018, 06, 29]\n",
              "2    [2018, 06, 28]\n",
              "3    [2018, 06, 27]\n",
              "4    [2018, 06, 26]\n",
              "Name: 연월일, dtype: object"
            ]
          },
          "metadata": {},
          "execution_count": 22
        }
      ]
    },
    {
      "cell_type": "markdown",
      "metadata": {
        "id": "WPg8Y_PVOWla"
      },
      "source": [
        "dates 변수에 저장된 문자열 리스트의 원소를 선택하기 위해 get() 메소드를 활용한다. 각 원소 리스트의 인덱스 0, 1, 2를 전달하여 '연', '월', '일' 데이터를 따로 선택할 수 있다. 순서대로 데이터프레임의 새로운 열로 추가한다.\n",
        "\n",
        "        Series.str.get(인덱스)"
      ]
    },
    {
      "cell_type": "code",
      "metadata": {
        "colab": {
          "base_uri": "https://localhost:8080/",
          "height": 203
        },
        "id": "chBqdB3EOoKj",
        "outputId": "471733fd-6d4f-490d-8e17-51d981b91e52"
      },
      "source": [
        "df['연'] = dates.str.get(0)\n",
        "df['월'] = dates.str.get(1)\n",
        "df['일'] = dates.str.get(2)\n",
        "df.head()"
      ],
      "execution_count": 23,
      "outputs": [
        {
          "output_type": "execute_result",
          "data": {
            "text/html": [
              "<div>\n",
              "<style scoped>\n",
              "    .dataframe tbody tr th:only-of-type {\n",
              "        vertical-align: middle;\n",
              "    }\n",
              "\n",
              "    .dataframe tbody tr th {\n",
              "        vertical-align: top;\n",
              "    }\n",
              "\n",
              "    .dataframe thead th {\n",
              "        text-align: right;\n",
              "    }\n",
              "</style>\n",
              "<table border=\"1\" class=\"dataframe\">\n",
              "  <thead>\n",
              "    <tr style=\"text-align: right;\">\n",
              "      <th></th>\n",
              "      <th>연월일</th>\n",
              "      <th>당일종가</th>\n",
              "      <th>전일종가</th>\n",
              "      <th>시가</th>\n",
              "      <th>고가</th>\n",
              "      <th>저가</th>\n",
              "      <th>거래량</th>\n",
              "      <th>연</th>\n",
              "      <th>월</th>\n",
              "      <th>일</th>\n",
              "    </tr>\n",
              "  </thead>\n",
              "  <tbody>\n",
              "    <tr>\n",
              "      <th>0</th>\n",
              "      <td>2018-07-02</td>\n",
              "      <td>10100</td>\n",
              "      <td>600</td>\n",
              "      <td>10850</td>\n",
              "      <td>10900</td>\n",
              "      <td>10000</td>\n",
              "      <td>137977</td>\n",
              "      <td>2018</td>\n",
              "      <td>07</td>\n",
              "      <td>02</td>\n",
              "    </tr>\n",
              "    <tr>\n",
              "      <th>1</th>\n",
              "      <td>2018-06-29</td>\n",
              "      <td>10700</td>\n",
              "      <td>300</td>\n",
              "      <td>10550</td>\n",
              "      <td>10900</td>\n",
              "      <td>9990</td>\n",
              "      <td>170253</td>\n",
              "      <td>2018</td>\n",
              "      <td>06</td>\n",
              "      <td>29</td>\n",
              "    </tr>\n",
              "    <tr>\n",
              "      <th>2</th>\n",
              "      <td>2018-06-28</td>\n",
              "      <td>10400</td>\n",
              "      <td>500</td>\n",
              "      <td>10900</td>\n",
              "      <td>10950</td>\n",
              "      <td>10150</td>\n",
              "      <td>155769</td>\n",
              "      <td>2018</td>\n",
              "      <td>06</td>\n",
              "      <td>28</td>\n",
              "    </tr>\n",
              "    <tr>\n",
              "      <th>3</th>\n",
              "      <td>2018-06-27</td>\n",
              "      <td>10900</td>\n",
              "      <td>100</td>\n",
              "      <td>10800</td>\n",
              "      <td>11050</td>\n",
              "      <td>10500</td>\n",
              "      <td>133548</td>\n",
              "      <td>2018</td>\n",
              "      <td>06</td>\n",
              "      <td>27</td>\n",
              "    </tr>\n",
              "    <tr>\n",
              "      <th>4</th>\n",
              "      <td>2018-06-26</td>\n",
              "      <td>10800</td>\n",
              "      <td>350</td>\n",
              "      <td>10900</td>\n",
              "      <td>11000</td>\n",
              "      <td>10700</td>\n",
              "      <td>63039</td>\n",
              "      <td>2018</td>\n",
              "      <td>06</td>\n",
              "      <td>26</td>\n",
              "    </tr>\n",
              "  </tbody>\n",
              "</table>\n",
              "</div>"
            ],
            "text/plain": [
              "          연월일   당일종가  전일종가     시가     고가     저가     거래량     연   월   일\n",
              "0  2018-07-02  10100   600  10850  10900  10000  137977  2018  07  02\n",
              "1  2018-06-29  10700   300  10550  10900   9990  170253  2018  06  29\n",
              "2  2018-06-28  10400   500  10900  10950  10150  155769  2018  06  28\n",
              "3  2018-06-27  10900   100  10800  11050  10500  133548  2018  06  27\n",
              "4  2018-06-26  10800   350  10900  11000  10700   63039  2018  06  26"
            ]
          },
          "metadata": {},
          "execution_count": 23
        }
      ]
    },
    {
      "cell_type": "markdown",
      "metadata": {
        "id": "sJZwcxB8O3tD"
      },
      "source": [
        "# 필터링\n",
        "\n",
        "시리즈 또는 데이터프레임의 데이터 중에서 특정 조건식을 만족하는 원소만 따로 추출하는 개념이다. 가장 대표적인 방법인 불린 인덱싱(boolean indexing)부터 알아보자."
      ]
    },
    {
      "cell_type": "markdown",
      "metadata": {
        "id": "C_NDcwhdPDWq"
      },
      "source": [
        "* 불린 인덱싱\n",
        "\n",
        "시리즈 객체에 어떤 조건식을 적용하면 각 원소에 대해 참/거짓을 판별하여 불린(참, 거짓)값으로 구성된 시리즈를 반환한다. 이때 참에 해당하는 데이터 값을 따로 선택할 수 있는데, 많은 데이터 중에서 어떤 조건을 만족하는 데이터만을 추출하는 필터링 기법의 한 유형이다.\n",
        "\n",
        "데이터프레임의 각 열은 시리즈 객체이므로, 조건식을 적용하면 각 원소가 조건을 만족하는지 여부를 값으로 표시하여 불린 시리즈를 만들 수 있다. 이 불린 시리즈를 데이터 프레임에 대입하면 조건을 만족하는 행들만 선택할 수 있다.\n",
        "\n",
        "        DataFrame[불린 시리즈]"
      ]
    },
    {
      "cell_type": "code",
      "metadata": {
        "colab": {
          "base_uri": "https://localhost:8080/",
          "height": 223
        },
        "id": "lR2XmceNO3EL",
        "outputId": "2bf0a24f-f3cf-44a2-d75a-e42779ccb9a3"
      },
      "source": [
        "import seaborn as sns\n",
        "\n",
        "titanic = sns.load_dataset('titanic')\n",
        "\n",
        "# 나이가 10대인 승객만 따로 선택\n",
        "mask1 = (10 <= titanic.age) & (titanic.age < 20)\n",
        "df_teen = titanic.loc[mask1, :]\n",
        "df_teen.head()"
      ],
      "execution_count": 24,
      "outputs": [
        {
          "output_type": "execute_result",
          "data": {
            "text/html": [
              "<div>\n",
              "<style scoped>\n",
              "    .dataframe tbody tr th:only-of-type {\n",
              "        vertical-align: middle;\n",
              "    }\n",
              "\n",
              "    .dataframe tbody tr th {\n",
              "        vertical-align: top;\n",
              "    }\n",
              "\n",
              "    .dataframe thead th {\n",
              "        text-align: right;\n",
              "    }\n",
              "</style>\n",
              "<table border=\"1\" class=\"dataframe\">\n",
              "  <thead>\n",
              "    <tr style=\"text-align: right;\">\n",
              "      <th></th>\n",
              "      <th>survived</th>\n",
              "      <th>pclass</th>\n",
              "      <th>sex</th>\n",
              "      <th>age</th>\n",
              "      <th>sibsp</th>\n",
              "      <th>parch</th>\n",
              "      <th>fare</th>\n",
              "      <th>embarked</th>\n",
              "      <th>class</th>\n",
              "      <th>who</th>\n",
              "      <th>adult_male</th>\n",
              "      <th>deck</th>\n",
              "      <th>embark_town</th>\n",
              "      <th>alive</th>\n",
              "      <th>alone</th>\n",
              "    </tr>\n",
              "  </thead>\n",
              "  <tbody>\n",
              "    <tr>\n",
              "      <th>9</th>\n",
              "      <td>1</td>\n",
              "      <td>2</td>\n",
              "      <td>female</td>\n",
              "      <td>14.0</td>\n",
              "      <td>1</td>\n",
              "      <td>0</td>\n",
              "      <td>30.0708</td>\n",
              "      <td>C</td>\n",
              "      <td>Second</td>\n",
              "      <td>child</td>\n",
              "      <td>False</td>\n",
              "      <td>NaN</td>\n",
              "      <td>Cherbourg</td>\n",
              "      <td>yes</td>\n",
              "      <td>False</td>\n",
              "    </tr>\n",
              "    <tr>\n",
              "      <th>14</th>\n",
              "      <td>0</td>\n",
              "      <td>3</td>\n",
              "      <td>female</td>\n",
              "      <td>14.0</td>\n",
              "      <td>0</td>\n",
              "      <td>0</td>\n",
              "      <td>7.8542</td>\n",
              "      <td>S</td>\n",
              "      <td>Third</td>\n",
              "      <td>child</td>\n",
              "      <td>False</td>\n",
              "      <td>NaN</td>\n",
              "      <td>Southampton</td>\n",
              "      <td>no</td>\n",
              "      <td>True</td>\n",
              "    </tr>\n",
              "    <tr>\n",
              "      <th>22</th>\n",
              "      <td>1</td>\n",
              "      <td>3</td>\n",
              "      <td>female</td>\n",
              "      <td>15.0</td>\n",
              "      <td>0</td>\n",
              "      <td>0</td>\n",
              "      <td>8.0292</td>\n",
              "      <td>Q</td>\n",
              "      <td>Third</td>\n",
              "      <td>child</td>\n",
              "      <td>False</td>\n",
              "      <td>NaN</td>\n",
              "      <td>Queenstown</td>\n",
              "      <td>yes</td>\n",
              "      <td>True</td>\n",
              "    </tr>\n",
              "    <tr>\n",
              "      <th>27</th>\n",
              "      <td>0</td>\n",
              "      <td>1</td>\n",
              "      <td>male</td>\n",
              "      <td>19.0</td>\n",
              "      <td>3</td>\n",
              "      <td>2</td>\n",
              "      <td>263.0000</td>\n",
              "      <td>S</td>\n",
              "      <td>First</td>\n",
              "      <td>man</td>\n",
              "      <td>True</td>\n",
              "      <td>C</td>\n",
              "      <td>Southampton</td>\n",
              "      <td>no</td>\n",
              "      <td>False</td>\n",
              "    </tr>\n",
              "    <tr>\n",
              "      <th>38</th>\n",
              "      <td>0</td>\n",
              "      <td>3</td>\n",
              "      <td>female</td>\n",
              "      <td>18.0</td>\n",
              "      <td>2</td>\n",
              "      <td>0</td>\n",
              "      <td>18.0000</td>\n",
              "      <td>S</td>\n",
              "      <td>Third</td>\n",
              "      <td>woman</td>\n",
              "      <td>False</td>\n",
              "      <td>NaN</td>\n",
              "      <td>Southampton</td>\n",
              "      <td>no</td>\n",
              "      <td>False</td>\n",
              "    </tr>\n",
              "  </tbody>\n",
              "</table>\n",
              "</div>"
            ],
            "text/plain": [
              "    survived  pclass     sex   age  ...  deck  embark_town  alive  alone\n",
              "9          1       2  female  14.0  ...   NaN    Cherbourg    yes  False\n",
              "14         0       3  female  14.0  ...   NaN  Southampton     no   True\n",
              "22         1       3  female  15.0  ...   NaN   Queenstown    yes   True\n",
              "27         0       1    male  19.0  ...     C  Southampton     no  False\n",
              "38         0       3  female  18.0  ...   NaN  Southampton     no  False\n",
              "\n",
              "[5 rows x 15 columns]"
            ]
          },
          "metadata": {},
          "execution_count": 24
        }
      ]
    },
    {
      "cell_type": "code",
      "metadata": {
        "colab": {
          "base_uri": "https://localhost:8080/",
          "height": 223
        },
        "id": "_UlMTnbTQzKf",
        "outputId": "4cc9d996-a057-4f30-cec7-6ec7b349fb2d"
      },
      "source": [
        "# 나이가 10세 미만(0~9)이고 여성인 승객만 따로 선택\n",
        "mask2 = (titanic.age < 10) & (titanic.sex == \"female\")\n",
        "df_female_under10 = titanic.loc[mask2, :]\n",
        "df_female_under10.head()"
      ],
      "execution_count": 25,
      "outputs": [
        {
          "output_type": "execute_result",
          "data": {
            "text/html": [
              "<div>\n",
              "<style scoped>\n",
              "    .dataframe tbody tr th:only-of-type {\n",
              "        vertical-align: middle;\n",
              "    }\n",
              "\n",
              "    .dataframe tbody tr th {\n",
              "        vertical-align: top;\n",
              "    }\n",
              "\n",
              "    .dataframe thead th {\n",
              "        text-align: right;\n",
              "    }\n",
              "</style>\n",
              "<table border=\"1\" class=\"dataframe\">\n",
              "  <thead>\n",
              "    <tr style=\"text-align: right;\">\n",
              "      <th></th>\n",
              "      <th>survived</th>\n",
              "      <th>pclass</th>\n",
              "      <th>sex</th>\n",
              "      <th>age</th>\n",
              "      <th>sibsp</th>\n",
              "      <th>parch</th>\n",
              "      <th>fare</th>\n",
              "      <th>embarked</th>\n",
              "      <th>class</th>\n",
              "      <th>who</th>\n",
              "      <th>adult_male</th>\n",
              "      <th>deck</th>\n",
              "      <th>embark_town</th>\n",
              "      <th>alive</th>\n",
              "      <th>alone</th>\n",
              "    </tr>\n",
              "  </thead>\n",
              "  <tbody>\n",
              "    <tr>\n",
              "      <th>10</th>\n",
              "      <td>1</td>\n",
              "      <td>3</td>\n",
              "      <td>female</td>\n",
              "      <td>4.0</td>\n",
              "      <td>1</td>\n",
              "      <td>1</td>\n",
              "      <td>16.7000</td>\n",
              "      <td>S</td>\n",
              "      <td>Third</td>\n",
              "      <td>child</td>\n",
              "      <td>False</td>\n",
              "      <td>G</td>\n",
              "      <td>Southampton</td>\n",
              "      <td>yes</td>\n",
              "      <td>False</td>\n",
              "    </tr>\n",
              "    <tr>\n",
              "      <th>24</th>\n",
              "      <td>0</td>\n",
              "      <td>3</td>\n",
              "      <td>female</td>\n",
              "      <td>8.0</td>\n",
              "      <td>3</td>\n",
              "      <td>1</td>\n",
              "      <td>21.0750</td>\n",
              "      <td>S</td>\n",
              "      <td>Third</td>\n",
              "      <td>child</td>\n",
              "      <td>False</td>\n",
              "      <td>NaN</td>\n",
              "      <td>Southampton</td>\n",
              "      <td>no</td>\n",
              "      <td>False</td>\n",
              "    </tr>\n",
              "    <tr>\n",
              "      <th>43</th>\n",
              "      <td>1</td>\n",
              "      <td>2</td>\n",
              "      <td>female</td>\n",
              "      <td>3.0</td>\n",
              "      <td>1</td>\n",
              "      <td>2</td>\n",
              "      <td>41.5792</td>\n",
              "      <td>C</td>\n",
              "      <td>Second</td>\n",
              "      <td>child</td>\n",
              "      <td>False</td>\n",
              "      <td>NaN</td>\n",
              "      <td>Cherbourg</td>\n",
              "      <td>yes</td>\n",
              "      <td>False</td>\n",
              "    </tr>\n",
              "    <tr>\n",
              "      <th>58</th>\n",
              "      <td>1</td>\n",
              "      <td>2</td>\n",
              "      <td>female</td>\n",
              "      <td>5.0</td>\n",
              "      <td>1</td>\n",
              "      <td>2</td>\n",
              "      <td>27.7500</td>\n",
              "      <td>S</td>\n",
              "      <td>Second</td>\n",
              "      <td>child</td>\n",
              "      <td>False</td>\n",
              "      <td>NaN</td>\n",
              "      <td>Southampton</td>\n",
              "      <td>yes</td>\n",
              "      <td>False</td>\n",
              "    </tr>\n",
              "    <tr>\n",
              "      <th>119</th>\n",
              "      <td>0</td>\n",
              "      <td>3</td>\n",
              "      <td>female</td>\n",
              "      <td>2.0</td>\n",
              "      <td>4</td>\n",
              "      <td>2</td>\n",
              "      <td>31.2750</td>\n",
              "      <td>S</td>\n",
              "      <td>Third</td>\n",
              "      <td>child</td>\n",
              "      <td>False</td>\n",
              "      <td>NaN</td>\n",
              "      <td>Southampton</td>\n",
              "      <td>no</td>\n",
              "      <td>False</td>\n",
              "    </tr>\n",
              "  </tbody>\n",
              "</table>\n",
              "</div>"
            ],
            "text/plain": [
              "     survived  pclass     sex  age  ...  deck  embark_town  alive  alone\n",
              "10          1       3  female  4.0  ...     G  Southampton    yes  False\n",
              "24          0       3  female  8.0  ...   NaN  Southampton     no  False\n",
              "43          1       2  female  3.0  ...   NaN    Cherbourg    yes  False\n",
              "58          1       2  female  5.0  ...   NaN  Southampton    yes  False\n",
              "119         0       3  female  2.0  ...   NaN  Southampton     no  False\n",
              "\n",
              "[5 rows x 15 columns]"
            ]
          },
          "metadata": {},
          "execution_count": 25
        }
      ]
    },
    {
      "cell_type": "code",
      "metadata": {
        "colab": {
          "base_uri": "https://localhost:8080/",
          "height": 203
        },
        "id": "h8C5Y4ANRTi4",
        "outputId": "284ac10e-4194-4295-dd1f-747012e2e711"
      },
      "source": [
        "# 나이가 10세 미만(0~9) 또는 60세 이상인 승객의 age, sex, alone 열만 선택\n",
        "mask3 = (titanic.age < 10) | (titanic.age >= 60)\n",
        "df_under10_moerthan60 = titanic.loc[mask3, ['age','sex','alone']]\n",
        "df_under10_moerthan60.head()"
      ],
      "execution_count": 26,
      "outputs": [
        {
          "output_type": "execute_result",
          "data": {
            "text/html": [
              "<div>\n",
              "<style scoped>\n",
              "    .dataframe tbody tr th:only-of-type {\n",
              "        vertical-align: middle;\n",
              "    }\n",
              "\n",
              "    .dataframe tbody tr th {\n",
              "        vertical-align: top;\n",
              "    }\n",
              "\n",
              "    .dataframe thead th {\n",
              "        text-align: right;\n",
              "    }\n",
              "</style>\n",
              "<table border=\"1\" class=\"dataframe\">\n",
              "  <thead>\n",
              "    <tr style=\"text-align: right;\">\n",
              "      <th></th>\n",
              "      <th>age</th>\n",
              "      <th>sex</th>\n",
              "      <th>alone</th>\n",
              "    </tr>\n",
              "  </thead>\n",
              "  <tbody>\n",
              "    <tr>\n",
              "      <th>7</th>\n",
              "      <td>2.0</td>\n",
              "      <td>male</td>\n",
              "      <td>False</td>\n",
              "    </tr>\n",
              "    <tr>\n",
              "      <th>10</th>\n",
              "      <td>4.0</td>\n",
              "      <td>female</td>\n",
              "      <td>False</td>\n",
              "    </tr>\n",
              "    <tr>\n",
              "      <th>16</th>\n",
              "      <td>2.0</td>\n",
              "      <td>male</td>\n",
              "      <td>False</td>\n",
              "    </tr>\n",
              "    <tr>\n",
              "      <th>24</th>\n",
              "      <td>8.0</td>\n",
              "      <td>female</td>\n",
              "      <td>False</td>\n",
              "    </tr>\n",
              "    <tr>\n",
              "      <th>33</th>\n",
              "      <td>66.0</td>\n",
              "      <td>male</td>\n",
              "      <td>True</td>\n",
              "    </tr>\n",
              "  </tbody>\n",
              "</table>\n",
              "</div>"
            ],
            "text/plain": [
              "     age     sex  alone\n",
              "7    2.0    male  False\n",
              "10   4.0  female  False\n",
              "16   2.0    male  False\n",
              "24   8.0  female  False\n",
              "33  66.0    male   True"
            ]
          },
          "metadata": {},
          "execution_count": 26
        }
      ]
    },
    {
      "cell_type": "markdown",
      "metadata": {
        "id": "M3jgzqkkR0t_"
      },
      "source": [
        "* isin() 메소드 활용\n",
        "\n",
        "데이터프레임의 열에 isin() 메소드를 적용하면 특정 값을 가진 행들을 따로 추출할 수 있다. 이때 isin() 메소드에 데이터프레임의 열에서 추출하려는 값들로 만든 리스트를 전달한다.\n",
        "\n",
        "        DataFrame.isin(추출 값의 리스트)\n",
        "\n",
        "'titanic' 데이터셋의 'sibsp' 열의 값이 3, 4, 5 중에서 하나인 행들을 추출해본다. 'sibsp'열은 함께 탑승한 형제 또는 배우자의 수를 나타낸다. 불린 인덱싱과 비교하여 살펴보자."
      ]
    },
    {
      "cell_type": "code",
      "metadata": {
        "colab": {
          "base_uri": "https://localhost:8080/",
          "height": 223
        },
        "id": "EgIzyk9jSfVx",
        "outputId": "a585d503-2229-4861-9208-d467a360976a"
      },
      "source": [
        "import seaborn as sns\n",
        "import pandas as pd\n",
        "\n",
        "titanic = sns.load_dataset('titanic')\n",
        "\n",
        "# pd.set_option('display.max_columns', 10)\n",
        "\n",
        "# 함께 탑승한 형제 또는 배우자의 수가 3, 4, 5인 승객만 따로 추출 - 불린 인덱싱\n",
        "mask3 = titanic['sibsp'] == 3\n",
        "mask4 = titanic['sibsp'] == 4\n",
        "mask5 = titanic['sibsp'] == 5\n",
        "df_boolean = titanic[mask3 | mask4 | mask5]\n",
        "df_boolean.head()"
      ],
      "execution_count": 27,
      "outputs": [
        {
          "output_type": "execute_result",
          "data": {
            "text/html": [
              "<div>\n",
              "<style scoped>\n",
              "    .dataframe tbody tr th:only-of-type {\n",
              "        vertical-align: middle;\n",
              "    }\n",
              "\n",
              "    .dataframe tbody tr th {\n",
              "        vertical-align: top;\n",
              "    }\n",
              "\n",
              "    .dataframe thead th {\n",
              "        text-align: right;\n",
              "    }\n",
              "</style>\n",
              "<table border=\"1\" class=\"dataframe\">\n",
              "  <thead>\n",
              "    <tr style=\"text-align: right;\">\n",
              "      <th></th>\n",
              "      <th>survived</th>\n",
              "      <th>pclass</th>\n",
              "      <th>sex</th>\n",
              "      <th>age</th>\n",
              "      <th>sibsp</th>\n",
              "      <th>parch</th>\n",
              "      <th>fare</th>\n",
              "      <th>embarked</th>\n",
              "      <th>class</th>\n",
              "      <th>who</th>\n",
              "      <th>adult_male</th>\n",
              "      <th>deck</th>\n",
              "      <th>embark_town</th>\n",
              "      <th>alive</th>\n",
              "      <th>alone</th>\n",
              "    </tr>\n",
              "  </thead>\n",
              "  <tbody>\n",
              "    <tr>\n",
              "      <th>7</th>\n",
              "      <td>0</td>\n",
              "      <td>3</td>\n",
              "      <td>male</td>\n",
              "      <td>2.0</td>\n",
              "      <td>3</td>\n",
              "      <td>1</td>\n",
              "      <td>21.0750</td>\n",
              "      <td>S</td>\n",
              "      <td>Third</td>\n",
              "      <td>child</td>\n",
              "      <td>False</td>\n",
              "      <td>NaN</td>\n",
              "      <td>Southampton</td>\n",
              "      <td>no</td>\n",
              "      <td>False</td>\n",
              "    </tr>\n",
              "    <tr>\n",
              "      <th>16</th>\n",
              "      <td>0</td>\n",
              "      <td>3</td>\n",
              "      <td>male</td>\n",
              "      <td>2.0</td>\n",
              "      <td>4</td>\n",
              "      <td>1</td>\n",
              "      <td>29.1250</td>\n",
              "      <td>Q</td>\n",
              "      <td>Third</td>\n",
              "      <td>child</td>\n",
              "      <td>False</td>\n",
              "      <td>NaN</td>\n",
              "      <td>Queenstown</td>\n",
              "      <td>no</td>\n",
              "      <td>False</td>\n",
              "    </tr>\n",
              "    <tr>\n",
              "      <th>24</th>\n",
              "      <td>0</td>\n",
              "      <td>3</td>\n",
              "      <td>female</td>\n",
              "      <td>8.0</td>\n",
              "      <td>3</td>\n",
              "      <td>1</td>\n",
              "      <td>21.0750</td>\n",
              "      <td>S</td>\n",
              "      <td>Third</td>\n",
              "      <td>child</td>\n",
              "      <td>False</td>\n",
              "      <td>NaN</td>\n",
              "      <td>Southampton</td>\n",
              "      <td>no</td>\n",
              "      <td>False</td>\n",
              "    </tr>\n",
              "    <tr>\n",
              "      <th>27</th>\n",
              "      <td>0</td>\n",
              "      <td>1</td>\n",
              "      <td>male</td>\n",
              "      <td>19.0</td>\n",
              "      <td>3</td>\n",
              "      <td>2</td>\n",
              "      <td>263.0000</td>\n",
              "      <td>S</td>\n",
              "      <td>First</td>\n",
              "      <td>man</td>\n",
              "      <td>True</td>\n",
              "      <td>C</td>\n",
              "      <td>Southampton</td>\n",
              "      <td>no</td>\n",
              "      <td>False</td>\n",
              "    </tr>\n",
              "    <tr>\n",
              "      <th>50</th>\n",
              "      <td>0</td>\n",
              "      <td>3</td>\n",
              "      <td>male</td>\n",
              "      <td>7.0</td>\n",
              "      <td>4</td>\n",
              "      <td>1</td>\n",
              "      <td>39.6875</td>\n",
              "      <td>S</td>\n",
              "      <td>Third</td>\n",
              "      <td>child</td>\n",
              "      <td>False</td>\n",
              "      <td>NaN</td>\n",
              "      <td>Southampton</td>\n",
              "      <td>no</td>\n",
              "      <td>False</td>\n",
              "    </tr>\n",
              "  </tbody>\n",
              "</table>\n",
              "</div>"
            ],
            "text/plain": [
              "    survived  pclass     sex   age  ...  deck  embark_town  alive  alone\n",
              "7          0       3    male   2.0  ...   NaN  Southampton     no  False\n",
              "16         0       3    male   2.0  ...   NaN   Queenstown     no  False\n",
              "24         0       3  female   8.0  ...   NaN  Southampton     no  False\n",
              "27         0       1    male  19.0  ...     C  Southampton     no  False\n",
              "50         0       3    male   7.0  ...   NaN  Southampton     no  False\n",
              "\n",
              "[5 rows x 15 columns]"
            ]
          },
          "metadata": {},
          "execution_count": 27
        }
      ]
    },
    {
      "cell_type": "code",
      "metadata": {
        "colab": {
          "base_uri": "https://localhost:8080/",
          "height": 223
        },
        "id": "fnQEk3gXUp8e",
        "outputId": "58e558b2-11eb-4df7-9eb5-736fc401e40b"
      },
      "source": [
        "mask = (titanic['sibsp'] == 3) | (titanic['sibsp'] == 4) | (titanic['sibsp'] == 5)\n",
        "df_boolean = titanic[mask]\n",
        "df_boolean.head()"
      ],
      "execution_count": 28,
      "outputs": [
        {
          "output_type": "execute_result",
          "data": {
            "text/html": [
              "<div>\n",
              "<style scoped>\n",
              "    .dataframe tbody tr th:only-of-type {\n",
              "        vertical-align: middle;\n",
              "    }\n",
              "\n",
              "    .dataframe tbody tr th {\n",
              "        vertical-align: top;\n",
              "    }\n",
              "\n",
              "    .dataframe thead th {\n",
              "        text-align: right;\n",
              "    }\n",
              "</style>\n",
              "<table border=\"1\" class=\"dataframe\">\n",
              "  <thead>\n",
              "    <tr style=\"text-align: right;\">\n",
              "      <th></th>\n",
              "      <th>survived</th>\n",
              "      <th>pclass</th>\n",
              "      <th>sex</th>\n",
              "      <th>age</th>\n",
              "      <th>sibsp</th>\n",
              "      <th>parch</th>\n",
              "      <th>fare</th>\n",
              "      <th>embarked</th>\n",
              "      <th>class</th>\n",
              "      <th>who</th>\n",
              "      <th>adult_male</th>\n",
              "      <th>deck</th>\n",
              "      <th>embark_town</th>\n",
              "      <th>alive</th>\n",
              "      <th>alone</th>\n",
              "    </tr>\n",
              "  </thead>\n",
              "  <tbody>\n",
              "    <tr>\n",
              "      <th>7</th>\n",
              "      <td>0</td>\n",
              "      <td>3</td>\n",
              "      <td>male</td>\n",
              "      <td>2.0</td>\n",
              "      <td>3</td>\n",
              "      <td>1</td>\n",
              "      <td>21.0750</td>\n",
              "      <td>S</td>\n",
              "      <td>Third</td>\n",
              "      <td>child</td>\n",
              "      <td>False</td>\n",
              "      <td>NaN</td>\n",
              "      <td>Southampton</td>\n",
              "      <td>no</td>\n",
              "      <td>False</td>\n",
              "    </tr>\n",
              "    <tr>\n",
              "      <th>16</th>\n",
              "      <td>0</td>\n",
              "      <td>3</td>\n",
              "      <td>male</td>\n",
              "      <td>2.0</td>\n",
              "      <td>4</td>\n",
              "      <td>1</td>\n",
              "      <td>29.1250</td>\n",
              "      <td>Q</td>\n",
              "      <td>Third</td>\n",
              "      <td>child</td>\n",
              "      <td>False</td>\n",
              "      <td>NaN</td>\n",
              "      <td>Queenstown</td>\n",
              "      <td>no</td>\n",
              "      <td>False</td>\n",
              "    </tr>\n",
              "    <tr>\n",
              "      <th>24</th>\n",
              "      <td>0</td>\n",
              "      <td>3</td>\n",
              "      <td>female</td>\n",
              "      <td>8.0</td>\n",
              "      <td>3</td>\n",
              "      <td>1</td>\n",
              "      <td>21.0750</td>\n",
              "      <td>S</td>\n",
              "      <td>Third</td>\n",
              "      <td>child</td>\n",
              "      <td>False</td>\n",
              "      <td>NaN</td>\n",
              "      <td>Southampton</td>\n",
              "      <td>no</td>\n",
              "      <td>False</td>\n",
              "    </tr>\n",
              "    <tr>\n",
              "      <th>27</th>\n",
              "      <td>0</td>\n",
              "      <td>1</td>\n",
              "      <td>male</td>\n",
              "      <td>19.0</td>\n",
              "      <td>3</td>\n",
              "      <td>2</td>\n",
              "      <td>263.0000</td>\n",
              "      <td>S</td>\n",
              "      <td>First</td>\n",
              "      <td>man</td>\n",
              "      <td>True</td>\n",
              "      <td>C</td>\n",
              "      <td>Southampton</td>\n",
              "      <td>no</td>\n",
              "      <td>False</td>\n",
              "    </tr>\n",
              "    <tr>\n",
              "      <th>50</th>\n",
              "      <td>0</td>\n",
              "      <td>3</td>\n",
              "      <td>male</td>\n",
              "      <td>7.0</td>\n",
              "      <td>4</td>\n",
              "      <td>1</td>\n",
              "      <td>39.6875</td>\n",
              "      <td>S</td>\n",
              "      <td>Third</td>\n",
              "      <td>child</td>\n",
              "      <td>False</td>\n",
              "      <td>NaN</td>\n",
              "      <td>Southampton</td>\n",
              "      <td>no</td>\n",
              "      <td>False</td>\n",
              "    </tr>\n",
              "  </tbody>\n",
              "</table>\n",
              "</div>"
            ],
            "text/plain": [
              "    survived  pclass     sex   age  ...  deck  embark_town  alive  alone\n",
              "7          0       3    male   2.0  ...   NaN  Southampton     no  False\n",
              "16         0       3    male   2.0  ...   NaN   Queenstown     no  False\n",
              "24         0       3  female   8.0  ...   NaN  Southampton     no  False\n",
              "27         0       1    male  19.0  ...     C  Southampton     no  False\n",
              "50         0       3    male   7.0  ...   NaN  Southampton     no  False\n",
              "\n",
              "[5 rows x 15 columns]"
            ]
          },
          "metadata": {},
          "execution_count": 28
        }
      ]
    },
    {
      "cell_type": "code",
      "metadata": {
        "colab": {
          "base_uri": "https://localhost:8080/",
          "height": 223
        },
        "id": "AHD3nvfsU7Yu",
        "outputId": "e2faab20-6204-43c0-ea8d-6655618cd74c"
      },
      "source": [
        "# isin() 메소드 활용\n",
        "isin_filter = titanic['sibsp'].isin([3, 4, 5])\n",
        "df_isin = titanic[isin_filter]\n",
        "df_isin.head()"
      ],
      "execution_count": 29,
      "outputs": [
        {
          "output_type": "execute_result",
          "data": {
            "text/html": [
              "<div>\n",
              "<style scoped>\n",
              "    .dataframe tbody tr th:only-of-type {\n",
              "        vertical-align: middle;\n",
              "    }\n",
              "\n",
              "    .dataframe tbody tr th {\n",
              "        vertical-align: top;\n",
              "    }\n",
              "\n",
              "    .dataframe thead th {\n",
              "        text-align: right;\n",
              "    }\n",
              "</style>\n",
              "<table border=\"1\" class=\"dataframe\">\n",
              "  <thead>\n",
              "    <tr style=\"text-align: right;\">\n",
              "      <th></th>\n",
              "      <th>survived</th>\n",
              "      <th>pclass</th>\n",
              "      <th>sex</th>\n",
              "      <th>age</th>\n",
              "      <th>sibsp</th>\n",
              "      <th>parch</th>\n",
              "      <th>fare</th>\n",
              "      <th>embarked</th>\n",
              "      <th>class</th>\n",
              "      <th>who</th>\n",
              "      <th>adult_male</th>\n",
              "      <th>deck</th>\n",
              "      <th>embark_town</th>\n",
              "      <th>alive</th>\n",
              "      <th>alone</th>\n",
              "    </tr>\n",
              "  </thead>\n",
              "  <tbody>\n",
              "    <tr>\n",
              "      <th>7</th>\n",
              "      <td>0</td>\n",
              "      <td>3</td>\n",
              "      <td>male</td>\n",
              "      <td>2.0</td>\n",
              "      <td>3</td>\n",
              "      <td>1</td>\n",
              "      <td>21.0750</td>\n",
              "      <td>S</td>\n",
              "      <td>Third</td>\n",
              "      <td>child</td>\n",
              "      <td>False</td>\n",
              "      <td>NaN</td>\n",
              "      <td>Southampton</td>\n",
              "      <td>no</td>\n",
              "      <td>False</td>\n",
              "    </tr>\n",
              "    <tr>\n",
              "      <th>16</th>\n",
              "      <td>0</td>\n",
              "      <td>3</td>\n",
              "      <td>male</td>\n",
              "      <td>2.0</td>\n",
              "      <td>4</td>\n",
              "      <td>1</td>\n",
              "      <td>29.1250</td>\n",
              "      <td>Q</td>\n",
              "      <td>Third</td>\n",
              "      <td>child</td>\n",
              "      <td>False</td>\n",
              "      <td>NaN</td>\n",
              "      <td>Queenstown</td>\n",
              "      <td>no</td>\n",
              "      <td>False</td>\n",
              "    </tr>\n",
              "    <tr>\n",
              "      <th>24</th>\n",
              "      <td>0</td>\n",
              "      <td>3</td>\n",
              "      <td>female</td>\n",
              "      <td>8.0</td>\n",
              "      <td>3</td>\n",
              "      <td>1</td>\n",
              "      <td>21.0750</td>\n",
              "      <td>S</td>\n",
              "      <td>Third</td>\n",
              "      <td>child</td>\n",
              "      <td>False</td>\n",
              "      <td>NaN</td>\n",
              "      <td>Southampton</td>\n",
              "      <td>no</td>\n",
              "      <td>False</td>\n",
              "    </tr>\n",
              "    <tr>\n",
              "      <th>27</th>\n",
              "      <td>0</td>\n",
              "      <td>1</td>\n",
              "      <td>male</td>\n",
              "      <td>19.0</td>\n",
              "      <td>3</td>\n",
              "      <td>2</td>\n",
              "      <td>263.0000</td>\n",
              "      <td>S</td>\n",
              "      <td>First</td>\n",
              "      <td>man</td>\n",
              "      <td>True</td>\n",
              "      <td>C</td>\n",
              "      <td>Southampton</td>\n",
              "      <td>no</td>\n",
              "      <td>False</td>\n",
              "    </tr>\n",
              "    <tr>\n",
              "      <th>50</th>\n",
              "      <td>0</td>\n",
              "      <td>3</td>\n",
              "      <td>male</td>\n",
              "      <td>7.0</td>\n",
              "      <td>4</td>\n",
              "      <td>1</td>\n",
              "      <td>39.6875</td>\n",
              "      <td>S</td>\n",
              "      <td>Third</td>\n",
              "      <td>child</td>\n",
              "      <td>False</td>\n",
              "      <td>NaN</td>\n",
              "      <td>Southampton</td>\n",
              "      <td>no</td>\n",
              "      <td>False</td>\n",
              "    </tr>\n",
              "  </tbody>\n",
              "</table>\n",
              "</div>"
            ],
            "text/plain": [
              "    survived  pclass     sex   age  ...  deck  embark_town  alive  alone\n",
              "7          0       3    male   2.0  ...   NaN  Southampton     no  False\n",
              "16         0       3    male   2.0  ...   NaN   Queenstown     no  False\n",
              "24         0       3  female   8.0  ...   NaN  Southampton     no  False\n",
              "27         0       1    male  19.0  ...     C  Southampton     no  False\n",
              "50         0       3    male   7.0  ...   NaN  Southampton     no  False\n",
              "\n",
              "[5 rows x 15 columns]"
            ]
          },
          "metadata": {},
          "execution_count": 29
        }
      ]
    },
    {
      "cell_type": "markdown",
      "metadata": {
        "id": "mKmfi4iwVRVe"
      },
      "source": [
        "# 데이터프레임 합치기\n",
        "\n",
        "데이터가 여러 군데 나누어져 있을 때 하나로 합치거나 데이터를 연결해야 하는 경우가 있다. 판다스에서 데이터프레임을 합치거나 연결할 때는 사용하는 함수와 메소드는 여러 가지가 있는데, 대표적으로 concat(), merge(), join() 등을 예로 들 수 있다.\n",
        "\n",
        "* 데이터프레임 연결\n",
        "\n",
        "서로 다른 데이터프레임들의 구성 형태와 속성이 균일하다면, 행 또는 열 중에 어느 한 방향으로 이어 붙여도 데이터의 일관성을 유지할 수 있다. 기존 데이터프레임의 형태를 유지하면서 이어 붙이는 개념으로 판다스 concat() 함수를 활용한다\n",
        "\n",
        "        pandas.concat(데이터프레임 리스트)\n",
        "\n",
        "concat()은 축 방향을 지정하지 않으면 기본 옵션(axis=0)이 적용되어 위 아래 방향으로 연결된다.\n",
        "\n",
        "이때 각 데이터프레임의 행 인덱스는 본래 형태를 유지한다.\n",
        "\n",
        "열 이름에 대해서는 join='outer' 옵션이 기본 적용되어, df1의 열 이름(A, B, C)와 df2의 열 이름(B, C, D, E)의 합집합으로 연결 데이터프레임의 열 이름 배열(A, B, C, D, E)를 구성한다. 한편 join='inner' 옵션의 경우 데이터프레임에 공통으로 속하는 교집합(B, C)가 기준이 된다."
      ]
    },
    {
      "cell_type": "code",
      "metadata": {
        "colab": {
          "base_uri": "https://localhost:8080/",
          "height": 345
        },
        "id": "YLqXt6eqWb-N",
        "outputId": "06a5cb39-bbe5-48e8-9a90-9dd1b0206b57"
      },
      "source": [
        "import pandas as pd\n",
        "\n",
        "# 데이터프레임 만들기\n",
        "df1 = pd.DataFrame({'a': ['a0', 'a1', 'a2', 'a3'],\n",
        "                    'b': ['b0', 'b1', 'b2', 'b3'],\n",
        "                    'c': ['c0', 'c1', 'c2', 'c3']},\n",
        "                    index=[0, 1, 2, 3])\n",
        " \n",
        "df2 = pd.DataFrame({'a': ['a2', 'a3', 'a4', 'a5'],\n",
        "                    'b': ['b2', 'b3', 'b4', 'b5'],\n",
        "                    'c': ['c2', 'c3', 'c4', 'c5'],\n",
        "                    'd': ['d2', 'd3', 'd4', 'd5']},\n",
        "                    index=[2, 3, 4, 5])\n",
        "\n",
        "display(df1)\n",
        "print()\n",
        "display(df2)"
      ],
      "execution_count": 30,
      "outputs": [
        {
          "output_type": "display_data",
          "data": {
            "text/html": [
              "<div>\n",
              "<style scoped>\n",
              "    .dataframe tbody tr th:only-of-type {\n",
              "        vertical-align: middle;\n",
              "    }\n",
              "\n",
              "    .dataframe tbody tr th {\n",
              "        vertical-align: top;\n",
              "    }\n",
              "\n",
              "    .dataframe thead th {\n",
              "        text-align: right;\n",
              "    }\n",
              "</style>\n",
              "<table border=\"1\" class=\"dataframe\">\n",
              "  <thead>\n",
              "    <tr style=\"text-align: right;\">\n",
              "      <th></th>\n",
              "      <th>a</th>\n",
              "      <th>b</th>\n",
              "      <th>c</th>\n",
              "    </tr>\n",
              "  </thead>\n",
              "  <tbody>\n",
              "    <tr>\n",
              "      <th>0</th>\n",
              "      <td>a0</td>\n",
              "      <td>b0</td>\n",
              "      <td>c0</td>\n",
              "    </tr>\n",
              "    <tr>\n",
              "      <th>1</th>\n",
              "      <td>a1</td>\n",
              "      <td>b1</td>\n",
              "      <td>c1</td>\n",
              "    </tr>\n",
              "    <tr>\n",
              "      <th>2</th>\n",
              "      <td>a2</td>\n",
              "      <td>b2</td>\n",
              "      <td>c2</td>\n",
              "    </tr>\n",
              "    <tr>\n",
              "      <th>3</th>\n",
              "      <td>a3</td>\n",
              "      <td>b3</td>\n",
              "      <td>c3</td>\n",
              "    </tr>\n",
              "  </tbody>\n",
              "</table>\n",
              "</div>"
            ],
            "text/plain": [
              "    a   b   c\n",
              "0  a0  b0  c0\n",
              "1  a1  b1  c1\n",
              "2  a2  b2  c2\n",
              "3  a3  b3  c3"
            ]
          },
          "metadata": {}
        },
        {
          "output_type": "stream",
          "name": "stdout",
          "text": [
            "\n"
          ]
        },
        {
          "output_type": "display_data",
          "data": {
            "text/html": [
              "<div>\n",
              "<style scoped>\n",
              "    .dataframe tbody tr th:only-of-type {\n",
              "        vertical-align: middle;\n",
              "    }\n",
              "\n",
              "    .dataframe tbody tr th {\n",
              "        vertical-align: top;\n",
              "    }\n",
              "\n",
              "    .dataframe thead th {\n",
              "        text-align: right;\n",
              "    }\n",
              "</style>\n",
              "<table border=\"1\" class=\"dataframe\">\n",
              "  <thead>\n",
              "    <tr style=\"text-align: right;\">\n",
              "      <th></th>\n",
              "      <th>a</th>\n",
              "      <th>b</th>\n",
              "      <th>c</th>\n",
              "      <th>d</th>\n",
              "    </tr>\n",
              "  </thead>\n",
              "  <tbody>\n",
              "    <tr>\n",
              "      <th>2</th>\n",
              "      <td>a2</td>\n",
              "      <td>b2</td>\n",
              "      <td>c2</td>\n",
              "      <td>d2</td>\n",
              "    </tr>\n",
              "    <tr>\n",
              "      <th>3</th>\n",
              "      <td>a3</td>\n",
              "      <td>b3</td>\n",
              "      <td>c3</td>\n",
              "      <td>d3</td>\n",
              "    </tr>\n",
              "    <tr>\n",
              "      <th>4</th>\n",
              "      <td>a4</td>\n",
              "      <td>b4</td>\n",
              "      <td>c4</td>\n",
              "      <td>d4</td>\n",
              "    </tr>\n",
              "    <tr>\n",
              "      <th>5</th>\n",
              "      <td>a5</td>\n",
              "      <td>b5</td>\n",
              "      <td>c5</td>\n",
              "      <td>d5</td>\n",
              "    </tr>\n",
              "  </tbody>\n",
              "</table>\n",
              "</div>"
            ],
            "text/plain": [
              "    a   b   c   d\n",
              "2  a2  b2  c2  d2\n",
              "3  a3  b3  c3  d3\n",
              "4  a4  b4  c4  d4\n",
              "5  a5  b5  c5  d5"
            ]
          },
          "metadata": {}
        }
      ]
    },
    {
      "cell_type": "code",
      "metadata": {
        "colab": {
          "base_uri": "https://localhost:8080/",
          "height": 295
        },
        "id": "o4E6WNvJWqHi",
        "outputId": "c4ab92a5-d08e-4bd3-e547-a178f56d11be"
      },
      "source": [
        "# 2개의 데이터프레임을 위 아래 행 방향으로 이어 붙이기\n",
        "result1 = pd.concat([df1, df2])\n",
        "result1"
      ],
      "execution_count": 31,
      "outputs": [
        {
          "output_type": "execute_result",
          "data": {
            "text/html": [
              "<div>\n",
              "<style scoped>\n",
              "    .dataframe tbody tr th:only-of-type {\n",
              "        vertical-align: middle;\n",
              "    }\n",
              "\n",
              "    .dataframe tbody tr th {\n",
              "        vertical-align: top;\n",
              "    }\n",
              "\n",
              "    .dataframe thead th {\n",
              "        text-align: right;\n",
              "    }\n",
              "</style>\n",
              "<table border=\"1\" class=\"dataframe\">\n",
              "  <thead>\n",
              "    <tr style=\"text-align: right;\">\n",
              "      <th></th>\n",
              "      <th>a</th>\n",
              "      <th>b</th>\n",
              "      <th>c</th>\n",
              "      <th>d</th>\n",
              "    </tr>\n",
              "  </thead>\n",
              "  <tbody>\n",
              "    <tr>\n",
              "      <th>0</th>\n",
              "      <td>a0</td>\n",
              "      <td>b0</td>\n",
              "      <td>c0</td>\n",
              "      <td>NaN</td>\n",
              "    </tr>\n",
              "    <tr>\n",
              "      <th>1</th>\n",
              "      <td>a1</td>\n",
              "      <td>b1</td>\n",
              "      <td>c1</td>\n",
              "      <td>NaN</td>\n",
              "    </tr>\n",
              "    <tr>\n",
              "      <th>2</th>\n",
              "      <td>a2</td>\n",
              "      <td>b2</td>\n",
              "      <td>c2</td>\n",
              "      <td>NaN</td>\n",
              "    </tr>\n",
              "    <tr>\n",
              "      <th>3</th>\n",
              "      <td>a3</td>\n",
              "      <td>b3</td>\n",
              "      <td>c3</td>\n",
              "      <td>NaN</td>\n",
              "    </tr>\n",
              "    <tr>\n",
              "      <th>2</th>\n",
              "      <td>a2</td>\n",
              "      <td>b2</td>\n",
              "      <td>c2</td>\n",
              "      <td>d2</td>\n",
              "    </tr>\n",
              "    <tr>\n",
              "      <th>3</th>\n",
              "      <td>a3</td>\n",
              "      <td>b3</td>\n",
              "      <td>c3</td>\n",
              "      <td>d3</td>\n",
              "    </tr>\n",
              "    <tr>\n",
              "      <th>4</th>\n",
              "      <td>a4</td>\n",
              "      <td>b4</td>\n",
              "      <td>c4</td>\n",
              "      <td>d4</td>\n",
              "    </tr>\n",
              "    <tr>\n",
              "      <th>5</th>\n",
              "      <td>a5</td>\n",
              "      <td>b5</td>\n",
              "      <td>c5</td>\n",
              "      <td>d5</td>\n",
              "    </tr>\n",
              "  </tbody>\n",
              "</table>\n",
              "</div>"
            ],
            "text/plain": [
              "    a   b   c    d\n",
              "0  a0  b0  c0  NaN\n",
              "1  a1  b1  c1  NaN\n",
              "2  a2  b2  c2  NaN\n",
              "3  a3  b3  c3  NaN\n",
              "2  a2  b2  c2   d2\n",
              "3  a3  b3  c3   d3\n",
              "4  a4  b4  c4   d4\n",
              "5  a5  b5  c5   d5"
            ]
          },
          "metadata": {},
          "execution_count": 31
        }
      ]
    },
    {
      "cell_type": "markdown",
      "metadata": {
        "id": "oDpw7z3EW6Cg"
      },
      "source": [
        "ignore_index=True 옵션은 기존 행 인덱스를 무시하고 새로운 행 인덱스를 설정한다."
      ]
    },
    {
      "cell_type": "code",
      "metadata": {
        "colab": {
          "base_uri": "https://localhost:8080/",
          "height": 295
        },
        "id": "uAycN1rLW_bU",
        "outputId": "08c90c7d-0c2e-4be5-9fa1-4d8022c99510"
      },
      "source": [
        "# ignore_index=True 옵션 설정\n",
        "result2 = pd.concat([df1, df2], ignore_index=True)\n",
        "result2"
      ],
      "execution_count": 32,
      "outputs": [
        {
          "output_type": "execute_result",
          "data": {
            "text/html": [
              "<div>\n",
              "<style scoped>\n",
              "    .dataframe tbody tr th:only-of-type {\n",
              "        vertical-align: middle;\n",
              "    }\n",
              "\n",
              "    .dataframe tbody tr th {\n",
              "        vertical-align: top;\n",
              "    }\n",
              "\n",
              "    .dataframe thead th {\n",
              "        text-align: right;\n",
              "    }\n",
              "</style>\n",
              "<table border=\"1\" class=\"dataframe\">\n",
              "  <thead>\n",
              "    <tr style=\"text-align: right;\">\n",
              "      <th></th>\n",
              "      <th>a</th>\n",
              "      <th>b</th>\n",
              "      <th>c</th>\n",
              "      <th>d</th>\n",
              "    </tr>\n",
              "  </thead>\n",
              "  <tbody>\n",
              "    <tr>\n",
              "      <th>0</th>\n",
              "      <td>a0</td>\n",
              "      <td>b0</td>\n",
              "      <td>c0</td>\n",
              "      <td>NaN</td>\n",
              "    </tr>\n",
              "    <tr>\n",
              "      <th>1</th>\n",
              "      <td>a1</td>\n",
              "      <td>b1</td>\n",
              "      <td>c1</td>\n",
              "      <td>NaN</td>\n",
              "    </tr>\n",
              "    <tr>\n",
              "      <th>2</th>\n",
              "      <td>a2</td>\n",
              "      <td>b2</td>\n",
              "      <td>c2</td>\n",
              "      <td>NaN</td>\n",
              "    </tr>\n",
              "    <tr>\n",
              "      <th>3</th>\n",
              "      <td>a3</td>\n",
              "      <td>b3</td>\n",
              "      <td>c3</td>\n",
              "      <td>NaN</td>\n",
              "    </tr>\n",
              "    <tr>\n",
              "      <th>4</th>\n",
              "      <td>a2</td>\n",
              "      <td>b2</td>\n",
              "      <td>c2</td>\n",
              "      <td>d2</td>\n",
              "    </tr>\n",
              "    <tr>\n",
              "      <th>5</th>\n",
              "      <td>a3</td>\n",
              "      <td>b3</td>\n",
              "      <td>c3</td>\n",
              "      <td>d3</td>\n",
              "    </tr>\n",
              "    <tr>\n",
              "      <th>6</th>\n",
              "      <td>a4</td>\n",
              "      <td>b4</td>\n",
              "      <td>c4</td>\n",
              "      <td>d4</td>\n",
              "    </tr>\n",
              "    <tr>\n",
              "      <th>7</th>\n",
              "      <td>a5</td>\n",
              "      <td>b5</td>\n",
              "      <td>c5</td>\n",
              "      <td>d5</td>\n",
              "    </tr>\n",
              "  </tbody>\n",
              "</table>\n",
              "</div>"
            ],
            "text/plain": [
              "    a   b   c    d\n",
              "0  a0  b0  c0  NaN\n",
              "1  a1  b1  c1  NaN\n",
              "2  a2  b2  c2  NaN\n",
              "3  a3  b3  c3  NaN\n",
              "4  a2  b2  c2   d2\n",
              "5  a3  b3  c3   d3\n",
              "6  a4  b4  c4   d4\n",
              "7  a5  b5  c5   d5"
            ]
          },
          "metadata": {},
          "execution_count": 32
        }
      ]
    },
    {
      "cell_type": "markdown",
      "metadata": {
        "id": "7hoKRQKjXL4s"
      },
      "source": [
        "axis=1 옵션을 사용하면 데이터프레임을 좌우 열 방향으로 연결한다. 따라서 기존 열 이름 배열이 그대로 유지된다. 연결되는 데이터프레임의 행 인덱스는 join='outer' 옵션이 기본값으로 적용되어 각 데이터프레임의 행 인덱스들의 합집합으로 구성된다."
      ]
    },
    {
      "cell_type": "code",
      "metadata": {
        "colab": {
          "base_uri": "https://localhost:8080/",
          "height": 234
        },
        "id": "8glfp4xzXf8N",
        "outputId": "93de6c9f-b260-4506-bf24-bb6a114f6c59"
      },
      "source": [
        "result3 = pd.concat([df1, df2], axis=1)\n",
        "result3"
      ],
      "execution_count": 33,
      "outputs": [
        {
          "output_type": "execute_result",
          "data": {
            "text/html": [
              "<div>\n",
              "<style scoped>\n",
              "    .dataframe tbody tr th:only-of-type {\n",
              "        vertical-align: middle;\n",
              "    }\n",
              "\n",
              "    .dataframe tbody tr th {\n",
              "        vertical-align: top;\n",
              "    }\n",
              "\n",
              "    .dataframe thead th {\n",
              "        text-align: right;\n",
              "    }\n",
              "</style>\n",
              "<table border=\"1\" class=\"dataframe\">\n",
              "  <thead>\n",
              "    <tr style=\"text-align: right;\">\n",
              "      <th></th>\n",
              "      <th>a</th>\n",
              "      <th>b</th>\n",
              "      <th>c</th>\n",
              "      <th>a</th>\n",
              "      <th>b</th>\n",
              "      <th>c</th>\n",
              "      <th>d</th>\n",
              "    </tr>\n",
              "  </thead>\n",
              "  <tbody>\n",
              "    <tr>\n",
              "      <th>0</th>\n",
              "      <td>a0</td>\n",
              "      <td>b0</td>\n",
              "      <td>c0</td>\n",
              "      <td>NaN</td>\n",
              "      <td>NaN</td>\n",
              "      <td>NaN</td>\n",
              "      <td>NaN</td>\n",
              "    </tr>\n",
              "    <tr>\n",
              "      <th>1</th>\n",
              "      <td>a1</td>\n",
              "      <td>b1</td>\n",
              "      <td>c1</td>\n",
              "      <td>NaN</td>\n",
              "      <td>NaN</td>\n",
              "      <td>NaN</td>\n",
              "      <td>NaN</td>\n",
              "    </tr>\n",
              "    <tr>\n",
              "      <th>2</th>\n",
              "      <td>a2</td>\n",
              "      <td>b2</td>\n",
              "      <td>c2</td>\n",
              "      <td>a2</td>\n",
              "      <td>b2</td>\n",
              "      <td>c2</td>\n",
              "      <td>d2</td>\n",
              "    </tr>\n",
              "    <tr>\n",
              "      <th>3</th>\n",
              "      <td>a3</td>\n",
              "      <td>b3</td>\n",
              "      <td>c3</td>\n",
              "      <td>a3</td>\n",
              "      <td>b3</td>\n",
              "      <td>c3</td>\n",
              "      <td>d3</td>\n",
              "    </tr>\n",
              "    <tr>\n",
              "      <th>4</th>\n",
              "      <td>NaN</td>\n",
              "      <td>NaN</td>\n",
              "      <td>NaN</td>\n",
              "      <td>a4</td>\n",
              "      <td>b4</td>\n",
              "      <td>c4</td>\n",
              "      <td>d4</td>\n",
              "    </tr>\n",
              "    <tr>\n",
              "      <th>5</th>\n",
              "      <td>NaN</td>\n",
              "      <td>NaN</td>\n",
              "      <td>NaN</td>\n",
              "      <td>a5</td>\n",
              "      <td>b5</td>\n",
              "      <td>c5</td>\n",
              "      <td>d5</td>\n",
              "    </tr>\n",
              "  </tbody>\n",
              "</table>\n",
              "</div>"
            ],
            "text/plain": [
              "     a    b    c    a    b    c    d\n",
              "0   a0   b0   c0  NaN  NaN  NaN  NaN\n",
              "1   a1   b1   c1  NaN  NaN  NaN  NaN\n",
              "2   a2   b2   c2   a2   b2   c2   d2\n",
              "3   a3   b3   c3   a3   b3   c3   d3\n",
              "4  NaN  NaN  NaN   a4   b4   c4   d4\n",
              "5  NaN  NaN  NaN   a5   b5   c5   d5"
            ]
          },
          "metadata": {},
          "execution_count": 33
        }
      ]
    },
    {
      "cell_type": "code",
      "metadata": {
        "colab": {
          "base_uri": "https://localhost:8080/",
          "height": 110
        },
        "id": "_mRkpQ0tXnZ4",
        "outputId": "d6857286-5a2d-4b1a-ea0d-b441083ac212"
      },
      "source": [
        "# join='inner'를 사용해보자\n",
        "result4 = pd.concat([df1, df2], axis=1, join='inner')\n",
        "result4"
      ],
      "execution_count": 34,
      "outputs": [
        {
          "output_type": "execute_result",
          "data": {
            "text/html": [
              "<div>\n",
              "<style scoped>\n",
              "    .dataframe tbody tr th:only-of-type {\n",
              "        vertical-align: middle;\n",
              "    }\n",
              "\n",
              "    .dataframe tbody tr th {\n",
              "        vertical-align: top;\n",
              "    }\n",
              "\n",
              "    .dataframe thead th {\n",
              "        text-align: right;\n",
              "    }\n",
              "</style>\n",
              "<table border=\"1\" class=\"dataframe\">\n",
              "  <thead>\n",
              "    <tr style=\"text-align: right;\">\n",
              "      <th></th>\n",
              "      <th>a</th>\n",
              "      <th>b</th>\n",
              "      <th>c</th>\n",
              "      <th>a</th>\n",
              "      <th>b</th>\n",
              "      <th>c</th>\n",
              "      <th>d</th>\n",
              "    </tr>\n",
              "  </thead>\n",
              "  <tbody>\n",
              "    <tr>\n",
              "      <th>2</th>\n",
              "      <td>a2</td>\n",
              "      <td>b2</td>\n",
              "      <td>c2</td>\n",
              "      <td>a2</td>\n",
              "      <td>b2</td>\n",
              "      <td>c2</td>\n",
              "      <td>d2</td>\n",
              "    </tr>\n",
              "    <tr>\n",
              "      <th>3</th>\n",
              "      <td>a3</td>\n",
              "      <td>b3</td>\n",
              "      <td>c3</td>\n",
              "      <td>a3</td>\n",
              "      <td>b3</td>\n",
              "      <td>c3</td>\n",
              "      <td>d3</td>\n",
              "    </tr>\n",
              "  </tbody>\n",
              "</table>\n",
              "</div>"
            ],
            "text/plain": [
              "    a   b   c   a   b   c   d\n",
              "2  a2  b2  c2  a2  b2  c2  d2\n",
              "3  a3  b3  c3  a3  b3  c3  d3"
            ]
          },
          "metadata": {},
          "execution_count": 34
        }
      ]
    },
    {
      "cell_type": "markdown",
      "metadata": {
        "id": "F5RZGsCVX5Qw"
      },
      "source": [
        "데이터프레임과 시리즈를 좌우 열 방향으로 연결할 수도 있다. 데이터프레임에 열을 추가하는 것과 같다. 이때 시리즈의 이름이 데이터프레임의 열 이름으로 변환된다. 단, 데이터프레임의 행 인덱스와 시리즈의 인덱스가 같아야한다. 공통 인덱스가 없을 경우 NaN으로 처리한다.\n"
      ]
    },
    {
      "cell_type": "code",
      "metadata": {
        "colab": {
          "base_uri": "https://localhost:8080/",
          "height": 263
        },
        "id": "REM3kkNLcCkE",
        "outputId": "09bdab08-5cd0-4b6d-d216-542615adde48"
      },
      "source": [
        "# 시리즈\n",
        "sr1 = pd.Series(['e0', 'e1', 'e2', 'e3'], name='e')\n",
        "sr2 = pd.Series(['f0', 'f1', 'f2'], name='f', index=[3, 4, 5])\n",
        "sr3 = pd.Series(['g0', 'g1', 'g2', 'g3'], name='g')\n",
        "display(sr1)\n",
        "display(sr2)\n",
        "display(sr3)"
      ],
      "execution_count": 35,
      "outputs": [
        {
          "output_type": "display_data",
          "data": {
            "text/plain": [
              "0    e0\n",
              "1    e1\n",
              "2    e2\n",
              "3    e3\n",
              "Name: e, dtype: object"
            ]
          },
          "metadata": {}
        },
        {
          "output_type": "display_data",
          "data": {
            "text/plain": [
              "3    f0\n",
              "4    f1\n",
              "5    f2\n",
              "Name: f, dtype: object"
            ]
          },
          "metadata": {}
        },
        {
          "output_type": "display_data",
          "data": {
            "text/plain": [
              "0    g0\n",
              "1    g1\n",
              "2    g2\n",
              "3    g3\n",
              "Name: g, dtype: object"
            ]
          },
          "metadata": {}
        }
      ]
    },
    {
      "cell_type": "code",
      "metadata": {
        "colab": {
          "base_uri": "https://localhost:8080/",
          "height": 172
        },
        "id": "ZgNkPHjVcMH7",
        "outputId": "a5bd1ad2-a322-4a30-b5a7-599c7546cbc2"
      },
      "source": [
        "# df1과 sr1 좌우 열 방향으로 연결\n",
        "result4 = pd.concat([df1, sr1], axis=1)\n",
        "result4"
      ],
      "execution_count": 36,
      "outputs": [
        {
          "output_type": "execute_result",
          "data": {
            "text/html": [
              "<div>\n",
              "<style scoped>\n",
              "    .dataframe tbody tr th:only-of-type {\n",
              "        vertical-align: middle;\n",
              "    }\n",
              "\n",
              "    .dataframe tbody tr th {\n",
              "        vertical-align: top;\n",
              "    }\n",
              "\n",
              "    .dataframe thead th {\n",
              "        text-align: right;\n",
              "    }\n",
              "</style>\n",
              "<table border=\"1\" class=\"dataframe\">\n",
              "  <thead>\n",
              "    <tr style=\"text-align: right;\">\n",
              "      <th></th>\n",
              "      <th>a</th>\n",
              "      <th>b</th>\n",
              "      <th>c</th>\n",
              "      <th>e</th>\n",
              "    </tr>\n",
              "  </thead>\n",
              "  <tbody>\n",
              "    <tr>\n",
              "      <th>0</th>\n",
              "      <td>a0</td>\n",
              "      <td>b0</td>\n",
              "      <td>c0</td>\n",
              "      <td>e0</td>\n",
              "    </tr>\n",
              "    <tr>\n",
              "      <th>1</th>\n",
              "      <td>a1</td>\n",
              "      <td>b1</td>\n",
              "      <td>c1</td>\n",
              "      <td>e1</td>\n",
              "    </tr>\n",
              "    <tr>\n",
              "      <th>2</th>\n",
              "      <td>a2</td>\n",
              "      <td>b2</td>\n",
              "      <td>c2</td>\n",
              "      <td>e2</td>\n",
              "    </tr>\n",
              "    <tr>\n",
              "      <th>3</th>\n",
              "      <td>a3</td>\n",
              "      <td>b3</td>\n",
              "      <td>c3</td>\n",
              "      <td>e3</td>\n",
              "    </tr>\n",
              "  </tbody>\n",
              "</table>\n",
              "</div>"
            ],
            "text/plain": [
              "    a   b   c   e\n",
              "0  a0  b0  c0  e0\n",
              "1  a1  b1  c1  e1\n",
              "2  a2  b2  c2  e2\n",
              "3  a3  b3  c3  e3"
            ]
          },
          "metadata": {},
          "execution_count": 36
        }
      ]
    },
    {
      "cell_type": "code",
      "metadata": {
        "colab": {
          "base_uri": "https://localhost:8080/",
          "height": 172
        },
        "id": "KludguVDcVJg",
        "outputId": "91dc884a-fce6-4d30-dd93-3c9c07c7db7e"
      },
      "source": [
        "# df1과 sr2 - 좌우\n",
        "result5 = pd.concat([df2, sr2], axis=1, sort=True)\n",
        "result5"
      ],
      "execution_count": 37,
      "outputs": [
        {
          "output_type": "execute_result",
          "data": {
            "text/html": [
              "<div>\n",
              "<style scoped>\n",
              "    .dataframe tbody tr th:only-of-type {\n",
              "        vertical-align: middle;\n",
              "    }\n",
              "\n",
              "    .dataframe tbody tr th {\n",
              "        vertical-align: top;\n",
              "    }\n",
              "\n",
              "    .dataframe thead th {\n",
              "        text-align: right;\n",
              "    }\n",
              "</style>\n",
              "<table border=\"1\" class=\"dataframe\">\n",
              "  <thead>\n",
              "    <tr style=\"text-align: right;\">\n",
              "      <th></th>\n",
              "      <th>a</th>\n",
              "      <th>b</th>\n",
              "      <th>c</th>\n",
              "      <th>d</th>\n",
              "      <th>f</th>\n",
              "    </tr>\n",
              "  </thead>\n",
              "  <tbody>\n",
              "    <tr>\n",
              "      <th>2</th>\n",
              "      <td>a2</td>\n",
              "      <td>b2</td>\n",
              "      <td>c2</td>\n",
              "      <td>d2</td>\n",
              "      <td>NaN</td>\n",
              "    </tr>\n",
              "    <tr>\n",
              "      <th>3</th>\n",
              "      <td>a3</td>\n",
              "      <td>b3</td>\n",
              "      <td>c3</td>\n",
              "      <td>d3</td>\n",
              "      <td>f0</td>\n",
              "    </tr>\n",
              "    <tr>\n",
              "      <th>4</th>\n",
              "      <td>a4</td>\n",
              "      <td>b4</td>\n",
              "      <td>c4</td>\n",
              "      <td>d4</td>\n",
              "      <td>f1</td>\n",
              "    </tr>\n",
              "    <tr>\n",
              "      <th>5</th>\n",
              "      <td>a5</td>\n",
              "      <td>b5</td>\n",
              "      <td>c5</td>\n",
              "      <td>d5</td>\n",
              "      <td>f2</td>\n",
              "    </tr>\n",
              "  </tbody>\n",
              "</table>\n",
              "</div>"
            ],
            "text/plain": [
              "    a   b   c   d    f\n",
              "2  a2  b2  c2  d2  NaN\n",
              "3  a3  b3  c3  d3   f0\n",
              "4  a4  b4  c4  d4   f1\n",
              "5  a5  b5  c5  d5   f2"
            ]
          },
          "metadata": {},
          "execution_count": 37
        }
      ]
    },
    {
      "cell_type": "code",
      "metadata": {
        "colab": {
          "base_uri": "https://localhost:8080/",
          "height": 172
        },
        "id": "83BbEjI9eUW7",
        "outputId": "e0344fe7-874a-4858-a38f-d113985e9be4"
      },
      "source": [
        "result6 = pd.concat([sr1, sr3], axis=1)\n",
        "result6"
      ],
      "execution_count": 38,
      "outputs": [
        {
          "output_type": "execute_result",
          "data": {
            "text/html": [
              "<div>\n",
              "<style scoped>\n",
              "    .dataframe tbody tr th:only-of-type {\n",
              "        vertical-align: middle;\n",
              "    }\n",
              "\n",
              "    .dataframe tbody tr th {\n",
              "        vertical-align: top;\n",
              "    }\n",
              "\n",
              "    .dataframe thead th {\n",
              "        text-align: right;\n",
              "    }\n",
              "</style>\n",
              "<table border=\"1\" class=\"dataframe\">\n",
              "  <thead>\n",
              "    <tr style=\"text-align: right;\">\n",
              "      <th></th>\n",
              "      <th>e</th>\n",
              "      <th>g</th>\n",
              "    </tr>\n",
              "  </thead>\n",
              "  <tbody>\n",
              "    <tr>\n",
              "      <th>0</th>\n",
              "      <td>e0</td>\n",
              "      <td>g0</td>\n",
              "    </tr>\n",
              "    <tr>\n",
              "      <th>1</th>\n",
              "      <td>e1</td>\n",
              "      <td>g1</td>\n",
              "    </tr>\n",
              "    <tr>\n",
              "      <th>2</th>\n",
              "      <td>e2</td>\n",
              "      <td>g2</td>\n",
              "    </tr>\n",
              "    <tr>\n",
              "      <th>3</th>\n",
              "      <td>e3</td>\n",
              "      <td>g3</td>\n",
              "    </tr>\n",
              "  </tbody>\n",
              "</table>\n",
              "</div>"
            ],
            "text/plain": [
              "    e   g\n",
              "0  e0  g0\n",
              "1  e1  g1\n",
              "2  e2  g2\n",
              "3  e3  g3"
            ]
          },
          "metadata": {},
          "execution_count": 38
        }
      ]
    },
    {
      "cell_type": "code",
      "metadata": {
        "colab": {
          "base_uri": "https://localhost:8080/"
        },
        "id": "OimFTK4SeYpf",
        "outputId": "e869e573-5283-424d-8503-8f46beb8b852"
      },
      "source": [
        "result7 = pd.concat([sr1, sr3], axis=0)\n",
        "result7"
      ],
      "execution_count": 39,
      "outputs": [
        {
          "output_type": "execute_result",
          "data": {
            "text/plain": [
              "0    e0\n",
              "1    e1\n",
              "2    e2\n",
              "3    e3\n",
              "0    g0\n",
              "1    g1\n",
              "2    g2\n",
              "3    g3\n",
              "dtype: object"
            ]
          },
          "metadata": {},
          "execution_count": 39
        }
      ]
    },
    {
      "cell_type": "markdown",
      "metadata": {
        "id": "jR99gjmfeuDi"
      },
      "source": [
        "* 데이터프레임 병합\n",
        "\n",
        "merge() 함수는 SQL의 join 명령과 비슷한 방식으로 어떤 기준에 의해 두 데이터프레임을 병합하는 개념이다. 이때 기준이 되는 열이나 인덱스를 키(key)라고 부른다. 키가 되는 열이나 인덱스는 반드시 양쪽 데이터프레임에 모두 존재해야한다.\n",
        "\n",
        "        pandas.merge(df_left, df_right, how='inner', on=None)"
      ]
    },
    {
      "cell_type": "code",
      "metadata": {
        "colab": {
          "base_uri": "https://localhost:8080/",
          "height": 697
        },
        "id": "Dj23_xTdgdfM",
        "outputId": "5ac369c6-852a-46ac-8c1a-c742368529e8"
      },
      "source": [
        "import pandas as pd\n",
        "\n",
        "# IPyhton 디스플레이 설정 변경 \n",
        "# pd.set_option('display.max_columns', 10)                  # 출력할 최대 열의 개수\n",
        "# pd.set_option('display.max_colwidth', 20)                 # 출력할 열의 너비\n",
        "# pd.set_option('display.unicode.east_asian_width', True)   # 유니코드 사용 너비 조정\n",
        "\n",
        "# 주식 데이터를 가져와서 데이터프레임 만들기\n",
        "df1 = pd.read_excel('경로/stock price.xlsx', engine= 'openpyxl')\n",
        "df2 = pd.read_excel('경로/stock valuation.xlsx', engine= 'openpyxl')\n",
        "\n",
        "display(df1)\n",
        "display(df2)"
      ],
      "execution_count": 40,
      "outputs": [
        {
          "output_type": "display_data",
          "data": {
            "text/html": [
              "<div>\n",
              "<style scoped>\n",
              "    .dataframe tbody tr th:only-of-type {\n",
              "        vertical-align: middle;\n",
              "    }\n",
              "\n",
              "    .dataframe tbody tr th {\n",
              "        vertical-align: top;\n",
              "    }\n",
              "\n",
              "    .dataframe thead th {\n",
              "        text-align: right;\n",
              "    }\n",
              "</style>\n",
              "<table border=\"1\" class=\"dataframe\">\n",
              "  <thead>\n",
              "    <tr style=\"text-align: right;\">\n",
              "      <th></th>\n",
              "      <th>id</th>\n",
              "      <th>stock_name</th>\n",
              "      <th>value</th>\n",
              "      <th>price</th>\n",
              "    </tr>\n",
              "  </thead>\n",
              "  <tbody>\n",
              "    <tr>\n",
              "      <th>0</th>\n",
              "      <td>128940</td>\n",
              "      <td>한미약품</td>\n",
              "      <td>59385.666667</td>\n",
              "      <td>421000</td>\n",
              "    </tr>\n",
              "    <tr>\n",
              "      <th>1</th>\n",
              "      <td>130960</td>\n",
              "      <td>CJ E&amp;M</td>\n",
              "      <td>58540.666667</td>\n",
              "      <td>98900</td>\n",
              "    </tr>\n",
              "    <tr>\n",
              "      <th>2</th>\n",
              "      <td>138250</td>\n",
              "      <td>엔에스쇼핑</td>\n",
              "      <td>14558.666667</td>\n",
              "      <td>13200</td>\n",
              "    </tr>\n",
              "    <tr>\n",
              "      <th>3</th>\n",
              "      <td>139480</td>\n",
              "      <td>이마트</td>\n",
              "      <td>239230.833333</td>\n",
              "      <td>254500</td>\n",
              "    </tr>\n",
              "    <tr>\n",
              "      <th>4</th>\n",
              "      <td>142280</td>\n",
              "      <td>녹십자엠에스</td>\n",
              "      <td>468.833333</td>\n",
              "      <td>10200</td>\n",
              "    </tr>\n",
              "    <tr>\n",
              "      <th>5</th>\n",
              "      <td>145990</td>\n",
              "      <td>삼양사</td>\n",
              "      <td>82750.000000</td>\n",
              "      <td>82000</td>\n",
              "    </tr>\n",
              "    <tr>\n",
              "      <th>6</th>\n",
              "      <td>185750</td>\n",
              "      <td>종근당</td>\n",
              "      <td>40293.666667</td>\n",
              "      <td>100500</td>\n",
              "    </tr>\n",
              "    <tr>\n",
              "      <th>7</th>\n",
              "      <td>192400</td>\n",
              "      <td>쿠쿠홀딩스</td>\n",
              "      <td>179204.666667</td>\n",
              "      <td>177500</td>\n",
              "    </tr>\n",
              "    <tr>\n",
              "      <th>8</th>\n",
              "      <td>199800</td>\n",
              "      <td>툴젠</td>\n",
              "      <td>-2514.333333</td>\n",
              "      <td>115400</td>\n",
              "    </tr>\n",
              "    <tr>\n",
              "      <th>9</th>\n",
              "      <td>204210</td>\n",
              "      <td>모두투어리츠</td>\n",
              "      <td>3093.333333</td>\n",
              "      <td>3475</td>\n",
              "    </tr>\n",
              "  </tbody>\n",
              "</table>\n",
              "</div>"
            ],
            "text/plain": [
              "       id stock_name          value   price\n",
              "0  128940       한미약품   59385.666667  421000\n",
              "1  130960     CJ E&M   58540.666667   98900\n",
              "2  138250      엔에스쇼핑   14558.666667   13200\n",
              "3  139480        이마트  239230.833333  254500\n",
              "4  142280     녹십자엠에스     468.833333   10200\n",
              "5  145990        삼양사   82750.000000   82000\n",
              "6  185750        종근당   40293.666667  100500\n",
              "7  192400      쿠쿠홀딩스  179204.666667  177500\n",
              "8  199800         툴젠   -2514.333333  115400\n",
              "9  204210     모두투어리츠    3093.333333    3475"
            ]
          },
          "metadata": {}
        },
        {
          "output_type": "display_data",
          "data": {
            "text/html": [
              "<div>\n",
              "<style scoped>\n",
              "    .dataframe tbody tr th:only-of-type {\n",
              "        vertical-align: middle;\n",
              "    }\n",
              "\n",
              "    .dataframe tbody tr th {\n",
              "        vertical-align: top;\n",
              "    }\n",
              "\n",
              "    .dataframe thead th {\n",
              "        text-align: right;\n",
              "    }\n",
              "</style>\n",
              "<table border=\"1\" class=\"dataframe\">\n",
              "  <thead>\n",
              "    <tr style=\"text-align: right;\">\n",
              "      <th></th>\n",
              "      <th>id</th>\n",
              "      <th>name</th>\n",
              "      <th>eps</th>\n",
              "      <th>bps</th>\n",
              "      <th>per</th>\n",
              "      <th>pbr</th>\n",
              "    </tr>\n",
              "  </thead>\n",
              "  <tbody>\n",
              "    <tr>\n",
              "      <th>0</th>\n",
              "      <td>130960</td>\n",
              "      <td>CJ E&amp;M</td>\n",
              "      <td>6301.333333</td>\n",
              "      <td>54068</td>\n",
              "      <td>15.695091</td>\n",
              "      <td>1.829178</td>\n",
              "    </tr>\n",
              "    <tr>\n",
              "      <th>1</th>\n",
              "      <td>136480</td>\n",
              "      <td>하림</td>\n",
              "      <td>274.166667</td>\n",
              "      <td>3551</td>\n",
              "      <td>11.489362</td>\n",
              "      <td>0.887074</td>\n",
              "    </tr>\n",
              "    <tr>\n",
              "      <th>2</th>\n",
              "      <td>138040</td>\n",
              "      <td>메리츠금융지주</td>\n",
              "      <td>2122.333333</td>\n",
              "      <td>14894</td>\n",
              "      <td>6.313806</td>\n",
              "      <td>0.899691</td>\n",
              "    </tr>\n",
              "    <tr>\n",
              "      <th>3</th>\n",
              "      <td>139480</td>\n",
              "      <td>이마트</td>\n",
              "      <td>18268.166667</td>\n",
              "      <td>295780</td>\n",
              "      <td>13.931338</td>\n",
              "      <td>0.860437</td>\n",
              "    </tr>\n",
              "    <tr>\n",
              "      <th>4</th>\n",
              "      <td>145990</td>\n",
              "      <td>삼양사</td>\n",
              "      <td>5741.000000</td>\n",
              "      <td>108090</td>\n",
              "      <td>14.283226</td>\n",
              "      <td>0.758627</td>\n",
              "    </tr>\n",
              "    <tr>\n",
              "      <th>5</th>\n",
              "      <td>161390</td>\n",
              "      <td>한국타이어</td>\n",
              "      <td>5648.500000</td>\n",
              "      <td>51341</td>\n",
              "      <td>7.453306</td>\n",
              "      <td>0.820007</td>\n",
              "    </tr>\n",
              "    <tr>\n",
              "      <th>6</th>\n",
              "      <td>181710</td>\n",
              "      <td>NHN엔터테인먼트</td>\n",
              "      <td>2110.166667</td>\n",
              "      <td>78434</td>\n",
              "      <td>30.755864</td>\n",
              "      <td>0.827447</td>\n",
              "    </tr>\n",
              "    <tr>\n",
              "      <th>7</th>\n",
              "      <td>185750</td>\n",
              "      <td>종근당</td>\n",
              "      <td>3990.333333</td>\n",
              "      <td>40684</td>\n",
              "      <td>25.185866</td>\n",
              "      <td>2.470259</td>\n",
              "    </tr>\n",
              "    <tr>\n",
              "      <th>8</th>\n",
              "      <td>204210</td>\n",
              "      <td>모두투어리츠</td>\n",
              "      <td>85.166667</td>\n",
              "      <td>5335</td>\n",
              "      <td>40.802348</td>\n",
              "      <td>0.651359</td>\n",
              "    </tr>\n",
              "    <tr>\n",
              "      <th>9</th>\n",
              "      <td>207940</td>\n",
              "      <td>삼성바이오로직스</td>\n",
              "      <td>4644.166667</td>\n",
              "      <td>60099</td>\n",
              "      <td>89.790059</td>\n",
              "      <td>6.938551</td>\n",
              "    </tr>\n",
              "  </tbody>\n",
              "</table>\n",
              "</div>"
            ],
            "text/plain": [
              "       id       name           eps     bps        per       pbr\n",
              "0  130960     CJ E&M   6301.333333   54068  15.695091  1.829178\n",
              "1  136480         하림    274.166667    3551  11.489362  0.887074\n",
              "2  138040    메리츠금융지주   2122.333333   14894   6.313806  0.899691\n",
              "3  139480        이마트  18268.166667  295780  13.931338  0.860437\n",
              "4  145990        삼양사   5741.000000  108090  14.283226  0.758627\n",
              "5  161390      한국타이어   5648.500000   51341   7.453306  0.820007\n",
              "6  181710  NHN엔터테인먼트   2110.166667   78434  30.755864  0.827447\n",
              "7  185750        종근당   3990.333333   40684  25.185866  2.470259\n",
              "8  204210     모두투어리츠     85.166667    5335  40.802348  0.651359\n",
              "9  207940   삼성바이오로직스   4644.166667   60099  89.790059  6.938551"
            ]
          },
          "metadata": {}
        }
      ]
    },
    {
      "cell_type": "markdown",
      "metadata": {
        "id": "uQjQjbbshT0U"
      },
      "source": [
        "병합하려는 두 데이터프레임을 merge() 함수에 전달한다. on=None 옵션과 how='inner' 옵션이 기본값으로 적용된다. on=None 옵션은 두 데이터프레임에 공통으로 속하는 모든 열을 기준(키)으로 병합한다는 뜻이다.\n",
        "\n",
        "한편 how='inner' 옵션은 기준이 되는 열의 데이터가 양쪽 데이터프레임에 공통으로 존재하는 교집합일 경우에만 추출한다는 뜻이다. "
      ]
    },
    {
      "cell_type": "code",
      "metadata": {
        "colab": {
          "base_uri": "https://localhost:8080/",
          "height": 324
        },
        "id": "j63AZRo7hEKh",
        "outputId": "40139195-787f-4818-e823-e24f43c27fd0"
      },
      "source": [
        "# 데이터프레임 합치기 - 교집합\n",
        "merge_inner = pd.merge(df1, df2)\n",
        "merge_inner"
      ],
      "execution_count": 41,
      "outputs": [
        {
          "output_type": "execute_result",
          "data": {
            "text/html": [
              "<div>\n",
              "<style scoped>\n",
              "    .dataframe tbody tr th:only-of-type {\n",
              "        vertical-align: middle;\n",
              "    }\n",
              "\n",
              "    .dataframe tbody tr th {\n",
              "        vertical-align: top;\n",
              "    }\n",
              "\n",
              "    .dataframe thead th {\n",
              "        text-align: right;\n",
              "    }\n",
              "</style>\n",
              "<table border=\"1\" class=\"dataframe\">\n",
              "  <thead>\n",
              "    <tr style=\"text-align: right;\">\n",
              "      <th></th>\n",
              "      <th>id</th>\n",
              "      <th>stock_name</th>\n",
              "      <th>value</th>\n",
              "      <th>price</th>\n",
              "      <th>name</th>\n",
              "      <th>eps</th>\n",
              "      <th>bps</th>\n",
              "      <th>per</th>\n",
              "      <th>pbr</th>\n",
              "    </tr>\n",
              "  </thead>\n",
              "  <tbody>\n",
              "    <tr>\n",
              "      <th>0</th>\n",
              "      <td>130960</td>\n",
              "      <td>CJ E&amp;M</td>\n",
              "      <td>58540.666667</td>\n",
              "      <td>98900</td>\n",
              "      <td>CJ E&amp;M</td>\n",
              "      <td>6301.333333</td>\n",
              "      <td>54068</td>\n",
              "      <td>15.695091</td>\n",
              "      <td>1.829178</td>\n",
              "    </tr>\n",
              "    <tr>\n",
              "      <th>1</th>\n",
              "      <td>139480</td>\n",
              "      <td>이마트</td>\n",
              "      <td>239230.833333</td>\n",
              "      <td>254500</td>\n",
              "      <td>이마트</td>\n",
              "      <td>18268.166667</td>\n",
              "      <td>295780</td>\n",
              "      <td>13.931338</td>\n",
              "      <td>0.860437</td>\n",
              "    </tr>\n",
              "    <tr>\n",
              "      <th>2</th>\n",
              "      <td>145990</td>\n",
              "      <td>삼양사</td>\n",
              "      <td>82750.000000</td>\n",
              "      <td>82000</td>\n",
              "      <td>삼양사</td>\n",
              "      <td>5741.000000</td>\n",
              "      <td>108090</td>\n",
              "      <td>14.283226</td>\n",
              "      <td>0.758627</td>\n",
              "    </tr>\n",
              "    <tr>\n",
              "      <th>3</th>\n",
              "      <td>185750</td>\n",
              "      <td>종근당</td>\n",
              "      <td>40293.666667</td>\n",
              "      <td>100500</td>\n",
              "      <td>종근당</td>\n",
              "      <td>3990.333333</td>\n",
              "      <td>40684</td>\n",
              "      <td>25.185866</td>\n",
              "      <td>2.470259</td>\n",
              "    </tr>\n",
              "    <tr>\n",
              "      <th>4</th>\n",
              "      <td>204210</td>\n",
              "      <td>모두투어리츠</td>\n",
              "      <td>3093.333333</td>\n",
              "      <td>3475</td>\n",
              "      <td>모두투어리츠</td>\n",
              "      <td>85.166667</td>\n",
              "      <td>5335</td>\n",
              "      <td>40.802348</td>\n",
              "      <td>0.651359</td>\n",
              "    </tr>\n",
              "  </tbody>\n",
              "</table>\n",
              "</div>"
            ],
            "text/plain": [
              "       id stock_name          value  ...     bps        per       pbr\n",
              "0  130960     CJ E&M   58540.666667  ...   54068  15.695091  1.829178\n",
              "1  139480        이마트  239230.833333  ...  295780  13.931338  0.860437\n",
              "2  145990        삼양사   82750.000000  ...  108090  14.283226  0.758627\n",
              "3  185750        종근당   40293.666667  ...   40684  25.185866  2.470259\n",
              "4  204210     모두투어리츠    3093.333333  ...    5335  40.802348  0.651359\n",
              "\n",
              "[5 rows x 9 columns]"
            ]
          },
          "metadata": {},
          "execution_count": 41
        }
      ]
    },
    {
      "cell_type": "markdown",
      "metadata": {
        "id": "S8fZLRtAhtEh"
      },
      "source": [
        "이번에는 on='id' 옵션과 how='outer' 옵션을 설정한다. on='id' 옵션은 두 데이터프레임의 공통 열 중에서 'id' 열을 키로 병합한다는 뜻이다. how='outer' 옵션은 기준이 되는 'id'열의 데이터가 데이터프레임 중 어느 한쪽에만 속하더라도 포함한다는 뜻이다. 따라서 'id' 열 기준으로 모든 종목의 데이터가 포함된다. 어느 한쪽이라도 데이터가 없는 열에는 NaN값이 지정된다."
      ]
    },
    {
      "cell_type": "code",
      "metadata": {
        "colab": {
          "base_uri": "https://localhost:8080/",
          "height": 834
        },
        "id": "AT1fMZE0iHWJ",
        "outputId": "3b3de1b7-e97f-459a-d39b-14357f11ee5b"
      },
      "source": [
        "# 데이터프레임 합치기 - 합집합\n",
        "merge_outer = pd.merge(df1, df2, how='outer', on='id')\n",
        "merge_outer"
      ],
      "execution_count": 42,
      "outputs": [
        {
          "output_type": "execute_result",
          "data": {
            "text/html": [
              "<div>\n",
              "<style scoped>\n",
              "    .dataframe tbody tr th:only-of-type {\n",
              "        vertical-align: middle;\n",
              "    }\n",
              "\n",
              "    .dataframe tbody tr th {\n",
              "        vertical-align: top;\n",
              "    }\n",
              "\n",
              "    .dataframe thead th {\n",
              "        text-align: right;\n",
              "    }\n",
              "</style>\n",
              "<table border=\"1\" class=\"dataframe\">\n",
              "  <thead>\n",
              "    <tr style=\"text-align: right;\">\n",
              "      <th></th>\n",
              "      <th>id</th>\n",
              "      <th>stock_name</th>\n",
              "      <th>value</th>\n",
              "      <th>price</th>\n",
              "      <th>name</th>\n",
              "      <th>eps</th>\n",
              "      <th>bps</th>\n",
              "      <th>per</th>\n",
              "      <th>pbr</th>\n",
              "    </tr>\n",
              "  </thead>\n",
              "  <tbody>\n",
              "    <tr>\n",
              "      <th>0</th>\n",
              "      <td>128940</td>\n",
              "      <td>한미약품</td>\n",
              "      <td>59385.666667</td>\n",
              "      <td>421000.0</td>\n",
              "      <td>NaN</td>\n",
              "      <td>NaN</td>\n",
              "      <td>NaN</td>\n",
              "      <td>NaN</td>\n",
              "      <td>NaN</td>\n",
              "    </tr>\n",
              "    <tr>\n",
              "      <th>1</th>\n",
              "      <td>130960</td>\n",
              "      <td>CJ E&amp;M</td>\n",
              "      <td>58540.666667</td>\n",
              "      <td>98900.0</td>\n",
              "      <td>CJ E&amp;M</td>\n",
              "      <td>6301.333333</td>\n",
              "      <td>54068.0</td>\n",
              "      <td>15.695091</td>\n",
              "      <td>1.829178</td>\n",
              "    </tr>\n",
              "    <tr>\n",
              "      <th>2</th>\n",
              "      <td>138250</td>\n",
              "      <td>엔에스쇼핑</td>\n",
              "      <td>14558.666667</td>\n",
              "      <td>13200.0</td>\n",
              "      <td>NaN</td>\n",
              "      <td>NaN</td>\n",
              "      <td>NaN</td>\n",
              "      <td>NaN</td>\n",
              "      <td>NaN</td>\n",
              "    </tr>\n",
              "    <tr>\n",
              "      <th>3</th>\n",
              "      <td>139480</td>\n",
              "      <td>이마트</td>\n",
              "      <td>239230.833333</td>\n",
              "      <td>254500.0</td>\n",
              "      <td>이마트</td>\n",
              "      <td>18268.166667</td>\n",
              "      <td>295780.0</td>\n",
              "      <td>13.931338</td>\n",
              "      <td>0.860437</td>\n",
              "    </tr>\n",
              "    <tr>\n",
              "      <th>4</th>\n",
              "      <td>142280</td>\n",
              "      <td>녹십자엠에스</td>\n",
              "      <td>468.833333</td>\n",
              "      <td>10200.0</td>\n",
              "      <td>NaN</td>\n",
              "      <td>NaN</td>\n",
              "      <td>NaN</td>\n",
              "      <td>NaN</td>\n",
              "      <td>NaN</td>\n",
              "    </tr>\n",
              "    <tr>\n",
              "      <th>5</th>\n",
              "      <td>145990</td>\n",
              "      <td>삼양사</td>\n",
              "      <td>82750.000000</td>\n",
              "      <td>82000.0</td>\n",
              "      <td>삼양사</td>\n",
              "      <td>5741.000000</td>\n",
              "      <td>108090.0</td>\n",
              "      <td>14.283226</td>\n",
              "      <td>0.758627</td>\n",
              "    </tr>\n",
              "    <tr>\n",
              "      <th>6</th>\n",
              "      <td>185750</td>\n",
              "      <td>종근당</td>\n",
              "      <td>40293.666667</td>\n",
              "      <td>100500.0</td>\n",
              "      <td>종근당</td>\n",
              "      <td>3990.333333</td>\n",
              "      <td>40684.0</td>\n",
              "      <td>25.185866</td>\n",
              "      <td>2.470259</td>\n",
              "    </tr>\n",
              "    <tr>\n",
              "      <th>7</th>\n",
              "      <td>192400</td>\n",
              "      <td>쿠쿠홀딩스</td>\n",
              "      <td>179204.666667</td>\n",
              "      <td>177500.0</td>\n",
              "      <td>NaN</td>\n",
              "      <td>NaN</td>\n",
              "      <td>NaN</td>\n",
              "      <td>NaN</td>\n",
              "      <td>NaN</td>\n",
              "    </tr>\n",
              "    <tr>\n",
              "      <th>8</th>\n",
              "      <td>199800</td>\n",
              "      <td>툴젠</td>\n",
              "      <td>-2514.333333</td>\n",
              "      <td>115400.0</td>\n",
              "      <td>NaN</td>\n",
              "      <td>NaN</td>\n",
              "      <td>NaN</td>\n",
              "      <td>NaN</td>\n",
              "      <td>NaN</td>\n",
              "    </tr>\n",
              "    <tr>\n",
              "      <th>9</th>\n",
              "      <td>204210</td>\n",
              "      <td>모두투어리츠</td>\n",
              "      <td>3093.333333</td>\n",
              "      <td>3475.0</td>\n",
              "      <td>모두투어리츠</td>\n",
              "      <td>85.166667</td>\n",
              "      <td>5335.0</td>\n",
              "      <td>40.802348</td>\n",
              "      <td>0.651359</td>\n",
              "    </tr>\n",
              "    <tr>\n",
              "      <th>10</th>\n",
              "      <td>136480</td>\n",
              "      <td>NaN</td>\n",
              "      <td>NaN</td>\n",
              "      <td>NaN</td>\n",
              "      <td>하림</td>\n",
              "      <td>274.166667</td>\n",
              "      <td>3551.0</td>\n",
              "      <td>11.489362</td>\n",
              "      <td>0.887074</td>\n",
              "    </tr>\n",
              "    <tr>\n",
              "      <th>11</th>\n",
              "      <td>138040</td>\n",
              "      <td>NaN</td>\n",
              "      <td>NaN</td>\n",
              "      <td>NaN</td>\n",
              "      <td>메리츠금융지주</td>\n",
              "      <td>2122.333333</td>\n",
              "      <td>14894.0</td>\n",
              "      <td>6.313806</td>\n",
              "      <td>0.899691</td>\n",
              "    </tr>\n",
              "    <tr>\n",
              "      <th>12</th>\n",
              "      <td>161390</td>\n",
              "      <td>NaN</td>\n",
              "      <td>NaN</td>\n",
              "      <td>NaN</td>\n",
              "      <td>한국타이어</td>\n",
              "      <td>5648.500000</td>\n",
              "      <td>51341.0</td>\n",
              "      <td>7.453306</td>\n",
              "      <td>0.820007</td>\n",
              "    </tr>\n",
              "    <tr>\n",
              "      <th>13</th>\n",
              "      <td>181710</td>\n",
              "      <td>NaN</td>\n",
              "      <td>NaN</td>\n",
              "      <td>NaN</td>\n",
              "      <td>NHN엔터테인먼트</td>\n",
              "      <td>2110.166667</td>\n",
              "      <td>78434.0</td>\n",
              "      <td>30.755864</td>\n",
              "      <td>0.827447</td>\n",
              "    </tr>\n",
              "    <tr>\n",
              "      <th>14</th>\n",
              "      <td>207940</td>\n",
              "      <td>NaN</td>\n",
              "      <td>NaN</td>\n",
              "      <td>NaN</td>\n",
              "      <td>삼성바이오로직스</td>\n",
              "      <td>4644.166667</td>\n",
              "      <td>60099.0</td>\n",
              "      <td>89.790059</td>\n",
              "      <td>6.938551</td>\n",
              "    </tr>\n",
              "  </tbody>\n",
              "</table>\n",
              "</div>"
            ],
            "text/plain": [
              "        id stock_name          value  ...       bps        per       pbr\n",
              "0   128940       한미약품   59385.666667  ...       NaN        NaN       NaN\n",
              "1   130960     CJ E&M   58540.666667  ...   54068.0  15.695091  1.829178\n",
              "2   138250      엔에스쇼핑   14558.666667  ...       NaN        NaN       NaN\n",
              "3   139480        이마트  239230.833333  ...  295780.0  13.931338  0.860437\n",
              "4   142280     녹십자엠에스     468.833333  ...       NaN        NaN       NaN\n",
              "5   145990        삼양사   82750.000000  ...  108090.0  14.283226  0.758627\n",
              "6   185750        종근당   40293.666667  ...   40684.0  25.185866  2.470259\n",
              "7   192400      쿠쿠홀딩스  179204.666667  ...       NaN        NaN       NaN\n",
              "8   199800         툴젠   -2514.333333  ...       NaN        NaN       NaN\n",
              "9   204210     모두투어리츠    3093.333333  ...    5335.0  40.802348  0.651359\n",
              "10  136480        NaN            NaN  ...    3551.0  11.489362  0.887074\n",
              "11  138040        NaN            NaN  ...   14894.0   6.313806  0.899691\n",
              "12  161390        NaN            NaN  ...   51341.0   7.453306  0.820007\n",
              "13  181710        NaN            NaN  ...   78434.0  30.755864  0.827447\n",
              "14  207940        NaN            NaN  ...   60099.0  89.790059  6.938551\n",
              "\n",
              "[15 rows x 9 columns]"
            ]
          },
          "metadata": {},
          "execution_count": 42
        }
      ]
    },
    {
      "cell_type": "markdown",
      "metadata": {
        "id": "S7YXYsQCitvx"
      },
      "source": [
        "how='left' 옵션을 설정하면 왼쪽 데이터프레임의 키 열에 속하는 데이터 값을 기준으로 병합한다. 한편 left_on과 right_on 옵션을 사용하여 좌우 데이터프레임에 각각 다르게 키를 지정할 수 있다.\n",
        "\n",
        "df1의 'stock_name'열과 df2의 'name'열을 기준으로 병합한다. 기준열이 아닌 'id'열의 경우 양쪽 데이터프레임에 모두 속하기 때문에 'id_x', 'id_y'와 같이 구분하여 표시된다."
      ]
    },
    {
      "cell_type": "code",
      "metadata": {
        "colab": {
          "base_uri": "https://localhost:8080/",
          "height": 494
        },
        "id": "mNc5yfs7jHM-",
        "outputId": "3dc3fe3a-29ae-4ca1-8c01-2fd2af7c5702"
      },
      "source": [
        "merge_left = pd.merge(df1, df2, how='left', left_on='stock_name', right_on='name')\n",
        "merge_left"
      ],
      "execution_count": 43,
      "outputs": [
        {
          "output_type": "execute_result",
          "data": {
            "text/html": [
              "<div>\n",
              "<style scoped>\n",
              "    .dataframe tbody tr th:only-of-type {\n",
              "        vertical-align: middle;\n",
              "    }\n",
              "\n",
              "    .dataframe tbody tr th {\n",
              "        vertical-align: top;\n",
              "    }\n",
              "\n",
              "    .dataframe thead th {\n",
              "        text-align: right;\n",
              "    }\n",
              "</style>\n",
              "<table border=\"1\" class=\"dataframe\">\n",
              "  <thead>\n",
              "    <tr style=\"text-align: right;\">\n",
              "      <th></th>\n",
              "      <th>id_x</th>\n",
              "      <th>stock_name</th>\n",
              "      <th>value</th>\n",
              "      <th>price</th>\n",
              "      <th>id_y</th>\n",
              "      <th>name</th>\n",
              "      <th>eps</th>\n",
              "      <th>bps</th>\n",
              "      <th>per</th>\n",
              "      <th>pbr</th>\n",
              "    </tr>\n",
              "  </thead>\n",
              "  <tbody>\n",
              "    <tr>\n",
              "      <th>0</th>\n",
              "      <td>128940</td>\n",
              "      <td>한미약품</td>\n",
              "      <td>59385.666667</td>\n",
              "      <td>421000</td>\n",
              "      <td>NaN</td>\n",
              "      <td>NaN</td>\n",
              "      <td>NaN</td>\n",
              "      <td>NaN</td>\n",
              "      <td>NaN</td>\n",
              "      <td>NaN</td>\n",
              "    </tr>\n",
              "    <tr>\n",
              "      <th>1</th>\n",
              "      <td>130960</td>\n",
              "      <td>CJ E&amp;M</td>\n",
              "      <td>58540.666667</td>\n",
              "      <td>98900</td>\n",
              "      <td>130960.0</td>\n",
              "      <td>CJ E&amp;M</td>\n",
              "      <td>6301.333333</td>\n",
              "      <td>54068.0</td>\n",
              "      <td>15.695091</td>\n",
              "      <td>1.829178</td>\n",
              "    </tr>\n",
              "    <tr>\n",
              "      <th>2</th>\n",
              "      <td>138250</td>\n",
              "      <td>엔에스쇼핑</td>\n",
              "      <td>14558.666667</td>\n",
              "      <td>13200</td>\n",
              "      <td>NaN</td>\n",
              "      <td>NaN</td>\n",
              "      <td>NaN</td>\n",
              "      <td>NaN</td>\n",
              "      <td>NaN</td>\n",
              "      <td>NaN</td>\n",
              "    </tr>\n",
              "    <tr>\n",
              "      <th>3</th>\n",
              "      <td>139480</td>\n",
              "      <td>이마트</td>\n",
              "      <td>239230.833333</td>\n",
              "      <td>254500</td>\n",
              "      <td>139480.0</td>\n",
              "      <td>이마트</td>\n",
              "      <td>18268.166667</td>\n",
              "      <td>295780.0</td>\n",
              "      <td>13.931338</td>\n",
              "      <td>0.860437</td>\n",
              "    </tr>\n",
              "    <tr>\n",
              "      <th>4</th>\n",
              "      <td>142280</td>\n",
              "      <td>녹십자엠에스</td>\n",
              "      <td>468.833333</td>\n",
              "      <td>10200</td>\n",
              "      <td>NaN</td>\n",
              "      <td>NaN</td>\n",
              "      <td>NaN</td>\n",
              "      <td>NaN</td>\n",
              "      <td>NaN</td>\n",
              "      <td>NaN</td>\n",
              "    </tr>\n",
              "    <tr>\n",
              "      <th>5</th>\n",
              "      <td>145990</td>\n",
              "      <td>삼양사</td>\n",
              "      <td>82750.000000</td>\n",
              "      <td>82000</td>\n",
              "      <td>145990.0</td>\n",
              "      <td>삼양사</td>\n",
              "      <td>5741.000000</td>\n",
              "      <td>108090.0</td>\n",
              "      <td>14.283226</td>\n",
              "      <td>0.758627</td>\n",
              "    </tr>\n",
              "    <tr>\n",
              "      <th>6</th>\n",
              "      <td>185750</td>\n",
              "      <td>종근당</td>\n",
              "      <td>40293.666667</td>\n",
              "      <td>100500</td>\n",
              "      <td>185750.0</td>\n",
              "      <td>종근당</td>\n",
              "      <td>3990.333333</td>\n",
              "      <td>40684.0</td>\n",
              "      <td>25.185866</td>\n",
              "      <td>2.470259</td>\n",
              "    </tr>\n",
              "    <tr>\n",
              "      <th>7</th>\n",
              "      <td>192400</td>\n",
              "      <td>쿠쿠홀딩스</td>\n",
              "      <td>179204.666667</td>\n",
              "      <td>177500</td>\n",
              "      <td>NaN</td>\n",
              "      <td>NaN</td>\n",
              "      <td>NaN</td>\n",
              "      <td>NaN</td>\n",
              "      <td>NaN</td>\n",
              "      <td>NaN</td>\n",
              "    </tr>\n",
              "    <tr>\n",
              "      <th>8</th>\n",
              "      <td>199800</td>\n",
              "      <td>툴젠</td>\n",
              "      <td>-2514.333333</td>\n",
              "      <td>115400</td>\n",
              "      <td>NaN</td>\n",
              "      <td>NaN</td>\n",
              "      <td>NaN</td>\n",
              "      <td>NaN</td>\n",
              "      <td>NaN</td>\n",
              "      <td>NaN</td>\n",
              "    </tr>\n",
              "    <tr>\n",
              "      <th>9</th>\n",
              "      <td>204210</td>\n",
              "      <td>모두투어리츠</td>\n",
              "      <td>3093.333333</td>\n",
              "      <td>3475</td>\n",
              "      <td>204210.0</td>\n",
              "      <td>모두투어리츠</td>\n",
              "      <td>85.166667</td>\n",
              "      <td>5335.0</td>\n",
              "      <td>40.802348</td>\n",
              "      <td>0.651359</td>\n",
              "    </tr>\n",
              "  </tbody>\n",
              "</table>\n",
              "</div>"
            ],
            "text/plain": [
              "     id_x stock_name          value  ...       bps        per       pbr\n",
              "0  128940       한미약품   59385.666667  ...       NaN        NaN       NaN\n",
              "1  130960     CJ E&M   58540.666667  ...   54068.0  15.695091  1.829178\n",
              "2  138250      엔에스쇼핑   14558.666667  ...       NaN        NaN       NaN\n",
              "3  139480        이마트  239230.833333  ...  295780.0  13.931338  0.860437\n",
              "4  142280     녹십자엠에스     468.833333  ...       NaN        NaN       NaN\n",
              "5  145990        삼양사   82750.000000  ...  108090.0  14.283226  0.758627\n",
              "6  185750        종근당   40293.666667  ...   40684.0  25.185866  2.470259\n",
              "7  192400      쿠쿠홀딩스  179204.666667  ...       NaN        NaN       NaN\n",
              "8  199800         툴젠   -2514.333333  ...       NaN        NaN       NaN\n",
              "9  204210     모두투어리츠    3093.333333  ...    5335.0  40.802348  0.651359\n",
              "\n",
              "[10 rows x 10 columns]"
            ]
          },
          "metadata": {},
          "execution_count": 43
        }
      ]
    },
    {
      "cell_type": "code",
      "metadata": {
        "id": "_1wuNkAvjifo"
      },
      "source": [
        "merge_right = pd.merge(df1, df2, how='right', left_on='stock_name', right_on='name')"
      ],
      "execution_count": 44,
      "outputs": []
    },
    {
      "cell_type": "markdown",
      "metadata": {
        "id": "tYv1SrEtj5aa"
      },
      "source": [
        "merge() 함수를 불린 인덱싱과 함꼐 사용하면 원하는 데이터를 추출할 수 있다.\n",
        "\n",
        "주가 50000만 미만인 종목을 찾고, 해당 종목의 벨류에이션 지표를 확인한다. 주가 데이터와 벨류에이션 지표가 다른 데이터프레임에 있기 때문에 merge() 함수를 사용한다. on=None 옵션과 how='inner' 옵션이 기본값으로 적용되기 때문에 두 데이터프레임에 공통으로 존재하는 열(id)을 기준으로 기준 열들의 값이 양쪽에 공통으로 존재하는 데이터가 추출된다."
      ]
    },
    {
      "cell_type": "code",
      "metadata": {
        "colab": {
          "base_uri": "https://localhost:8080/",
          "height": 142
        },
        "id": "Ntp7XP7fkTYT",
        "outputId": "0dec0118-32b2-4998-f05b-2c7305e1d8ec"
      },
      "source": [
        "price = df1[df1['price'] < 50000]\n",
        "price"
      ],
      "execution_count": 45,
      "outputs": [
        {
          "output_type": "execute_result",
          "data": {
            "text/html": [
              "<div>\n",
              "<style scoped>\n",
              "    .dataframe tbody tr th:only-of-type {\n",
              "        vertical-align: middle;\n",
              "    }\n",
              "\n",
              "    .dataframe tbody tr th {\n",
              "        vertical-align: top;\n",
              "    }\n",
              "\n",
              "    .dataframe thead th {\n",
              "        text-align: right;\n",
              "    }\n",
              "</style>\n",
              "<table border=\"1\" class=\"dataframe\">\n",
              "  <thead>\n",
              "    <tr style=\"text-align: right;\">\n",
              "      <th></th>\n",
              "      <th>id</th>\n",
              "      <th>stock_name</th>\n",
              "      <th>value</th>\n",
              "      <th>price</th>\n",
              "    </tr>\n",
              "  </thead>\n",
              "  <tbody>\n",
              "    <tr>\n",
              "      <th>2</th>\n",
              "      <td>138250</td>\n",
              "      <td>엔에스쇼핑</td>\n",
              "      <td>14558.666667</td>\n",
              "      <td>13200</td>\n",
              "    </tr>\n",
              "    <tr>\n",
              "      <th>4</th>\n",
              "      <td>142280</td>\n",
              "      <td>녹십자엠에스</td>\n",
              "      <td>468.833333</td>\n",
              "      <td>10200</td>\n",
              "    </tr>\n",
              "    <tr>\n",
              "      <th>9</th>\n",
              "      <td>204210</td>\n",
              "      <td>모두투어리츠</td>\n",
              "      <td>3093.333333</td>\n",
              "      <td>3475</td>\n",
              "    </tr>\n",
              "  </tbody>\n",
              "</table>\n",
              "</div>"
            ],
            "text/plain": [
              "       id stock_name         value  price\n",
              "2  138250      엔에스쇼핑  14558.666667  13200\n",
              "4  142280     녹십자엠에스    468.833333  10200\n",
              "9  204210     모두투어리츠   3093.333333   3475"
            ]
          },
          "metadata": {},
          "execution_count": 45
        }
      ]
    },
    {
      "cell_type": "code",
      "metadata": {
        "colab": {
          "base_uri": "https://localhost:8080/",
          "height": 114
        },
        "id": "CSdtryyEkaIg",
        "outputId": "62175bc9-88fa-43f3-b365-44112fc83dc9"
      },
      "source": [
        "value = pd.merge(price, df2)\n",
        "value"
      ],
      "execution_count": 46,
      "outputs": [
        {
          "output_type": "execute_result",
          "data": {
            "text/html": [
              "<div>\n",
              "<style scoped>\n",
              "    .dataframe tbody tr th:only-of-type {\n",
              "        vertical-align: middle;\n",
              "    }\n",
              "\n",
              "    .dataframe tbody tr th {\n",
              "        vertical-align: top;\n",
              "    }\n",
              "\n",
              "    .dataframe thead th {\n",
              "        text-align: right;\n",
              "    }\n",
              "</style>\n",
              "<table border=\"1\" class=\"dataframe\">\n",
              "  <thead>\n",
              "    <tr style=\"text-align: right;\">\n",
              "      <th></th>\n",
              "      <th>id</th>\n",
              "      <th>stock_name</th>\n",
              "      <th>value</th>\n",
              "      <th>price</th>\n",
              "      <th>name</th>\n",
              "      <th>eps</th>\n",
              "      <th>bps</th>\n",
              "      <th>per</th>\n",
              "      <th>pbr</th>\n",
              "    </tr>\n",
              "  </thead>\n",
              "  <tbody>\n",
              "    <tr>\n",
              "      <th>0</th>\n",
              "      <td>204210</td>\n",
              "      <td>모두투어리츠</td>\n",
              "      <td>3093.333333</td>\n",
              "      <td>3475</td>\n",
              "      <td>모두투어리츠</td>\n",
              "      <td>85.166667</td>\n",
              "      <td>5335</td>\n",
              "      <td>40.802348</td>\n",
              "      <td>0.651359</td>\n",
              "    </tr>\n",
              "  </tbody>\n",
              "</table>\n",
              "</div>"
            ],
            "text/plain": [
              "       id stock_name        value  price  ...        eps   bps        per       pbr\n",
              "0  204210     모두투어리츠  3093.333333   3475  ...  85.166667  5335  40.802348  0.651359\n",
              "\n",
              "[1 rows x 9 columns]"
            ]
          },
          "metadata": {},
          "execution_count": 46
        }
      ]
    },
    {
      "cell_type": "markdown",
      "metadata": {
        "id": "cWk1DxykkXx6"
      },
      "source": [
        "* 데이터프레임 결합\n",
        "\n",
        "판다스 join() 메소드는 merge() 함수를 기반으로 만들어졌기 때문에 기본 작동 방식이 서로 비슷하다. 다만, join() 메소드는 두 데이터프레임의 행 인덱스를 기준으로 결합하는 점에서 merge() 함수와 차이가 있다. 하지만 join() 메소드에서도 on=keys 옵션을 설정하면 행 인덱스 대신 다른 열을 기준으로 결합하는 것이 가능하다.\n",
        "\n",
        "        DataFrame1.join(DataFrame2, how='left'), how='left'가 기본옵션\n"
      ]
    },
    {
      "cell_type": "code",
      "metadata": {
        "colab": {
          "base_uri": "https://localhost:8080/",
          "height": 526
        },
        "id": "K3bFfG_Sk226",
        "outputId": "555fe692-0c87-4f94-cff7-4679c99cf7b7"
      },
      "source": [
        "import pandas as pd\n",
        "\n",
        "df1 = pd.read_excel('경로/stock price.xlsx', index_col='id', engine='openpyxl')\n",
        "df2 = pd.read_excel('경로/stock valuation.xlsx', index_col='id', engine='openpyxl')\n",
        "\n",
        "# df1의 행 인덱스에 해당하는 10개의 종목의 id를 기준으로 결합되어 데이터프레임이 반환된다.\n",
        "df3 = df1.join(df2)\n",
        "df3"
      ],
      "execution_count": 47,
      "outputs": [
        {
          "output_type": "execute_result",
          "data": {
            "text/html": [
              "<div>\n",
              "<style scoped>\n",
              "    .dataframe tbody tr th:only-of-type {\n",
              "        vertical-align: middle;\n",
              "    }\n",
              "\n",
              "    .dataframe tbody tr th {\n",
              "        vertical-align: top;\n",
              "    }\n",
              "\n",
              "    .dataframe thead th {\n",
              "        text-align: right;\n",
              "    }\n",
              "</style>\n",
              "<table border=\"1\" class=\"dataframe\">\n",
              "  <thead>\n",
              "    <tr style=\"text-align: right;\">\n",
              "      <th></th>\n",
              "      <th>stock_name</th>\n",
              "      <th>value</th>\n",
              "      <th>price</th>\n",
              "      <th>name</th>\n",
              "      <th>eps</th>\n",
              "      <th>bps</th>\n",
              "      <th>per</th>\n",
              "      <th>pbr</th>\n",
              "    </tr>\n",
              "    <tr>\n",
              "      <th>id</th>\n",
              "      <th></th>\n",
              "      <th></th>\n",
              "      <th></th>\n",
              "      <th></th>\n",
              "      <th></th>\n",
              "      <th></th>\n",
              "      <th></th>\n",
              "      <th></th>\n",
              "    </tr>\n",
              "  </thead>\n",
              "  <tbody>\n",
              "    <tr>\n",
              "      <th>128940</th>\n",
              "      <td>한미약품</td>\n",
              "      <td>59385.666667</td>\n",
              "      <td>421000</td>\n",
              "      <td>NaN</td>\n",
              "      <td>NaN</td>\n",
              "      <td>NaN</td>\n",
              "      <td>NaN</td>\n",
              "      <td>NaN</td>\n",
              "    </tr>\n",
              "    <tr>\n",
              "      <th>130960</th>\n",
              "      <td>CJ E&amp;M</td>\n",
              "      <td>58540.666667</td>\n",
              "      <td>98900</td>\n",
              "      <td>CJ E&amp;M</td>\n",
              "      <td>6301.333333</td>\n",
              "      <td>54068.0</td>\n",
              "      <td>15.695091</td>\n",
              "      <td>1.829178</td>\n",
              "    </tr>\n",
              "    <tr>\n",
              "      <th>138250</th>\n",
              "      <td>엔에스쇼핑</td>\n",
              "      <td>14558.666667</td>\n",
              "      <td>13200</td>\n",
              "      <td>NaN</td>\n",
              "      <td>NaN</td>\n",
              "      <td>NaN</td>\n",
              "      <td>NaN</td>\n",
              "      <td>NaN</td>\n",
              "    </tr>\n",
              "    <tr>\n",
              "      <th>139480</th>\n",
              "      <td>이마트</td>\n",
              "      <td>239230.833333</td>\n",
              "      <td>254500</td>\n",
              "      <td>이마트</td>\n",
              "      <td>18268.166667</td>\n",
              "      <td>295780.0</td>\n",
              "      <td>13.931338</td>\n",
              "      <td>0.860437</td>\n",
              "    </tr>\n",
              "    <tr>\n",
              "      <th>142280</th>\n",
              "      <td>녹십자엠에스</td>\n",
              "      <td>468.833333</td>\n",
              "      <td>10200</td>\n",
              "      <td>NaN</td>\n",
              "      <td>NaN</td>\n",
              "      <td>NaN</td>\n",
              "      <td>NaN</td>\n",
              "      <td>NaN</td>\n",
              "    </tr>\n",
              "    <tr>\n",
              "      <th>145990</th>\n",
              "      <td>삼양사</td>\n",
              "      <td>82750.000000</td>\n",
              "      <td>82000</td>\n",
              "      <td>삼양사</td>\n",
              "      <td>5741.000000</td>\n",
              "      <td>108090.0</td>\n",
              "      <td>14.283226</td>\n",
              "      <td>0.758627</td>\n",
              "    </tr>\n",
              "    <tr>\n",
              "      <th>185750</th>\n",
              "      <td>종근당</td>\n",
              "      <td>40293.666667</td>\n",
              "      <td>100500</td>\n",
              "      <td>종근당</td>\n",
              "      <td>3990.333333</td>\n",
              "      <td>40684.0</td>\n",
              "      <td>25.185866</td>\n",
              "      <td>2.470259</td>\n",
              "    </tr>\n",
              "    <tr>\n",
              "      <th>192400</th>\n",
              "      <td>쿠쿠홀딩스</td>\n",
              "      <td>179204.666667</td>\n",
              "      <td>177500</td>\n",
              "      <td>NaN</td>\n",
              "      <td>NaN</td>\n",
              "      <td>NaN</td>\n",
              "      <td>NaN</td>\n",
              "      <td>NaN</td>\n",
              "    </tr>\n",
              "    <tr>\n",
              "      <th>199800</th>\n",
              "      <td>툴젠</td>\n",
              "      <td>-2514.333333</td>\n",
              "      <td>115400</td>\n",
              "      <td>NaN</td>\n",
              "      <td>NaN</td>\n",
              "      <td>NaN</td>\n",
              "      <td>NaN</td>\n",
              "      <td>NaN</td>\n",
              "    </tr>\n",
              "    <tr>\n",
              "      <th>204210</th>\n",
              "      <td>모두투어리츠</td>\n",
              "      <td>3093.333333</td>\n",
              "      <td>3475</td>\n",
              "      <td>모두투어리츠</td>\n",
              "      <td>85.166667</td>\n",
              "      <td>5335.0</td>\n",
              "      <td>40.802348</td>\n",
              "      <td>0.651359</td>\n",
              "    </tr>\n",
              "  </tbody>\n",
              "</table>\n",
              "</div>"
            ],
            "text/plain": [
              "       stock_name          value   price  ...       bps        per       pbr\n",
              "id                                        ...                               \n",
              "128940       한미약품   59385.666667  421000  ...       NaN        NaN       NaN\n",
              "130960     CJ E&M   58540.666667   98900  ...   54068.0  15.695091  1.829178\n",
              "138250      엔에스쇼핑   14558.666667   13200  ...       NaN        NaN       NaN\n",
              "139480        이마트  239230.833333  254500  ...  295780.0  13.931338  0.860437\n",
              "142280     녹십자엠에스     468.833333   10200  ...       NaN        NaN       NaN\n",
              "145990        삼양사   82750.000000   82000  ...  108090.0  14.283226  0.758627\n",
              "185750        종근당   40293.666667  100500  ...   40684.0  25.185866  2.470259\n",
              "192400      쿠쿠홀딩스  179204.666667  177500  ...       NaN        NaN       NaN\n",
              "199800         툴젠   -2514.333333  115400  ...       NaN        NaN       NaN\n",
              "204210     모두투어리츠    3093.333333    3475  ...    5335.0  40.802348  0.651359\n",
              "\n",
              "[10 rows x 8 columns]"
            ]
          },
          "metadata": {},
          "execution_count": 47
        }
      ]
    },
    {
      "cell_type": "markdown",
      "metadata": {
        "id": "CFfD8PqTngX4"
      },
      "source": [
        "이번에는 how='inner' 옵션을 적용해서 두 데이터프레임에 공통적으로 존재하는 행 인덱스를 기준으로 추출한다."
      ]
    },
    {
      "cell_type": "code",
      "metadata": {
        "colab": {
          "base_uri": "https://localhost:8080/",
          "height": 354
        },
        "id": "1Hf0q7gTlTCI",
        "outputId": "4fba9637-92b9-43cd-9a96-764fbbf53f1b"
      },
      "source": [
        "df4 = df1.join(df2, how='inner')\n",
        "df4"
      ],
      "execution_count": 48,
      "outputs": [
        {
          "output_type": "execute_result",
          "data": {
            "text/html": [
              "<div>\n",
              "<style scoped>\n",
              "    .dataframe tbody tr th:only-of-type {\n",
              "        vertical-align: middle;\n",
              "    }\n",
              "\n",
              "    .dataframe tbody tr th {\n",
              "        vertical-align: top;\n",
              "    }\n",
              "\n",
              "    .dataframe thead th {\n",
              "        text-align: right;\n",
              "    }\n",
              "</style>\n",
              "<table border=\"1\" class=\"dataframe\">\n",
              "  <thead>\n",
              "    <tr style=\"text-align: right;\">\n",
              "      <th></th>\n",
              "      <th>stock_name</th>\n",
              "      <th>value</th>\n",
              "      <th>price</th>\n",
              "      <th>name</th>\n",
              "      <th>eps</th>\n",
              "      <th>bps</th>\n",
              "      <th>per</th>\n",
              "      <th>pbr</th>\n",
              "    </tr>\n",
              "    <tr>\n",
              "      <th>id</th>\n",
              "      <th></th>\n",
              "      <th></th>\n",
              "      <th></th>\n",
              "      <th></th>\n",
              "      <th></th>\n",
              "      <th></th>\n",
              "      <th></th>\n",
              "      <th></th>\n",
              "    </tr>\n",
              "  </thead>\n",
              "  <tbody>\n",
              "    <tr>\n",
              "      <th>130960</th>\n",
              "      <td>CJ E&amp;M</td>\n",
              "      <td>58540.666667</td>\n",
              "      <td>98900</td>\n",
              "      <td>CJ E&amp;M</td>\n",
              "      <td>6301.333333</td>\n",
              "      <td>54068</td>\n",
              "      <td>15.695091</td>\n",
              "      <td>1.829178</td>\n",
              "    </tr>\n",
              "    <tr>\n",
              "      <th>139480</th>\n",
              "      <td>이마트</td>\n",
              "      <td>239230.833333</td>\n",
              "      <td>254500</td>\n",
              "      <td>이마트</td>\n",
              "      <td>18268.166667</td>\n",
              "      <td>295780</td>\n",
              "      <td>13.931338</td>\n",
              "      <td>0.860437</td>\n",
              "    </tr>\n",
              "    <tr>\n",
              "      <th>145990</th>\n",
              "      <td>삼양사</td>\n",
              "      <td>82750.000000</td>\n",
              "      <td>82000</td>\n",
              "      <td>삼양사</td>\n",
              "      <td>5741.000000</td>\n",
              "      <td>108090</td>\n",
              "      <td>14.283226</td>\n",
              "      <td>0.758627</td>\n",
              "    </tr>\n",
              "    <tr>\n",
              "      <th>185750</th>\n",
              "      <td>종근당</td>\n",
              "      <td>40293.666667</td>\n",
              "      <td>100500</td>\n",
              "      <td>종근당</td>\n",
              "      <td>3990.333333</td>\n",
              "      <td>40684</td>\n",
              "      <td>25.185866</td>\n",
              "      <td>2.470259</td>\n",
              "    </tr>\n",
              "    <tr>\n",
              "      <th>204210</th>\n",
              "      <td>모두투어리츠</td>\n",
              "      <td>3093.333333</td>\n",
              "      <td>3475</td>\n",
              "      <td>모두투어리츠</td>\n",
              "      <td>85.166667</td>\n",
              "      <td>5335</td>\n",
              "      <td>40.802348</td>\n",
              "      <td>0.651359</td>\n",
              "    </tr>\n",
              "  </tbody>\n",
              "</table>\n",
              "</div>"
            ],
            "text/plain": [
              "       stock_name          value   price  ...     bps        per       pbr\n",
              "id                                        ...                             \n",
              "130960     CJ E&M   58540.666667   98900  ...   54068  15.695091  1.829178\n",
              "139480        이마트  239230.833333  254500  ...  295780  13.931338  0.860437\n",
              "145990        삼양사   82750.000000   82000  ...  108090  14.283226  0.758627\n",
              "185750        종근당   40293.666667  100500  ...   40684  25.185866  2.470259\n",
              "204210     모두투어리츠    3093.333333    3475  ...    5335  40.802348  0.651359\n",
              "\n",
              "[5 rows x 8 columns]"
            ]
          },
          "metadata": {},
          "execution_count": 48
        }
      ]
    },
    {
      "cell_type": "markdown",
      "metadata": {
        "id": "pvtzNdt7pazv"
      },
      "source": [
        "# 그룹 연산\n",
        "\n",
        "복잡한 데이터를 어떤 기준에 따라 여러 그룹으로 나눠서 관찰하는 것도 좋은 방법이다. 이처럼 특정 기준을 적용하여 몇 개의 그룹으로 분할하여 처리하는 것을 그룹 연산이라고 부른다.\n",
        "\n",
        "특히 그룹 연산은 데이터를 집계, 변환, 필터링하는데 효율적이다. 3단계의 과정으로 이루어지고, 데이터를 그룹으로 분할하는 1단계 과정을 판다스 groupby() 메소드를 사용한다.\n",
        "\n",
        "1단계) 분할(split) : 데이터를 특정 조건에 의해 분할\n",
        "\n",
        "2단계) 적용(apply) : 데이터를 집계, 변환, 필터링하는데 필요한 메소드 적용\n",
        "\n",
        "3단계) 결합(combine) : 2단계의 처리 결과를 하나로 결합"
      ]
    },
    {
      "cell_type": "markdown",
      "metadata": {
        "id": "m5F-SX9Wrsn3"
      },
      "source": [
        "* 그룹 객체 만들기(분할 단계)\n",
        "\n",
        "#### 1개 열을 기준으로 그룹화\n",
        "\n",
        "groupby() 메소드는 데이터프레임의 특정 열을 기준으로 데이터프레임을 분할하여 그룹 객체를 반환한다. 기준이 되는 열은 1개도 가능하고, 여러 열을 리스트로 입력할 수도 있다.\n",
        "\n",
        "        DataFrame.groupby(기준이 되는 열)\n",
        "\n",
        "먼저 열 1개를 기준으로 분할하여 그룹 객체를 만드는 방법이다. 'titanic' 데이터셋에서 5개의 열을 선택하여 만든 데이터프레임(df)을 'class' 열을 기준(키)으로 하여 그룹으로 나눈다."
      ]
    },
    {
      "cell_type": "code",
      "metadata": {
        "colab": {
          "base_uri": "https://localhost:8080/",
          "height": 221
        },
        "id": "BU7g5JxwsnYv",
        "outputId": "0224d14b-aa5b-49aa-8232-0a92aae176f3"
      },
      "source": [
        "import pandas as pd\n",
        "import seaborn as sns\n",
        "\n",
        "titanic = sns.load_dataset('titanic')\n",
        "df = titanic.loc[:, ['age','sex', 'class', 'fare', 'survived']]\n",
        "\n",
        "print('승객 수: ',len(df))\n",
        "display(df.head())"
      ],
      "execution_count": 49,
      "outputs": [
        {
          "output_type": "stream",
          "name": "stdout",
          "text": [
            "승객 수:  891\n"
          ]
        },
        {
          "output_type": "display_data",
          "data": {
            "text/html": [
              "<div>\n",
              "<style scoped>\n",
              "    .dataframe tbody tr th:only-of-type {\n",
              "        vertical-align: middle;\n",
              "    }\n",
              "\n",
              "    .dataframe tbody tr th {\n",
              "        vertical-align: top;\n",
              "    }\n",
              "\n",
              "    .dataframe thead th {\n",
              "        text-align: right;\n",
              "    }\n",
              "</style>\n",
              "<table border=\"1\" class=\"dataframe\">\n",
              "  <thead>\n",
              "    <tr style=\"text-align: right;\">\n",
              "      <th></th>\n",
              "      <th>age</th>\n",
              "      <th>sex</th>\n",
              "      <th>class</th>\n",
              "      <th>fare</th>\n",
              "      <th>survived</th>\n",
              "    </tr>\n",
              "  </thead>\n",
              "  <tbody>\n",
              "    <tr>\n",
              "      <th>0</th>\n",
              "      <td>22.0</td>\n",
              "      <td>male</td>\n",
              "      <td>Third</td>\n",
              "      <td>7.2500</td>\n",
              "      <td>0</td>\n",
              "    </tr>\n",
              "    <tr>\n",
              "      <th>1</th>\n",
              "      <td>38.0</td>\n",
              "      <td>female</td>\n",
              "      <td>First</td>\n",
              "      <td>71.2833</td>\n",
              "      <td>1</td>\n",
              "    </tr>\n",
              "    <tr>\n",
              "      <th>2</th>\n",
              "      <td>26.0</td>\n",
              "      <td>female</td>\n",
              "      <td>Third</td>\n",
              "      <td>7.9250</td>\n",
              "      <td>1</td>\n",
              "    </tr>\n",
              "    <tr>\n",
              "      <th>3</th>\n",
              "      <td>35.0</td>\n",
              "      <td>female</td>\n",
              "      <td>First</td>\n",
              "      <td>53.1000</td>\n",
              "      <td>1</td>\n",
              "    </tr>\n",
              "    <tr>\n",
              "      <th>4</th>\n",
              "      <td>35.0</td>\n",
              "      <td>male</td>\n",
              "      <td>Third</td>\n",
              "      <td>8.0500</td>\n",
              "      <td>0</td>\n",
              "    </tr>\n",
              "  </tbody>\n",
              "</table>\n",
              "</div>"
            ],
            "text/plain": [
              "    age     sex  class     fare  survived\n",
              "0  22.0    male  Third   7.2500         0\n",
              "1  38.0  female  First  71.2833         1\n",
              "2  26.0  female  Third   7.9250         1\n",
              "3  35.0  female  First  53.1000         1\n",
              "4  35.0    male  Third   8.0500         0"
            ]
          },
          "metadata": {}
        }
      ]
    },
    {
      "cell_type": "code",
      "metadata": {
        "colab": {
          "base_uri": "https://localhost:8080/"
        },
        "id": "4Y8aCfswtsJv",
        "outputId": "e1c76210-90c9-4714-f723-12928b87450e"
      },
      "source": [
        "# class 열을 기준으로 분할\n",
        "grouped = df.groupby(['class'])\n",
        "print(grouped)"
      ],
      "execution_count": 50,
      "outputs": [
        {
          "output_type": "stream",
          "name": "stdout",
          "text": [
            "<pandas.core.groupby.generic.DataFrameGroupBy object at 0x7f3d9f316890>\n"
          ]
        }
      ]
    },
    {
      "cell_type": "markdown",
      "metadata": {
        "id": "4DOGis97t7NX"
      },
      "source": [
        "'class' 열에는 'First', 'Second', 'Third'라는 3개의 값이 들어있다. 이 3개의 값을 기준으로 891명의 데이터가 3개의 그룹으로 나누어 진다. 반복문을 이용하여 그룹 객체(grouped)의 내용을 출력하자."
      ]
    },
    {
      "cell_type": "code",
      "metadata": {
        "colab": {
          "base_uri": "https://localhost:8080/"
        },
        "id": "Q8o9_Ob4ui1-",
        "outputId": "b074b46a-7929-4114-ccc6-e63ca3957567"
      },
      "source": [
        "for k, g in grouped:\n",
        "    print('* key : ',k)\n",
        "    print('* number : ', len(g))\n",
        "    print(g.head())\n",
        "    print()"
      ],
      "execution_count": 51,
      "outputs": [
        {
          "output_type": "stream",
          "name": "stdout",
          "text": [
            "* key :  First\n",
            "* number :  216\n",
            "     age     sex  class     fare  survived\n",
            "1   38.0  female  First  71.2833         1\n",
            "3   35.0  female  First  53.1000         1\n",
            "6   54.0    male  First  51.8625         0\n",
            "11  58.0  female  First  26.5500         1\n",
            "23  28.0    male  First  35.5000         1\n",
            "\n",
            "* key :  Second\n",
            "* number :  184\n",
            "     age     sex   class     fare  survived\n",
            "9   14.0  female  Second  30.0708         1\n",
            "15  55.0  female  Second  16.0000         1\n",
            "17   NaN    male  Second  13.0000         1\n",
            "20  35.0    male  Second  26.0000         0\n",
            "21  34.0    male  Second  13.0000         1\n",
            "\n",
            "* key :  Third\n",
            "* number :  491\n",
            "    age     sex  class     fare  survived\n",
            "0  22.0    male  Third   7.2500         0\n",
            "2  26.0  female  Third   7.9250         1\n",
            "4  35.0    male  Third   8.0500         0\n",
            "5   NaN    male  Third   8.4583         0\n",
            "7   2.0    male  Third  21.0750         0\n",
            "\n"
          ]
        }
      ]
    },
    {
      "cell_type": "markdown",
      "metadata": {
        "id": "FcoO_M97uyxQ"
      },
      "source": [
        "위에서 생성한 그룹 객체(grouped)에 연산 메소드를 적용할 수 있다. 다음으로는 grouped 객체에 들어있는 3개의 그룹에 대하여 그룹별 평균값을 구하기 위해 mean() 메소드를 적용한다. 이때 연산이 가능한 열에 대해서만 선택적으로 연산을 수행한다. 따라서 문자열 데이터를 갖는 'sex', 'class'열은 제외하고, 숫자형 데이터를 가진 열에 대해서는 평균값을 계산한다. 1등석의 평균 나이가 38세로 가장 많고, 구조 확률도 63% 정도로 가장 높다는 정보를 얻을 수 있다."
      ]
    },
    {
      "cell_type": "code",
      "metadata": {
        "colab": {
          "base_uri": "https://localhost:8080/",
          "height": 172
        },
        "id": "R17bdsghvLpW",
        "outputId": "f70f91f6-ab48-42f3-cab8-89cc852b829e"
      },
      "source": [
        "# 연산 메소드 적용\n",
        "average = grouped.mean()\n",
        "average"
      ],
      "execution_count": 52,
      "outputs": [
        {
          "output_type": "execute_result",
          "data": {
            "text/html": [
              "<div>\n",
              "<style scoped>\n",
              "    .dataframe tbody tr th:only-of-type {\n",
              "        vertical-align: middle;\n",
              "    }\n",
              "\n",
              "    .dataframe tbody tr th {\n",
              "        vertical-align: top;\n",
              "    }\n",
              "\n",
              "    .dataframe thead th {\n",
              "        text-align: right;\n",
              "    }\n",
              "</style>\n",
              "<table border=\"1\" class=\"dataframe\">\n",
              "  <thead>\n",
              "    <tr style=\"text-align: right;\">\n",
              "      <th></th>\n",
              "      <th>age</th>\n",
              "      <th>fare</th>\n",
              "      <th>survived</th>\n",
              "    </tr>\n",
              "    <tr>\n",
              "      <th>class</th>\n",
              "      <th></th>\n",
              "      <th></th>\n",
              "      <th></th>\n",
              "    </tr>\n",
              "  </thead>\n",
              "  <tbody>\n",
              "    <tr>\n",
              "      <th>First</th>\n",
              "      <td>38.233441</td>\n",
              "      <td>84.154687</td>\n",
              "      <td>0.629630</td>\n",
              "    </tr>\n",
              "    <tr>\n",
              "      <th>Second</th>\n",
              "      <td>29.877630</td>\n",
              "      <td>20.662183</td>\n",
              "      <td>0.472826</td>\n",
              "    </tr>\n",
              "    <tr>\n",
              "      <th>Third</th>\n",
              "      <td>25.140620</td>\n",
              "      <td>13.675550</td>\n",
              "      <td>0.242363</td>\n",
              "    </tr>\n",
              "  </tbody>\n",
              "</table>\n",
              "</div>"
            ],
            "text/plain": [
              "              age       fare  survived\n",
              "class                                 \n",
              "First   38.233441  84.154687  0.629630\n",
              "Second  29.877630  20.662183  0.472826\n",
              "Third   25.140620  13.675550  0.242363"
            ]
          },
          "metadata": {},
          "execution_count": 52
        }
      ]
    },
    {
      "cell_type": "markdown",
      "metadata": {
        "id": "FOLICsPgvSxI"
      },
      "source": [
        "그룹 객체에 get_group() 메소드를 적용하면 특정 그룹만을 선택할 수 있다. grouped 객체의 3개 그룹 중 키 값이 'Third'인 3등석 승객 데이터를 가진 그룹을 따로 선택하여 추출한다."
      ]
    },
    {
      "cell_type": "code",
      "metadata": {
        "colab": {
          "base_uri": "https://localhost:8080/",
          "height": 203
        },
        "id": "z3pkSFHMvpto",
        "outputId": "d416942d-eef6-4a0c-b3d5-f8aa128e92f7"
      },
      "source": [
        "group3 = grouped.get_group('Third')\n",
        "group3.head()"
      ],
      "execution_count": 53,
      "outputs": [
        {
          "output_type": "execute_result",
          "data": {
            "text/html": [
              "<div>\n",
              "<style scoped>\n",
              "    .dataframe tbody tr th:only-of-type {\n",
              "        vertical-align: middle;\n",
              "    }\n",
              "\n",
              "    .dataframe tbody tr th {\n",
              "        vertical-align: top;\n",
              "    }\n",
              "\n",
              "    .dataframe thead th {\n",
              "        text-align: right;\n",
              "    }\n",
              "</style>\n",
              "<table border=\"1\" class=\"dataframe\">\n",
              "  <thead>\n",
              "    <tr style=\"text-align: right;\">\n",
              "      <th></th>\n",
              "      <th>age</th>\n",
              "      <th>sex</th>\n",
              "      <th>class</th>\n",
              "      <th>fare</th>\n",
              "      <th>survived</th>\n",
              "    </tr>\n",
              "  </thead>\n",
              "  <tbody>\n",
              "    <tr>\n",
              "      <th>0</th>\n",
              "      <td>22.0</td>\n",
              "      <td>male</td>\n",
              "      <td>Third</td>\n",
              "      <td>7.2500</td>\n",
              "      <td>0</td>\n",
              "    </tr>\n",
              "    <tr>\n",
              "      <th>2</th>\n",
              "      <td>26.0</td>\n",
              "      <td>female</td>\n",
              "      <td>Third</td>\n",
              "      <td>7.9250</td>\n",
              "      <td>1</td>\n",
              "    </tr>\n",
              "    <tr>\n",
              "      <th>4</th>\n",
              "      <td>35.0</td>\n",
              "      <td>male</td>\n",
              "      <td>Third</td>\n",
              "      <td>8.0500</td>\n",
              "      <td>0</td>\n",
              "    </tr>\n",
              "    <tr>\n",
              "      <th>5</th>\n",
              "      <td>NaN</td>\n",
              "      <td>male</td>\n",
              "      <td>Third</td>\n",
              "      <td>8.4583</td>\n",
              "      <td>0</td>\n",
              "    </tr>\n",
              "    <tr>\n",
              "      <th>7</th>\n",
              "      <td>2.0</td>\n",
              "      <td>male</td>\n",
              "      <td>Third</td>\n",
              "      <td>21.0750</td>\n",
              "      <td>0</td>\n",
              "    </tr>\n",
              "  </tbody>\n",
              "</table>\n",
              "</div>"
            ],
            "text/plain": [
              "    age     sex  class     fare  survived\n",
              "0  22.0    male  Third   7.2500         0\n",
              "2  26.0  female  Third   7.9250         1\n",
              "4  35.0    male  Third   8.0500         0\n",
              "5   NaN    male  Third   8.4583         0\n",
              "7   2.0    male  Third  21.0750         0"
            ]
          },
          "metadata": {},
          "execution_count": 53
        }
      ]
    },
    {
      "cell_type": "markdown",
      "metadata": {
        "id": "f0kIBCm9wRL_"
      },
      "source": [
        "#### 여러 열을 기준으로 그룹화\n",
        "\n",
        "이번에는 groupby() 메소드에 여러 개의 열을 리스트로 전달하는 방법을 알아보자. 여러 개의 기준 값을 사용하기 때문에 반환되는 그룹 객체의 인덱스는 다중 구조를 갖는다.\n",
        "\n",
        "        DataFrame.groupby(기준이 되는 열의 리스트)\n",
        "\n",
        "groupby() 메소드에 두 열('class', 'sex')을 인자로 전달하면 두 열이 갖는 원소 값들로 만들 수 있는 모든 조합으로 키를 생성한다. 그리고 조합된 키를 기준으로 그룹 객체를 만든다. 'class'열에는 'First', 'Second', 'Third'라는 3개의 값이 들어 있고, 'sex'열에는 'male', 'female' 2개의 값이 들어있다. 가능한 조합은 ('class', 'sex',) 형식으로 투플로 지정되는데, 총 6개의 키ㅏ 조합으로 만들어진다."
      ]
    },
    {
      "cell_type": "code",
      "metadata": {
        "colab": {
          "base_uri": "https://localhost:8080/"
        },
        "id": "pEoQ-EZfzr8U",
        "outputId": "fe083d37-8b71-4b11-8386-ada7150f4ba2"
      },
      "source": [
        "group_two = df.groupby(['class', 'sex'])\n",
        "\n",
        "for k, g in group_two:\n",
        "    print('* key : ', k)\n",
        "    print('* number : ', len(g))\n",
        "    print(g.head())\n",
        "    print()"
      ],
      "execution_count": 54,
      "outputs": [
        {
          "output_type": "stream",
          "name": "stdout",
          "text": [
            "* key :  ('First', 'female')\n",
            "* number :  94\n",
            "     age     sex  class      fare  survived\n",
            "1   38.0  female  First   71.2833         1\n",
            "3   35.0  female  First   53.1000         1\n",
            "11  58.0  female  First   26.5500         1\n",
            "31   NaN  female  First  146.5208         1\n",
            "52  49.0  female  First   76.7292         1\n",
            "\n",
            "* key :  ('First', 'male')\n",
            "* number :  122\n",
            "     age   sex  class      fare  survived\n",
            "6   54.0  male  First   51.8625         0\n",
            "23  28.0  male  First   35.5000         1\n",
            "27  19.0  male  First  263.0000         0\n",
            "30  40.0  male  First   27.7208         0\n",
            "34  28.0  male  First   82.1708         0\n",
            "\n",
            "* key :  ('Second', 'female')\n",
            "* number :  76\n",
            "     age     sex   class     fare  survived\n",
            "9   14.0  female  Second  30.0708         1\n",
            "15  55.0  female  Second  16.0000         1\n",
            "41  27.0  female  Second  21.0000         0\n",
            "43   3.0  female  Second  41.5792         1\n",
            "53  29.0  female  Second  26.0000         1\n",
            "\n",
            "* key :  ('Second', 'male')\n",
            "* number :  108\n",
            "     age   sex   class  fare  survived\n",
            "17   NaN  male  Second  13.0         1\n",
            "20  35.0  male  Second  26.0         0\n",
            "21  34.0  male  Second  13.0         1\n",
            "33  66.0  male  Second  10.5         0\n",
            "70  32.0  male  Second  10.5         0\n",
            "\n",
            "* key :  ('Third', 'female')\n",
            "* number :  144\n",
            "     age     sex  class     fare  survived\n",
            "2   26.0  female  Third   7.9250         1\n",
            "8   27.0  female  Third  11.1333         1\n",
            "10   4.0  female  Third  16.7000         1\n",
            "14  14.0  female  Third   7.8542         0\n",
            "18  31.0  female  Third  18.0000         0\n",
            "\n",
            "* key :  ('Third', 'male')\n",
            "* number :  347\n",
            "     age   sex  class     fare  survived\n",
            "0   22.0  male  Third   7.2500         0\n",
            "4   35.0  male  Third   8.0500         0\n",
            "5    NaN  male  Third   8.4583         0\n",
            "7    2.0  male  Third  21.0750         0\n",
            "12  20.0  male  Third   8.0500         0\n",
            "\n"
          ]
        }
      ]
    },
    {
      "cell_type": "markdown",
      "metadata": {
        "id": "a8wIu_xQz_-r"
      },
      "source": [
        "group_two 객체의 각 그룹에 mean() 메소드를 적용한다. 이때 데이터프레임이 반환되는데, 키가 되는 2개의 열('class', 'sex')의 값으로부터 2중 멀티 인덱스가 지정된다."
      ]
    },
    {
      "cell_type": "code",
      "metadata": {
        "colab": {
          "base_uri": "https://localhost:8080/",
          "height": 300
        },
        "id": "tPR8c2aO0MUb",
        "outputId": "ee0812be-697b-4ad2-9eb5-63ba88f5ac57"
      },
      "source": [
        "# grouped_two 그룹 객체에 연산 메소드 적용\n",
        "average_two = group_two.mean()\n",
        "display(average_two)\n",
        "print()\n",
        "print(type(average_two))"
      ],
      "execution_count": 55,
      "outputs": [
        {
          "output_type": "display_data",
          "data": {
            "text/html": [
              "<div>\n",
              "<style scoped>\n",
              "    .dataframe tbody tr th:only-of-type {\n",
              "        vertical-align: middle;\n",
              "    }\n",
              "\n",
              "    .dataframe tbody tr th {\n",
              "        vertical-align: top;\n",
              "    }\n",
              "\n",
              "    .dataframe thead th {\n",
              "        text-align: right;\n",
              "    }\n",
              "</style>\n",
              "<table border=\"1\" class=\"dataframe\">\n",
              "  <thead>\n",
              "    <tr style=\"text-align: right;\">\n",
              "      <th></th>\n",
              "      <th></th>\n",
              "      <th>age</th>\n",
              "      <th>fare</th>\n",
              "      <th>survived</th>\n",
              "    </tr>\n",
              "    <tr>\n",
              "      <th>class</th>\n",
              "      <th>sex</th>\n",
              "      <th></th>\n",
              "      <th></th>\n",
              "      <th></th>\n",
              "    </tr>\n",
              "  </thead>\n",
              "  <tbody>\n",
              "    <tr>\n",
              "      <th rowspan=\"2\" valign=\"top\">First</th>\n",
              "      <th>female</th>\n",
              "      <td>34.611765</td>\n",
              "      <td>106.125798</td>\n",
              "      <td>0.968085</td>\n",
              "    </tr>\n",
              "    <tr>\n",
              "      <th>male</th>\n",
              "      <td>41.281386</td>\n",
              "      <td>67.226127</td>\n",
              "      <td>0.368852</td>\n",
              "    </tr>\n",
              "    <tr>\n",
              "      <th rowspan=\"2\" valign=\"top\">Second</th>\n",
              "      <th>female</th>\n",
              "      <td>28.722973</td>\n",
              "      <td>21.970121</td>\n",
              "      <td>0.921053</td>\n",
              "    </tr>\n",
              "    <tr>\n",
              "      <th>male</th>\n",
              "      <td>30.740707</td>\n",
              "      <td>19.741782</td>\n",
              "      <td>0.157407</td>\n",
              "    </tr>\n",
              "    <tr>\n",
              "      <th rowspan=\"2\" valign=\"top\">Third</th>\n",
              "      <th>female</th>\n",
              "      <td>21.750000</td>\n",
              "      <td>16.118810</td>\n",
              "      <td>0.500000</td>\n",
              "    </tr>\n",
              "    <tr>\n",
              "      <th>male</th>\n",
              "      <td>26.507589</td>\n",
              "      <td>12.661633</td>\n",
              "      <td>0.135447</td>\n",
              "    </tr>\n",
              "  </tbody>\n",
              "</table>\n",
              "</div>"
            ],
            "text/plain": [
              "                     age        fare  survived\n",
              "class  sex                                    \n",
              "First  female  34.611765  106.125798  0.968085\n",
              "       male    41.281386   67.226127  0.368852\n",
              "Second female  28.722973   21.970121  0.921053\n",
              "       male    30.740707   19.741782  0.157407\n",
              "Third  female  21.750000   16.118810  0.500000\n",
              "       male    26.507589   12.661633  0.135447"
            ]
          },
          "metadata": {}
        },
        {
          "output_type": "stream",
          "name": "stdout",
          "text": [
            "\n",
            "<class 'pandas.core.frame.DataFrame'>\n"
          ]
        }
      ]
    },
    {
      "cell_type": "markdown",
      "metadata": {
        "id": "7lU7jrsL0nGC"
      },
      "source": [
        "멀티 인덱스를 이용하여 특정 그룹만을 골라서 추출하는 방법이다. get_group() 메소드를 활용하여 인자로 전달하는 키는 투플로 입력한다. "
      ]
    },
    {
      "cell_type": "code",
      "metadata": {
        "colab": {
          "base_uri": "https://localhost:8080/",
          "height": 203
        },
        "id": "RoAGLe_x0mvM",
        "outputId": "c82d81d1-8b3d-4acc-be6d-1456d7e116b4"
      },
      "source": [
        "group3f = group_two.get_group(('Third', 'female'))\n",
        "group3f.head()"
      ],
      "execution_count": 56,
      "outputs": [
        {
          "output_type": "execute_result",
          "data": {
            "text/html": [
              "<div>\n",
              "<style scoped>\n",
              "    .dataframe tbody tr th:only-of-type {\n",
              "        vertical-align: middle;\n",
              "    }\n",
              "\n",
              "    .dataframe tbody tr th {\n",
              "        vertical-align: top;\n",
              "    }\n",
              "\n",
              "    .dataframe thead th {\n",
              "        text-align: right;\n",
              "    }\n",
              "</style>\n",
              "<table border=\"1\" class=\"dataframe\">\n",
              "  <thead>\n",
              "    <tr style=\"text-align: right;\">\n",
              "      <th></th>\n",
              "      <th>age</th>\n",
              "      <th>sex</th>\n",
              "      <th>class</th>\n",
              "      <th>fare</th>\n",
              "      <th>survived</th>\n",
              "    </tr>\n",
              "  </thead>\n",
              "  <tbody>\n",
              "    <tr>\n",
              "      <th>2</th>\n",
              "      <td>26.0</td>\n",
              "      <td>female</td>\n",
              "      <td>Third</td>\n",
              "      <td>7.9250</td>\n",
              "      <td>1</td>\n",
              "    </tr>\n",
              "    <tr>\n",
              "      <th>8</th>\n",
              "      <td>27.0</td>\n",
              "      <td>female</td>\n",
              "      <td>Third</td>\n",
              "      <td>11.1333</td>\n",
              "      <td>1</td>\n",
              "    </tr>\n",
              "    <tr>\n",
              "      <th>10</th>\n",
              "      <td>4.0</td>\n",
              "      <td>female</td>\n",
              "      <td>Third</td>\n",
              "      <td>16.7000</td>\n",
              "      <td>1</td>\n",
              "    </tr>\n",
              "    <tr>\n",
              "      <th>14</th>\n",
              "      <td>14.0</td>\n",
              "      <td>female</td>\n",
              "      <td>Third</td>\n",
              "      <td>7.8542</td>\n",
              "      <td>0</td>\n",
              "    </tr>\n",
              "    <tr>\n",
              "      <th>18</th>\n",
              "      <td>31.0</td>\n",
              "      <td>female</td>\n",
              "      <td>Third</td>\n",
              "      <td>18.0000</td>\n",
              "      <td>0</td>\n",
              "    </tr>\n",
              "  </tbody>\n",
              "</table>\n",
              "</div>"
            ],
            "text/plain": [
              "     age     sex  class     fare  survived\n",
              "2   26.0  female  Third   7.9250         1\n",
              "8   27.0  female  Third  11.1333         1\n",
              "10   4.0  female  Third  16.7000         1\n",
              "14  14.0  female  Third   7.8542         0\n",
              "18  31.0  female  Third  18.0000         0"
            ]
          },
          "metadata": {},
          "execution_count": 56
        }
      ]
    },
    {
      "cell_type": "markdown",
      "metadata": {
        "id": "EMiJmhwj03jL"
      },
      "source": [
        "* 그룹 연산 메소드(적용-결합 단계)\n",
        "\n",
        "#### 데이터 집계(aggregation)\n",
        "\n",
        "집계 기능을 내장하고 있는 판다스 기본 함수에는 mean(), max(), min(), sum(), count(), size(), var(), std(), descibe(), info(), first(), last() 등이 있다.\n",
        "\n",
        "        group.집계함수()\n",
        "\n",
        "\n",
        "\n"
      ]
    },
    {
      "cell_type": "code",
      "metadata": {
        "colab": {
          "base_uri": "https://localhost:8080/",
          "height": 172
        },
        "id": "-_wfN99b2zYr",
        "outputId": "c3dcc480-01c2-4451-82ef-c730b5d12b0d"
      },
      "source": [
        "import pandas as pd\n",
        "import seaborn as sns\n",
        "\n",
        "titanic = sns.load_dataset('titanic')\n",
        "df = titanic.loc[:, ['age','sex','class','fare','survived']]\n",
        "\n",
        "# class 열을 기준으로 분할\n",
        "grouped = df.groupby(['class'])\n",
        "\n",
        "# 각 그룹에 대한 모든 열의 표준편차를 집계하여 데이터프레임으로 변환\n",
        "std_all = grouped.std()\n",
        "std_all"
      ],
      "execution_count": 57,
      "outputs": [
        {
          "output_type": "execute_result",
          "data": {
            "text/html": [
              "<div>\n",
              "<style scoped>\n",
              "    .dataframe tbody tr th:only-of-type {\n",
              "        vertical-align: middle;\n",
              "    }\n",
              "\n",
              "    .dataframe tbody tr th {\n",
              "        vertical-align: top;\n",
              "    }\n",
              "\n",
              "    .dataframe thead th {\n",
              "        text-align: right;\n",
              "    }\n",
              "</style>\n",
              "<table border=\"1\" class=\"dataframe\">\n",
              "  <thead>\n",
              "    <tr style=\"text-align: right;\">\n",
              "      <th></th>\n",
              "      <th>age</th>\n",
              "      <th>fare</th>\n",
              "      <th>survived</th>\n",
              "    </tr>\n",
              "    <tr>\n",
              "      <th>class</th>\n",
              "      <th></th>\n",
              "      <th></th>\n",
              "      <th></th>\n",
              "    </tr>\n",
              "  </thead>\n",
              "  <tbody>\n",
              "    <tr>\n",
              "      <th>First</th>\n",
              "      <td>14.802856</td>\n",
              "      <td>78.380373</td>\n",
              "      <td>0.484026</td>\n",
              "    </tr>\n",
              "    <tr>\n",
              "      <th>Second</th>\n",
              "      <td>14.001077</td>\n",
              "      <td>13.417399</td>\n",
              "      <td>0.500623</td>\n",
              "    </tr>\n",
              "    <tr>\n",
              "      <th>Third</th>\n",
              "      <td>12.495398</td>\n",
              "      <td>11.778142</td>\n",
              "      <td>0.428949</td>\n",
              "    </tr>\n",
              "  </tbody>\n",
              "</table>\n",
              "</div>"
            ],
            "text/plain": [
              "              age       fare  survived\n",
              "class                                 \n",
              "First   14.802856  78.380373  0.484026\n",
              "Second  14.001077  13.417399  0.500623\n",
              "Third   12.495398  11.778142  0.428949"
            ]
          },
          "metadata": {},
          "execution_count": 57
        }
      ]
    },
    {
      "cell_type": "code",
      "metadata": {
        "colab": {
          "base_uri": "https://localhost:8080/"
        },
        "id": "73h1Hm503MTK",
        "outputId": "056bdaba-a8db-4ab8-9860-41adb4ad56b8"
      },
      "source": [
        "type(std_all)"
      ],
      "execution_count": 58,
      "outputs": [
        {
          "output_type": "execute_result",
          "data": {
            "text/plain": [
              "pandas.core.frame.DataFrame"
            ]
          },
          "metadata": {},
          "execution_count": 58
        }
      ]
    },
    {
      "cell_type": "code",
      "metadata": {
        "colab": {
          "base_uri": "https://localhost:8080/"
        },
        "id": "mvDlAren3Ohq",
        "outputId": "4b3c9f14-f6f8-4a49-a7f8-af032b2aa2db"
      },
      "source": [
        "# 각 그룹에 대한 fare 열의 표준편자를 집계하여 시리즈로 변환\n",
        "std_fare = grouped.fare.std()\n",
        "std_fare"
      ],
      "execution_count": 59,
      "outputs": [
        {
          "output_type": "execute_result",
          "data": {
            "text/plain": [
              "class\n",
              "First     78.380373\n",
              "Second    13.417399\n",
              "Third     11.778142\n",
              "Name: fare, dtype: float64"
            ]
          },
          "metadata": {},
          "execution_count": 59
        }
      ]
    },
    {
      "cell_type": "code",
      "metadata": {
        "colab": {
          "base_uri": "https://localhost:8080/"
        },
        "id": "SpPanZTj3WX8",
        "outputId": "2fc8ca23-aa43-4f9c-9b72-1c76a005d31d"
      },
      "source": [
        "type(std_fare)"
      ],
      "execution_count": 60,
      "outputs": [
        {
          "output_type": "execute_result",
          "data": {
            "text/plain": [
              "pandas.core.series.Series"
            ]
          },
          "metadata": {},
          "execution_count": 60
        }
      ]
    },
    {
      "cell_type": "markdown",
      "metadata": {
        "id": "-tZek76w3ZTy"
      },
      "source": [
        "집계 연산을 처리하는 사용자 정의 함수를 그룹 객체에 적용하려면 agg() 메소드를 사용한다.\n",
        "\n",
        "        group.agg(매핑 함수)"
      ]
    },
    {
      "cell_type": "code",
      "metadata": {
        "colab": {
          "base_uri": "https://localhost:8080/",
          "height": 172
        },
        "id": "BMfZHury3hah",
        "outputId": "3ea174df-5846-4e49-9b71-67a1d84a41bb"
      },
      "source": [
        "def min_max(x):\n",
        "    return x.max() - x.min()\n",
        "\n",
        "# 각 그룹의 최대값과 최소값의 차이를 계산하여 그룹별로 집계\n",
        "agg_minmax = grouped.agg(min_max)\n",
        "agg_minmax.head()"
      ],
      "execution_count": 61,
      "outputs": [
        {
          "output_type": "execute_result",
          "data": {
            "text/html": [
              "<div>\n",
              "<style scoped>\n",
              "    .dataframe tbody tr th:only-of-type {\n",
              "        vertical-align: middle;\n",
              "    }\n",
              "\n",
              "    .dataframe tbody tr th {\n",
              "        vertical-align: top;\n",
              "    }\n",
              "\n",
              "    .dataframe thead th {\n",
              "        text-align: right;\n",
              "    }\n",
              "</style>\n",
              "<table border=\"1\" class=\"dataframe\">\n",
              "  <thead>\n",
              "    <tr style=\"text-align: right;\">\n",
              "      <th></th>\n",
              "      <th>age</th>\n",
              "      <th>fare</th>\n",
              "      <th>survived</th>\n",
              "    </tr>\n",
              "    <tr>\n",
              "      <th>class</th>\n",
              "      <th></th>\n",
              "      <th></th>\n",
              "      <th></th>\n",
              "    </tr>\n",
              "  </thead>\n",
              "  <tbody>\n",
              "    <tr>\n",
              "      <th>First</th>\n",
              "      <td>79.08</td>\n",
              "      <td>512.3292</td>\n",
              "      <td>1</td>\n",
              "    </tr>\n",
              "    <tr>\n",
              "      <th>Second</th>\n",
              "      <td>69.33</td>\n",
              "      <td>73.5000</td>\n",
              "      <td>1</td>\n",
              "    </tr>\n",
              "    <tr>\n",
              "      <th>Third</th>\n",
              "      <td>73.58</td>\n",
              "      <td>69.5500</td>\n",
              "      <td>1</td>\n",
              "    </tr>\n",
              "  </tbody>\n",
              "</table>\n",
              "</div>"
            ],
            "text/plain": [
              "          age      fare  survived\n",
              "class                            \n",
              "First   79.08  512.3292         1\n",
              "Second  69.33   73.5000         1\n",
              "Third   73.58   69.5500         1"
            ]
          },
          "metadata": {},
          "execution_count": 61
        }
      ]
    },
    {
      "cell_type": "markdown",
      "metadata": {
        "id": "eC-3KT3M3wG6"
      },
      "source": [
        "각 그룹별로 연산이 가능한 열에 대한 최대값과 최소값의 차를 구하면 데이터 값의 분포 범위를 알 수 있다.\n",
        "\n",
        "동시에 여러 개의 함수를 사용하여 각 그룹별 데이터에 대한 집계 연산을 처리할 수 있따. 각각의 열에 여러 개의 함수를 일괄 적용할 때는 리스트 형태로 인수를 전달하고, 열마다 다른 종류의 함수를 적용하려면 {열:함수} 형태의 딕셔너리를 전달한다.\n",
        "\n",
        "        모든 열에 여러 함수 매핑 : group.agg([함수1, 함수2, 함수3, ..])\n",
        "        각 열마다 다른 함수 매핑 : group.agg({'열1':함수1, '열2':함수2, ...})"
      ]
    },
    {
      "cell_type": "code",
      "metadata": {
        "colab": {
          "base_uri": "https://localhost:8080/",
          "height": 203
        },
        "id": "qbvaGou-4SSj",
        "outputId": "959f1b22-4e6c-41c7-bf15-d371f30603c1"
      },
      "source": [
        "# 여러 함수를 각 열에 동일하게 적용하여 집계\n",
        "agg_all = grouped.agg(['min', 'max'])\n",
        "agg_all.head()"
      ],
      "execution_count": 62,
      "outputs": [
        {
          "output_type": "execute_result",
          "data": {
            "text/html": [
              "<div>\n",
              "<style scoped>\n",
              "    .dataframe tbody tr th:only-of-type {\n",
              "        vertical-align: middle;\n",
              "    }\n",
              "\n",
              "    .dataframe tbody tr th {\n",
              "        vertical-align: top;\n",
              "    }\n",
              "\n",
              "    .dataframe thead tr th {\n",
              "        text-align: left;\n",
              "    }\n",
              "\n",
              "    .dataframe thead tr:last-of-type th {\n",
              "        text-align: right;\n",
              "    }\n",
              "</style>\n",
              "<table border=\"1\" class=\"dataframe\">\n",
              "  <thead>\n",
              "    <tr>\n",
              "      <th></th>\n",
              "      <th colspan=\"2\" halign=\"left\">age</th>\n",
              "      <th colspan=\"2\" halign=\"left\">sex</th>\n",
              "      <th colspan=\"2\" halign=\"left\">fare</th>\n",
              "      <th colspan=\"2\" halign=\"left\">survived</th>\n",
              "    </tr>\n",
              "    <tr>\n",
              "      <th></th>\n",
              "      <th>min</th>\n",
              "      <th>max</th>\n",
              "      <th>min</th>\n",
              "      <th>max</th>\n",
              "      <th>min</th>\n",
              "      <th>max</th>\n",
              "      <th>min</th>\n",
              "      <th>max</th>\n",
              "    </tr>\n",
              "    <tr>\n",
              "      <th>class</th>\n",
              "      <th></th>\n",
              "      <th></th>\n",
              "      <th></th>\n",
              "      <th></th>\n",
              "      <th></th>\n",
              "      <th></th>\n",
              "      <th></th>\n",
              "      <th></th>\n",
              "    </tr>\n",
              "  </thead>\n",
              "  <tbody>\n",
              "    <tr>\n",
              "      <th>First</th>\n",
              "      <td>0.92</td>\n",
              "      <td>80.0</td>\n",
              "      <td>female</td>\n",
              "      <td>male</td>\n",
              "      <td>0.0</td>\n",
              "      <td>512.3292</td>\n",
              "      <td>0</td>\n",
              "      <td>1</td>\n",
              "    </tr>\n",
              "    <tr>\n",
              "      <th>Second</th>\n",
              "      <td>0.67</td>\n",
              "      <td>70.0</td>\n",
              "      <td>female</td>\n",
              "      <td>male</td>\n",
              "      <td>0.0</td>\n",
              "      <td>73.5000</td>\n",
              "      <td>0</td>\n",
              "      <td>1</td>\n",
              "    </tr>\n",
              "    <tr>\n",
              "      <th>Third</th>\n",
              "      <td>0.42</td>\n",
              "      <td>74.0</td>\n",
              "      <td>female</td>\n",
              "      <td>male</td>\n",
              "      <td>0.0</td>\n",
              "      <td>69.5500</td>\n",
              "      <td>0</td>\n",
              "      <td>1</td>\n",
              "    </tr>\n",
              "  </tbody>\n",
              "</table>\n",
              "</div>"
            ],
            "text/plain": [
              "         age           sex       fare           survived    \n",
              "         min   max     min   max  min       max      min max\n",
              "class                                                       \n",
              "First   0.92  80.0  female  male  0.0  512.3292        0   1\n",
              "Second  0.67  70.0  female  male  0.0   73.5000        0   1\n",
              "Third   0.42  74.0  female  male  0.0   69.5500        0   1"
            ]
          },
          "metadata": {},
          "execution_count": 62
        }
      ]
    },
    {
      "cell_type": "code",
      "metadata": {
        "colab": {
          "base_uri": "https://localhost:8080/",
          "height": 203
        },
        "id": "OET7ZOf045ki",
        "outputId": "ce23f015-fcbb-478c-c536-8da777a00edf"
      },
      "source": [
        "# 각 열마다 다른 함수를 적용하여 집계\n",
        "agg_sep = grouped.agg({'fare':['min','max'], 'age':'mean'})\n",
        "agg_sep.head()"
      ],
      "execution_count": 63,
      "outputs": [
        {
          "output_type": "execute_result",
          "data": {
            "text/html": [
              "<div>\n",
              "<style scoped>\n",
              "    .dataframe tbody tr th:only-of-type {\n",
              "        vertical-align: middle;\n",
              "    }\n",
              "\n",
              "    .dataframe tbody tr th {\n",
              "        vertical-align: top;\n",
              "    }\n",
              "\n",
              "    .dataframe thead tr th {\n",
              "        text-align: left;\n",
              "    }\n",
              "\n",
              "    .dataframe thead tr:last-of-type th {\n",
              "        text-align: right;\n",
              "    }\n",
              "</style>\n",
              "<table border=\"1\" class=\"dataframe\">\n",
              "  <thead>\n",
              "    <tr>\n",
              "      <th></th>\n",
              "      <th colspan=\"2\" halign=\"left\">fare</th>\n",
              "      <th>age</th>\n",
              "    </tr>\n",
              "    <tr>\n",
              "      <th></th>\n",
              "      <th>min</th>\n",
              "      <th>max</th>\n",
              "      <th>mean</th>\n",
              "    </tr>\n",
              "    <tr>\n",
              "      <th>class</th>\n",
              "      <th></th>\n",
              "      <th></th>\n",
              "      <th></th>\n",
              "    </tr>\n",
              "  </thead>\n",
              "  <tbody>\n",
              "    <tr>\n",
              "      <th>First</th>\n",
              "      <td>0.0</td>\n",
              "      <td>512.3292</td>\n",
              "      <td>38.233441</td>\n",
              "    </tr>\n",
              "    <tr>\n",
              "      <th>Second</th>\n",
              "      <td>0.0</td>\n",
              "      <td>73.5000</td>\n",
              "      <td>29.877630</td>\n",
              "    </tr>\n",
              "    <tr>\n",
              "      <th>Third</th>\n",
              "      <td>0.0</td>\n",
              "      <td>69.5500</td>\n",
              "      <td>25.140620</td>\n",
              "    </tr>\n",
              "  </tbody>\n",
              "</table>\n",
              "</div>"
            ],
            "text/plain": [
              "       fare                  age\n",
              "        min       max       mean\n",
              "class                           \n",
              "First   0.0  512.3292  38.233441\n",
              "Second  0.0   73.5000  29.877630\n",
              "Third   0.0   69.5500  25.140620"
            ]
          },
          "metadata": {},
          "execution_count": 63
        }
      ]
    },
    {
      "cell_type": "markdown",
      "metadata": {
        "id": "EtSgYvnj9Gqg"
      },
      "source": [
        "#### 그룹 연산 데이터 변환\n",
        "\n",
        "agg() 메소드는 각 그룹별 데이터에 연산을 위한 함수를 구분 적용하고, 그룹별로 연산 결과를 집계하여 반환한다. 반면, transform() 메소드는 그룹별로 구분하여 각 원소에 함수를 적용하지만 그룹별 집계 대신 각 원소의 본래 행 인덱스와 열 이름을 기준으로 연산 결과를 반환한다. 즉, 그룹 연산의 결과를 연본 데이터프레임과 같은 형태로 변형하여 정리하는 것이다.\n",
        "\n",
        "        group.transform(매핑 함수)\n",
        "\n",
        "\n",
        "\n",
        "\n",
        "\n"
      ]
    },
    {
      "cell_type": "code",
      "metadata": {
        "colab": {
          "base_uri": "https://localhost:8080/"
        },
        "id": "cAnkZrL_-fHX",
        "outputId": "53a1538f-7857-4c0a-ffb6-338b34cf2a3b"
      },
      "source": [
        "# 집계 연산 메소드를 사용하여 개별 그룹의 평균과 표준편자를 계산\n",
        "# 각 그룹에 대해 반복문을 이용하여 z-score를 계산하고, 각 그룹별로 첫 3행의 결과를 출력\n",
        "\n",
        "import pandas as pd\n",
        "import seaborn as sns\n",
        "\n",
        "titanic = sns.load_dataset('titanic')\n",
        "df = titanic.loc[:, ['age','sex', 'class', 'fare', 'survived']]\n",
        "\n",
        "grouped = df.groupby(['class'])\n",
        "\n",
        "# 그룹별 age 열의 평균 집계 연산\n",
        "age_mean = grouped.age.mean()\n",
        "age_mean"
      ],
      "execution_count": 64,
      "outputs": [
        {
          "output_type": "execute_result",
          "data": {
            "text/plain": [
              "class\n",
              "First     38.233441\n",
              "Second    29.877630\n",
              "Third     25.140620\n",
              "Name: age, dtype: float64"
            ]
          },
          "metadata": {},
          "execution_count": 64
        }
      ]
    },
    {
      "cell_type": "code",
      "metadata": {
        "colab": {
          "base_uri": "https://localhost:8080/"
        },
        "id": "t4imD3Wu-5GX",
        "outputId": "656a988a-6dc7-4fae-efe7-ce85b1217d88"
      },
      "source": [
        "# 그룹별 age 열의 표준편자 집계 연산\n",
        "age_std = grouped.age.std()\n",
        "age_std"
      ],
      "execution_count": 65,
      "outputs": [
        {
          "output_type": "execute_result",
          "data": {
            "text/plain": [
              "class\n",
              "First     14.802856\n",
              "Second    14.001077\n",
              "Third     12.495398\n",
              "Name: age, dtype: float64"
            ]
          },
          "metadata": {},
          "execution_count": 65
        }
      ]
    },
    {
      "cell_type": "code",
      "metadata": {
        "colab": {
          "base_uri": "https://localhost:8080/"
        },
        "id": "XwvtwY3R_AMG",
        "outputId": "2abb90f8-dd3b-437d-93ae-398168ba0aab"
      },
      "source": [
        "# 그룹 객체의 age 열을 iteration으로 z-score를 계산하여 출력\n",
        "for key, group in grouped.age:\n",
        "    group_zscore = (group-age_mean.loc[key]) / age_std.loc[key]\n",
        "    print('* origin : ', key)\n",
        "    print(group_zscore.head(3))\n",
        "    print()"
      ],
      "execution_count": 66,
      "outputs": [
        {
          "output_type": "stream",
          "name": "stdout",
          "text": [
            "* origin :  First\n",
            "1   -0.015770\n",
            "3   -0.218434\n",
            "6    1.065103\n",
            "Name: age, dtype: float64\n",
            "\n",
            "* origin :  Second\n",
            "9    -1.134029\n",
            "15    1.794317\n",
            "17         NaN\n",
            "Name: age, dtype: float64\n",
            "\n",
            "* origin :  Third\n",
            "0   -0.251342\n",
            "2    0.068776\n",
            "4    0.789041\n",
            "Name: age, dtype: float64\n",
            "\n"
          ]
        }
      ]
    },
    {
      "cell_type": "markdown",
      "metadata": {
        "id": "WN2VeSdW_ycw"
      },
      "source": [
        "이번에는 transform() 메소드를 사용하여 'age'열의 데이터를 z-score로 직접 변환한다. z-score를 계산하는 사용자 함수를 정의하고, transform() 메소드의 인자로 전달한다. 각 그룹별 평균과 표준편차를 이용하여 각 원소의 z-score를 계산하지만, 반환되는 객체는 그룹별로 나누지 않고 원래 행 인덱스 순서로 정렬된다. 이 경우 891명 승객의 데이터가 본래 행 인덱스 순서대로 정렬된다. 위 결과와 비교하기 위해 각 그룹의 첫 행에 해당하는 1, 9, 0 행을 출력한다."
      ]
    },
    {
      "cell_type": "code",
      "metadata": {
        "colab": {
          "base_uri": "https://localhost:8080/"
        },
        "id": "jFKy8VYeAQwf",
        "outputId": "4e2a9d0f-7ca9-4a17-f240-92b768b3c420"
      },
      "source": [
        "def z_score(x):\n",
        "    return (x-x.mean()) / x.std()\n",
        "\n",
        "# transform() 메소드를 이용하여 age 열의 데이터를 z-score로 변환\n",
        "age_zscore = grouped.age.transform(z_score)\n",
        "print(age_zscore.loc[[1, 9, 0]])\n",
        "print()\n",
        "print(len(age_zscore))\n",
        "print()\n",
        "print(age_zscore[0:9])\n",
        "print()\n",
        "print(type(age_zscore))"
      ],
      "execution_count": 67,
      "outputs": [
        {
          "output_type": "stream",
          "name": "stdout",
          "text": [
            "1   -0.015770\n",
            "9   -1.134029\n",
            "0   -0.251342\n",
            "Name: age, dtype: float64\n",
            "\n",
            "891\n",
            "\n",
            "0   -0.251342\n",
            "1   -0.015770\n",
            "2    0.068776\n",
            "3   -0.218434\n",
            "4    0.789041\n",
            "5         NaN\n",
            "6    1.065103\n",
            "7   -1.851931\n",
            "8    0.148805\n",
            "Name: age, dtype: float64\n",
            "\n",
            "<class 'pandas.core.series.Series'>\n"
          ]
        }
      ]
    },
    {
      "cell_type": "markdown",
      "metadata": {
        "id": "ICpMO-oABhYX"
      },
      "source": [
        "#### 그룹 객체 필터링\n",
        "\n",
        "그룹 객체에 filter() 메소드를 적용할 때 조건식을 가진 함수를 전달하면 조건이 참인 그룹만을 남긴다.\n",
        "\n",
        "        group.filter(조건식 함수)\n",
        "\n",
        "데이터 개수가 200개 이상인 그룹만을 따로 필터링해보자."
      ]
    },
    {
      "cell_type": "code",
      "metadata": {
        "colab": {
          "base_uri": "https://localhost:8080/",
          "height": 238
        },
        "id": "m05inZxDBvD4",
        "outputId": "a4b6bd4f-524d-43b7-b96b-715b24700ca9"
      },
      "source": [
        "import pandas as pd\n",
        "import seaborn as sns\n",
        "\n",
        "titanic = sns.load_dataset('titanic')\n",
        "df = titanic.loc[:, ['age','sex', 'class', 'fare', 'survived']]\n",
        "\n",
        "grouped = df.groupby(['class']) \n",
        "\n",
        "# 데이터 개수가 200개 이상인 그룹만을 필터링\n",
        "grouped_filter = grouped.filter(lambda x: len(x) >= 200)\n",
        "display(grouped_filter.head())\n",
        "print()\n",
        "print(type(grouped_filter))"
      ],
      "execution_count": 68,
      "outputs": [
        {
          "output_type": "display_data",
          "data": {
            "text/html": [
              "<div>\n",
              "<style scoped>\n",
              "    .dataframe tbody tr th:only-of-type {\n",
              "        vertical-align: middle;\n",
              "    }\n",
              "\n",
              "    .dataframe tbody tr th {\n",
              "        vertical-align: top;\n",
              "    }\n",
              "\n",
              "    .dataframe thead th {\n",
              "        text-align: right;\n",
              "    }\n",
              "</style>\n",
              "<table border=\"1\" class=\"dataframe\">\n",
              "  <thead>\n",
              "    <tr style=\"text-align: right;\">\n",
              "      <th></th>\n",
              "      <th>age</th>\n",
              "      <th>sex</th>\n",
              "      <th>class</th>\n",
              "      <th>fare</th>\n",
              "      <th>survived</th>\n",
              "    </tr>\n",
              "  </thead>\n",
              "  <tbody>\n",
              "    <tr>\n",
              "      <th>0</th>\n",
              "      <td>22.0</td>\n",
              "      <td>male</td>\n",
              "      <td>Third</td>\n",
              "      <td>7.2500</td>\n",
              "      <td>0</td>\n",
              "    </tr>\n",
              "    <tr>\n",
              "      <th>1</th>\n",
              "      <td>38.0</td>\n",
              "      <td>female</td>\n",
              "      <td>First</td>\n",
              "      <td>71.2833</td>\n",
              "      <td>1</td>\n",
              "    </tr>\n",
              "    <tr>\n",
              "      <th>2</th>\n",
              "      <td>26.0</td>\n",
              "      <td>female</td>\n",
              "      <td>Third</td>\n",
              "      <td>7.9250</td>\n",
              "      <td>1</td>\n",
              "    </tr>\n",
              "    <tr>\n",
              "      <th>3</th>\n",
              "      <td>35.0</td>\n",
              "      <td>female</td>\n",
              "      <td>First</td>\n",
              "      <td>53.1000</td>\n",
              "      <td>1</td>\n",
              "    </tr>\n",
              "    <tr>\n",
              "      <th>4</th>\n",
              "      <td>35.0</td>\n",
              "      <td>male</td>\n",
              "      <td>Third</td>\n",
              "      <td>8.0500</td>\n",
              "      <td>0</td>\n",
              "    </tr>\n",
              "  </tbody>\n",
              "</table>\n",
              "</div>"
            ],
            "text/plain": [
              "    age     sex  class     fare  survived\n",
              "0  22.0    male  Third   7.2500         0\n",
              "1  38.0  female  First  71.2833         1\n",
              "2  26.0  female  Third   7.9250         1\n",
              "3  35.0  female  First  53.1000         1\n",
              "4  35.0    male  Third   8.0500         0"
            ]
          },
          "metadata": {}
        },
        {
          "output_type": "stream",
          "name": "stdout",
          "text": [
            "\n",
            "<class 'pandas.core.frame.DataFrame'>\n"
          ]
        }
      ]
    },
    {
      "cell_type": "markdown",
      "metadata": {
        "id": "1QDv6qPcCBT3"
      },
      "source": [
        "'class' 열을 기준으로 구분된 3개의 그릅 중에서 조건을 만족하는 'First'와 'Third'인 그룹의 데이터만 추출된다."
      ]
    },
    {
      "cell_type": "markdown",
      "metadata": {
        "id": "dcsjxbNKC-Eu"
      },
      "source": [
        "이번에는 'age' 열의 평균값이 30보다 작은 그룹만을 따로 선택한다."
      ]
    },
    {
      "cell_type": "code",
      "metadata": {
        "colab": {
          "base_uri": "https://localhost:8080/",
          "height": 221
        },
        "id": "WEEKy2OsCI82",
        "outputId": "7c0b577a-41ce-4265-afe2-11012f599a4d"
      },
      "source": [
        "age_filter = grouped.filter(lambda x: x.age.mean() < 30)\n",
        "display(age_filter.tail())\n",
        "print(type(age_filter))"
      ],
      "execution_count": 69,
      "outputs": [
        {
          "output_type": "display_data",
          "data": {
            "text/html": [
              "<div>\n",
              "<style scoped>\n",
              "    .dataframe tbody tr th:only-of-type {\n",
              "        vertical-align: middle;\n",
              "    }\n",
              "\n",
              "    .dataframe tbody tr th {\n",
              "        vertical-align: top;\n",
              "    }\n",
              "\n",
              "    .dataframe thead th {\n",
              "        text-align: right;\n",
              "    }\n",
              "</style>\n",
              "<table border=\"1\" class=\"dataframe\">\n",
              "  <thead>\n",
              "    <tr style=\"text-align: right;\">\n",
              "      <th></th>\n",
              "      <th>age</th>\n",
              "      <th>sex</th>\n",
              "      <th>class</th>\n",
              "      <th>fare</th>\n",
              "      <th>survived</th>\n",
              "    </tr>\n",
              "  </thead>\n",
              "  <tbody>\n",
              "    <tr>\n",
              "      <th>884</th>\n",
              "      <td>25.0</td>\n",
              "      <td>male</td>\n",
              "      <td>Third</td>\n",
              "      <td>7.050</td>\n",
              "      <td>0</td>\n",
              "    </tr>\n",
              "    <tr>\n",
              "      <th>885</th>\n",
              "      <td>39.0</td>\n",
              "      <td>female</td>\n",
              "      <td>Third</td>\n",
              "      <td>29.125</td>\n",
              "      <td>0</td>\n",
              "    </tr>\n",
              "    <tr>\n",
              "      <th>886</th>\n",
              "      <td>27.0</td>\n",
              "      <td>male</td>\n",
              "      <td>Second</td>\n",
              "      <td>13.000</td>\n",
              "      <td>0</td>\n",
              "    </tr>\n",
              "    <tr>\n",
              "      <th>888</th>\n",
              "      <td>NaN</td>\n",
              "      <td>female</td>\n",
              "      <td>Third</td>\n",
              "      <td>23.450</td>\n",
              "      <td>0</td>\n",
              "    </tr>\n",
              "    <tr>\n",
              "      <th>890</th>\n",
              "      <td>32.0</td>\n",
              "      <td>male</td>\n",
              "      <td>Third</td>\n",
              "      <td>7.750</td>\n",
              "      <td>0</td>\n",
              "    </tr>\n",
              "  </tbody>\n",
              "</table>\n",
              "</div>"
            ],
            "text/plain": [
              "      age     sex   class    fare  survived\n",
              "884  25.0    male   Third   7.050         0\n",
              "885  39.0  female   Third  29.125         0\n",
              "886  27.0    male  Second  13.000         0\n",
              "888   NaN  female   Third  23.450         0\n",
              "890  32.0    male   Third   7.750         0"
            ]
          },
          "metadata": {}
        },
        {
          "output_type": "stream",
          "name": "stdout",
          "text": [
            "<class 'pandas.core.frame.DataFrame'>\n"
          ]
        }
      ]
    },
    {
      "cell_type": "markdown",
      "metadata": {
        "id": "U8F7tJ82DdD4"
      },
      "source": [
        "#### 그룹 객체에 함수 매핑\n",
        "\n",
        "apply() 메소드는 판다스 객체의 개별 원소를 특정 함수에 일대일로 매핑한다. 사용자가 원하는 대부분의 연산은 그룹 객체에도 적용할 수 있다.\n",
        "\n",
        "        group.apply(매핑 함수)"
      ]
    },
    {
      "cell_type": "code",
      "metadata": {
        "colab": {
          "base_uri": "https://localhost:8080/",
          "height": 819
        },
        "id": "YZKMswR5DyCf",
        "outputId": "feac4729-acd4-4075-c423-744a6f54644b"
      },
      "source": [
        "import pandas as pd\n",
        "import seaborn as sns\n",
        "\n",
        "titanic = sns.load_dataset('titanic')\n",
        "df = titanic.loc[:, ['age','sex', 'class', 'fare', 'survived']]\n",
        "\n",
        "grouped = df.groupby(['class'])\n",
        "\n",
        "# 집계 : 각 그룹별 요약 통계 정보를 집계\n",
        "agg_grouped = grouped.apply(lambda x: x.describe())\n",
        "agg_grouped\n"
      ],
      "execution_count": 70,
      "outputs": [
        {
          "output_type": "execute_result",
          "data": {
            "text/html": [
              "<div>\n",
              "<style scoped>\n",
              "    .dataframe tbody tr th:only-of-type {\n",
              "        vertical-align: middle;\n",
              "    }\n",
              "\n",
              "    .dataframe tbody tr th {\n",
              "        vertical-align: top;\n",
              "    }\n",
              "\n",
              "    .dataframe thead th {\n",
              "        text-align: right;\n",
              "    }\n",
              "</style>\n",
              "<table border=\"1\" class=\"dataframe\">\n",
              "  <thead>\n",
              "    <tr style=\"text-align: right;\">\n",
              "      <th></th>\n",
              "      <th></th>\n",
              "      <th>age</th>\n",
              "      <th>fare</th>\n",
              "      <th>survived</th>\n",
              "    </tr>\n",
              "    <tr>\n",
              "      <th>class</th>\n",
              "      <th></th>\n",
              "      <th></th>\n",
              "      <th></th>\n",
              "      <th></th>\n",
              "    </tr>\n",
              "  </thead>\n",
              "  <tbody>\n",
              "    <tr>\n",
              "      <th rowspan=\"8\" valign=\"top\">First</th>\n",
              "      <th>count</th>\n",
              "      <td>186.000000</td>\n",
              "      <td>216.000000</td>\n",
              "      <td>216.000000</td>\n",
              "    </tr>\n",
              "    <tr>\n",
              "      <th>mean</th>\n",
              "      <td>38.233441</td>\n",
              "      <td>84.154687</td>\n",
              "      <td>0.629630</td>\n",
              "    </tr>\n",
              "    <tr>\n",
              "      <th>std</th>\n",
              "      <td>14.802856</td>\n",
              "      <td>78.380373</td>\n",
              "      <td>0.484026</td>\n",
              "    </tr>\n",
              "    <tr>\n",
              "      <th>min</th>\n",
              "      <td>0.920000</td>\n",
              "      <td>0.000000</td>\n",
              "      <td>0.000000</td>\n",
              "    </tr>\n",
              "    <tr>\n",
              "      <th>25%</th>\n",
              "      <td>27.000000</td>\n",
              "      <td>30.923950</td>\n",
              "      <td>0.000000</td>\n",
              "    </tr>\n",
              "    <tr>\n",
              "      <th>50%</th>\n",
              "      <td>37.000000</td>\n",
              "      <td>60.287500</td>\n",
              "      <td>1.000000</td>\n",
              "    </tr>\n",
              "    <tr>\n",
              "      <th>75%</th>\n",
              "      <td>49.000000</td>\n",
              "      <td>93.500000</td>\n",
              "      <td>1.000000</td>\n",
              "    </tr>\n",
              "    <tr>\n",
              "      <th>max</th>\n",
              "      <td>80.000000</td>\n",
              "      <td>512.329200</td>\n",
              "      <td>1.000000</td>\n",
              "    </tr>\n",
              "    <tr>\n",
              "      <th rowspan=\"8\" valign=\"top\">Second</th>\n",
              "      <th>count</th>\n",
              "      <td>173.000000</td>\n",
              "      <td>184.000000</td>\n",
              "      <td>184.000000</td>\n",
              "    </tr>\n",
              "    <tr>\n",
              "      <th>mean</th>\n",
              "      <td>29.877630</td>\n",
              "      <td>20.662183</td>\n",
              "      <td>0.472826</td>\n",
              "    </tr>\n",
              "    <tr>\n",
              "      <th>std</th>\n",
              "      <td>14.001077</td>\n",
              "      <td>13.417399</td>\n",
              "      <td>0.500623</td>\n",
              "    </tr>\n",
              "    <tr>\n",
              "      <th>min</th>\n",
              "      <td>0.670000</td>\n",
              "      <td>0.000000</td>\n",
              "      <td>0.000000</td>\n",
              "    </tr>\n",
              "    <tr>\n",
              "      <th>25%</th>\n",
              "      <td>23.000000</td>\n",
              "      <td>13.000000</td>\n",
              "      <td>0.000000</td>\n",
              "    </tr>\n",
              "    <tr>\n",
              "      <th>50%</th>\n",
              "      <td>29.000000</td>\n",
              "      <td>14.250000</td>\n",
              "      <td>0.000000</td>\n",
              "    </tr>\n",
              "    <tr>\n",
              "      <th>75%</th>\n",
              "      <td>36.000000</td>\n",
              "      <td>26.000000</td>\n",
              "      <td>1.000000</td>\n",
              "    </tr>\n",
              "    <tr>\n",
              "      <th>max</th>\n",
              "      <td>70.000000</td>\n",
              "      <td>73.500000</td>\n",
              "      <td>1.000000</td>\n",
              "    </tr>\n",
              "    <tr>\n",
              "      <th rowspan=\"8\" valign=\"top\">Third</th>\n",
              "      <th>count</th>\n",
              "      <td>355.000000</td>\n",
              "      <td>491.000000</td>\n",
              "      <td>491.000000</td>\n",
              "    </tr>\n",
              "    <tr>\n",
              "      <th>mean</th>\n",
              "      <td>25.140620</td>\n",
              "      <td>13.675550</td>\n",
              "      <td>0.242363</td>\n",
              "    </tr>\n",
              "    <tr>\n",
              "      <th>std</th>\n",
              "      <td>12.495398</td>\n",
              "      <td>11.778142</td>\n",
              "      <td>0.428949</td>\n",
              "    </tr>\n",
              "    <tr>\n",
              "      <th>min</th>\n",
              "      <td>0.420000</td>\n",
              "      <td>0.000000</td>\n",
              "      <td>0.000000</td>\n",
              "    </tr>\n",
              "    <tr>\n",
              "      <th>25%</th>\n",
              "      <td>18.000000</td>\n",
              "      <td>7.750000</td>\n",
              "      <td>0.000000</td>\n",
              "    </tr>\n",
              "    <tr>\n",
              "      <th>50%</th>\n",
              "      <td>24.000000</td>\n",
              "      <td>8.050000</td>\n",
              "      <td>0.000000</td>\n",
              "    </tr>\n",
              "    <tr>\n",
              "      <th>75%</th>\n",
              "      <td>32.000000</td>\n",
              "      <td>15.500000</td>\n",
              "      <td>0.000000</td>\n",
              "    </tr>\n",
              "    <tr>\n",
              "      <th>max</th>\n",
              "      <td>74.000000</td>\n",
              "      <td>69.550000</td>\n",
              "      <td>1.000000</td>\n",
              "    </tr>\n",
              "  </tbody>\n",
              "</table>\n",
              "</div>"
            ],
            "text/plain": [
              "                     age        fare    survived\n",
              "class                                           \n",
              "First  count  186.000000  216.000000  216.000000\n",
              "       mean    38.233441   84.154687    0.629630\n",
              "       std     14.802856   78.380373    0.484026\n",
              "       min      0.920000    0.000000    0.000000\n",
              "       25%     27.000000   30.923950    0.000000\n",
              "       50%     37.000000   60.287500    1.000000\n",
              "       75%     49.000000   93.500000    1.000000\n",
              "       max     80.000000  512.329200    1.000000\n",
              "Second count  173.000000  184.000000  184.000000\n",
              "       mean    29.877630   20.662183    0.472826\n",
              "       std     14.001077   13.417399    0.500623\n",
              "       min      0.670000    0.000000    0.000000\n",
              "       25%     23.000000   13.000000    0.000000\n",
              "       50%     29.000000   14.250000    0.000000\n",
              "       75%     36.000000   26.000000    1.000000\n",
              "       max     70.000000   73.500000    1.000000\n",
              "Third  count  355.000000  491.000000  491.000000\n",
              "       mean    25.140620   13.675550    0.242363\n",
              "       std     12.495398   11.778142    0.428949\n",
              "       min      0.420000    0.000000    0.000000\n",
              "       25%     18.000000    7.750000    0.000000\n",
              "       50%     24.000000    8.050000    0.000000\n",
              "       75%     32.000000   15.500000    0.000000\n",
              "       max     74.000000   69.550000    1.000000"
            ]
          },
          "metadata": {},
          "execution_count": 70
        }
      ]
    },
    {
      "cell_type": "code",
      "metadata": {
        "colab": {
          "base_uri": "https://localhost:8080/"
        },
        "id": "HanvBHnRD_0N",
        "outputId": "bef39204-8fb9-466e-fef4-d914d17520da"
      },
      "source": [
        "# z-score를 계산하는 사용자 함수를 사용하여 'age'열의 데이터를 z-score로 변환한다.\n",
        "def z_score(x):\n",
        "    return (x-x.mean()) / x.std()\n",
        "\n",
        "age_zscore = grouped.age.apply(z_score) # 기본값 axis=0\n",
        "age_zscore.head()"
      ],
      "execution_count": 71,
      "outputs": [
        {
          "output_type": "execute_result",
          "data": {
            "text/plain": [
              "0   -0.251342\n",
              "1   -0.015770\n",
              "2    0.068776\n",
              "3   -0.218434\n",
              "4    0.789041\n",
              "Name: age, dtype: float64"
            ]
          },
          "metadata": {},
          "execution_count": 71
        }
      ]
    },
    {
      "cell_type": "code",
      "metadata": {
        "colab": {
          "base_uri": "https://localhost:8080/"
        },
        "id": "TFabJCSlEwo1",
        "outputId": "5d3d9b7f-fc58-42c9-9486-1ffc9aa0ef9a"
      },
      "source": [
        "# 필터링 : age 열의 데이터 평균이 30보다 작은 그룹만을 필터링하여 출력\n",
        "age_filter = grouped.apply(lambda x: x.age.mean() < 30)\n",
        "age_filter"
      ],
      "execution_count": 72,
      "outputs": [
        {
          "output_type": "execute_result",
          "data": {
            "text/plain": [
              "class\n",
              "First     False\n",
              "Second     True\n",
              "Third      True\n",
              "dtype: bool"
            ]
          },
          "metadata": {},
          "execution_count": 72
        }
      ]
    },
    {
      "cell_type": "code",
      "metadata": {
        "colab": {
          "base_uri": "https://localhost:8080/"
        },
        "id": "Of5HlejbFp09",
        "outputId": "003540fe-22a0-4a68-9641-6a0d17359350"
      },
      "source": [
        "for x in age_filter.index:\n",
        "    if age_filter[x]:\n",
        "        age_filter_df = grouped.get_group(x)\n",
        "        print(age_filter_df.head())\n",
        "        print()"
      ],
      "execution_count": 73,
      "outputs": [
        {
          "output_type": "stream",
          "name": "stdout",
          "text": [
            "     age     sex   class     fare  survived\n",
            "9   14.0  female  Second  30.0708         1\n",
            "15  55.0  female  Second  16.0000         1\n",
            "17   NaN    male  Second  13.0000         1\n",
            "20  35.0    male  Second  26.0000         0\n",
            "21  34.0    male  Second  13.0000         1\n",
            "\n",
            "    age     sex  class     fare  survived\n",
            "0  22.0    male  Third   7.2500         0\n",
            "2  26.0  female  Third   7.9250         1\n",
            "4  35.0    male  Third   8.0500         0\n",
            "5   NaN    male  Third   8.4583         0\n",
            "7   2.0    male  Third  21.0750         0\n",
            "\n"
          ]
        }
      ]
    },
    {
      "cell_type": "markdown",
      "metadata": {
        "id": "Qsp7DlcWGb5W"
      },
      "source": [
        "* 멀티 인덱스\n",
        "\n",
        "groupby() 메소드에 여러 열을 리스트 형태로 전달하면 각 열들이 다중으로 행 인덱스를 구성하는 것을 보았다. 이처럼 판다스는 행 인덱스를 여러 레벨로 구현할 수 있도록 멀티 인덱스(MultiIndex) 클래스를 지원한다.\n",
        "\n",
        "먼저 'class'열과 'sex'열에 들어있는 객실 등급과 남녀 성별을 기준으로 그룹화한다. 그룹 객체에 mean() 메소드를 적용하면 그룹별로 각 열의 평균값을 정리하여 반환한다. 이때 반환되는 객체는 멀티 인덱스를 가진 데이터프레임이다."
      ]
    },
    {
      "cell_type": "code",
      "metadata": {
        "colab": {
          "base_uri": "https://localhost:8080/",
          "height": 282
        },
        "id": "h5G6WU1sG09l",
        "outputId": "4c56e449-1364-4972-e6fb-9f4e233864da"
      },
      "source": [
        "import pandas as pd\n",
        "import seaborn as sns\n",
        "\n",
        "titanic = sns.load_dataset('titanic')\n",
        "df = titanic.loc[:, ['age','sex', 'class', 'fare', 'survived']]\n",
        "\n",
        "# class 열, sex 열을 기준으로 분할\n",
        "grouped = df.groupby(['class', 'sex'])\n",
        "\n",
        "# 그룹 객체에 연산 메서드 적용\n",
        "gdf = grouped.mean()\n",
        "display(gdf)\n",
        "type(gdf)"
      ],
      "execution_count": 74,
      "outputs": [
        {
          "output_type": "display_data",
          "data": {
            "text/html": [
              "<div>\n",
              "<style scoped>\n",
              "    .dataframe tbody tr th:only-of-type {\n",
              "        vertical-align: middle;\n",
              "    }\n",
              "\n",
              "    .dataframe tbody tr th {\n",
              "        vertical-align: top;\n",
              "    }\n",
              "\n",
              "    .dataframe thead th {\n",
              "        text-align: right;\n",
              "    }\n",
              "</style>\n",
              "<table border=\"1\" class=\"dataframe\">\n",
              "  <thead>\n",
              "    <tr style=\"text-align: right;\">\n",
              "      <th></th>\n",
              "      <th></th>\n",
              "      <th>age</th>\n",
              "      <th>fare</th>\n",
              "      <th>survived</th>\n",
              "    </tr>\n",
              "    <tr>\n",
              "      <th>class</th>\n",
              "      <th>sex</th>\n",
              "      <th></th>\n",
              "      <th></th>\n",
              "      <th></th>\n",
              "    </tr>\n",
              "  </thead>\n",
              "  <tbody>\n",
              "    <tr>\n",
              "      <th rowspan=\"2\" valign=\"top\">First</th>\n",
              "      <th>female</th>\n",
              "      <td>34.611765</td>\n",
              "      <td>106.125798</td>\n",
              "      <td>0.968085</td>\n",
              "    </tr>\n",
              "    <tr>\n",
              "      <th>male</th>\n",
              "      <td>41.281386</td>\n",
              "      <td>67.226127</td>\n",
              "      <td>0.368852</td>\n",
              "    </tr>\n",
              "    <tr>\n",
              "      <th rowspan=\"2\" valign=\"top\">Second</th>\n",
              "      <th>female</th>\n",
              "      <td>28.722973</td>\n",
              "      <td>21.970121</td>\n",
              "      <td>0.921053</td>\n",
              "    </tr>\n",
              "    <tr>\n",
              "      <th>male</th>\n",
              "      <td>30.740707</td>\n",
              "      <td>19.741782</td>\n",
              "      <td>0.157407</td>\n",
              "    </tr>\n",
              "    <tr>\n",
              "      <th rowspan=\"2\" valign=\"top\">Third</th>\n",
              "      <th>female</th>\n",
              "      <td>21.750000</td>\n",
              "      <td>16.118810</td>\n",
              "      <td>0.500000</td>\n",
              "    </tr>\n",
              "    <tr>\n",
              "      <th>male</th>\n",
              "      <td>26.507589</td>\n",
              "      <td>12.661633</td>\n",
              "      <td>0.135447</td>\n",
              "    </tr>\n",
              "  </tbody>\n",
              "</table>\n",
              "</div>"
            ],
            "text/plain": [
              "                     age        fare  survived\n",
              "class  sex                                    \n",
              "First  female  34.611765  106.125798  0.968085\n",
              "       male    41.281386   67.226127  0.368852\n",
              "Second female  28.722973   21.970121  0.921053\n",
              "       male    30.740707   19.741782  0.157407\n",
              "Third  female  21.750000   16.118810  0.500000\n",
              "       male    26.507589   12.661633  0.135447"
            ]
          },
          "metadata": {}
        },
        {
          "output_type": "execute_result",
          "data": {
            "text/plain": [
              "pandas.core.frame.DataFrame"
            ]
          },
          "metadata": {},
          "execution_count": 74
        }
      ]
    },
    {
      "cell_type": "code",
      "metadata": {
        "colab": {
          "base_uri": "https://localhost:8080/",
          "height": 142
        },
        "id": "yJopf6X0HEms",
        "outputId": "8b8bf19b-3ffe-41ce-d275-ed0887fc2136"
      },
      "source": [
        "# class 값이 First 인 행을 선택하여 출력\n",
        "gdf.loc['First']"
      ],
      "execution_count": 75,
      "outputs": [
        {
          "output_type": "execute_result",
          "data": {
            "text/html": [
              "<div>\n",
              "<style scoped>\n",
              "    .dataframe tbody tr th:only-of-type {\n",
              "        vertical-align: middle;\n",
              "    }\n",
              "\n",
              "    .dataframe tbody tr th {\n",
              "        vertical-align: top;\n",
              "    }\n",
              "\n",
              "    .dataframe thead th {\n",
              "        text-align: right;\n",
              "    }\n",
              "</style>\n",
              "<table border=\"1\" class=\"dataframe\">\n",
              "  <thead>\n",
              "    <tr style=\"text-align: right;\">\n",
              "      <th></th>\n",
              "      <th>age</th>\n",
              "      <th>fare</th>\n",
              "      <th>survived</th>\n",
              "    </tr>\n",
              "    <tr>\n",
              "      <th>sex</th>\n",
              "      <th></th>\n",
              "      <th></th>\n",
              "      <th></th>\n",
              "    </tr>\n",
              "  </thead>\n",
              "  <tbody>\n",
              "    <tr>\n",
              "      <th>female</th>\n",
              "      <td>34.611765</td>\n",
              "      <td>106.125798</td>\n",
              "      <td>0.968085</td>\n",
              "    </tr>\n",
              "    <tr>\n",
              "      <th>male</th>\n",
              "      <td>41.281386</td>\n",
              "      <td>67.226127</td>\n",
              "      <td>0.368852</td>\n",
              "    </tr>\n",
              "  </tbody>\n",
              "</table>\n",
              "</div>"
            ],
            "text/plain": [
              "              age        fare  survived\n",
              "sex                                    \n",
              "female  34.611765  106.125798  0.968085\n",
              "male    41.281386   67.226127  0.368852"
            ]
          },
          "metadata": {},
          "execution_count": 75
        }
      ]
    },
    {
      "cell_type": "code",
      "metadata": {
        "colab": {
          "base_uri": "https://localhost:8080/"
        },
        "id": "xcWbm56qHMt1",
        "outputId": "17017687-4a5a-4774-90af-b632cae04bc5"
      },
      "source": [
        "# class 값이 First이고, sex값이 female 인 행을 선택하여 출력\n",
        "gdf.loc[('First', 'female')]"
      ],
      "execution_count": 76,
      "outputs": [
        {
          "output_type": "execute_result",
          "data": {
            "text/plain": [
              "age          34.611765\n",
              "fare        106.125798\n",
              "survived      0.968085\n",
              "Name: (First, female), dtype: float64"
            ]
          },
          "metadata": {},
          "execution_count": 76
        }
      ]
    },
    {
      "cell_type": "markdown",
      "metadata": {
        "id": "aMyWNeiJHh0M"
      },
      "source": [
        "이번에는 loc 인덱서 대신 xs 인덱서를 사용한다. 'sex'인덱스에서 'male'값을 갖는 행을 추출한다."
      ]
    },
    {
      "cell_type": "code",
      "metadata": {
        "colab": {
          "base_uri": "https://localhost:8080/",
          "height": 172
        },
        "id": "hXp_mGJ7HbPl",
        "outputId": "3ed5da8f-869c-4075-f42f-b42529ccda8e"
      },
      "source": [
        "# sex 값이 male인 행을 선택하여 출력\n",
        "gdf.xs('male', level='sex')"
      ],
      "execution_count": 77,
      "outputs": [
        {
          "output_type": "execute_result",
          "data": {
            "text/html": [
              "<div>\n",
              "<style scoped>\n",
              "    .dataframe tbody tr th:only-of-type {\n",
              "        vertical-align: middle;\n",
              "    }\n",
              "\n",
              "    .dataframe tbody tr th {\n",
              "        vertical-align: top;\n",
              "    }\n",
              "\n",
              "    .dataframe thead th {\n",
              "        text-align: right;\n",
              "    }\n",
              "</style>\n",
              "<table border=\"1\" class=\"dataframe\">\n",
              "  <thead>\n",
              "    <tr style=\"text-align: right;\">\n",
              "      <th></th>\n",
              "      <th>age</th>\n",
              "      <th>fare</th>\n",
              "      <th>survived</th>\n",
              "    </tr>\n",
              "    <tr>\n",
              "      <th>class</th>\n",
              "      <th></th>\n",
              "      <th></th>\n",
              "      <th></th>\n",
              "    </tr>\n",
              "  </thead>\n",
              "  <tbody>\n",
              "    <tr>\n",
              "      <th>First</th>\n",
              "      <td>41.281386</td>\n",
              "      <td>67.226127</td>\n",
              "      <td>0.368852</td>\n",
              "    </tr>\n",
              "    <tr>\n",
              "      <th>Second</th>\n",
              "      <td>30.740707</td>\n",
              "      <td>19.741782</td>\n",
              "      <td>0.157407</td>\n",
              "    </tr>\n",
              "    <tr>\n",
              "      <th>Third</th>\n",
              "      <td>26.507589</td>\n",
              "      <td>12.661633</td>\n",
              "      <td>0.135447</td>\n",
              "    </tr>\n",
              "  </tbody>\n",
              "</table>\n",
              "</div>"
            ],
            "text/plain": [
              "              age       fare  survived\n",
              "class                                 \n",
              "First   41.281386  67.226127  0.368852\n",
              "Second  30.740707  19.741782  0.157407\n",
              "Third   26.507589  12.661633  0.135447"
            ]
          },
          "metadata": {},
          "execution_count": 77
        }
      ]
    },
    {
      "cell_type": "markdown",
      "metadata": {
        "id": "UBBtSvoPHzHt"
      },
      "source": [
        "* 피벗\n",
        "\n",
        "판다스 pivot_table.() 함수는 엑셀에서 사용하는 피벗테이블과 비슷한 기능을 처리한다. 피벗테이블을 구성하는 4가지 요소(행 인덱스, 열 인덱스, 데이터 값, 데이터 집계함수)에 적용할 데이터프레임의 열을 각각 지정하여 함수의 인자로 전달한다.\n",
        "\n",
        "'titanic' 데이터셋에서 5개의 열을 추출한다. pivot_table() 함수를 사용하여 데이터프레임 형태를 피벗테이블로 변환한다. 5개의 열 중에서 행 인덱스로는 'class' 열을 지정하고, 열 인덱스에는 'sex' 열을 지정한다. 'age'열을 피벗 테이블의 데이터값으로 사용하고 데이터 집계 함수는 평균값을 계산하는 'mean' 함수를 설정한다."
      ]
    },
    {
      "cell_type": "code",
      "metadata": {
        "colab": {
          "base_uri": "https://localhost:8080/",
          "height": 203
        },
        "id": "S_DNuuddIwAE",
        "outputId": "46549e86-625c-494f-f7cd-8e068274f960"
      },
      "source": [
        "import pandas as pd\n",
        "import seaborn as sns\n",
        "\n",
        "titanic = sns.load_dataset('titanic')\n",
        "df = titanic.loc[:, ['age','sex','class','fare','survived']]\n",
        "df.head()"
      ],
      "execution_count": 78,
      "outputs": [
        {
          "output_type": "execute_result",
          "data": {
            "text/html": [
              "<div>\n",
              "<style scoped>\n",
              "    .dataframe tbody tr th:only-of-type {\n",
              "        vertical-align: middle;\n",
              "    }\n",
              "\n",
              "    .dataframe tbody tr th {\n",
              "        vertical-align: top;\n",
              "    }\n",
              "\n",
              "    .dataframe thead th {\n",
              "        text-align: right;\n",
              "    }\n",
              "</style>\n",
              "<table border=\"1\" class=\"dataframe\">\n",
              "  <thead>\n",
              "    <tr style=\"text-align: right;\">\n",
              "      <th></th>\n",
              "      <th>age</th>\n",
              "      <th>sex</th>\n",
              "      <th>class</th>\n",
              "      <th>fare</th>\n",
              "      <th>survived</th>\n",
              "    </tr>\n",
              "  </thead>\n",
              "  <tbody>\n",
              "    <tr>\n",
              "      <th>0</th>\n",
              "      <td>22.0</td>\n",
              "      <td>male</td>\n",
              "      <td>Third</td>\n",
              "      <td>7.2500</td>\n",
              "      <td>0</td>\n",
              "    </tr>\n",
              "    <tr>\n",
              "      <th>1</th>\n",
              "      <td>38.0</td>\n",
              "      <td>female</td>\n",
              "      <td>First</td>\n",
              "      <td>71.2833</td>\n",
              "      <td>1</td>\n",
              "    </tr>\n",
              "    <tr>\n",
              "      <th>2</th>\n",
              "      <td>26.0</td>\n",
              "      <td>female</td>\n",
              "      <td>Third</td>\n",
              "      <td>7.9250</td>\n",
              "      <td>1</td>\n",
              "    </tr>\n",
              "    <tr>\n",
              "      <th>3</th>\n",
              "      <td>35.0</td>\n",
              "      <td>female</td>\n",
              "      <td>First</td>\n",
              "      <td>53.1000</td>\n",
              "      <td>1</td>\n",
              "    </tr>\n",
              "    <tr>\n",
              "      <th>4</th>\n",
              "      <td>35.0</td>\n",
              "      <td>male</td>\n",
              "      <td>Third</td>\n",
              "      <td>8.0500</td>\n",
              "      <td>0</td>\n",
              "    </tr>\n",
              "  </tbody>\n",
              "</table>\n",
              "</div>"
            ],
            "text/plain": [
              "    age     sex  class     fare  survived\n",
              "0  22.0    male  Third   7.2500         0\n",
              "1  38.0  female  First  71.2833         1\n",
              "2  26.0  female  Third   7.9250         1\n",
              "3  35.0  female  First  53.1000         1\n",
              "4  35.0    male  Third   8.0500         0"
            ]
          },
          "metadata": {},
          "execution_count": 78
        }
      ]
    },
    {
      "cell_type": "code",
      "metadata": {
        "colab": {
          "base_uri": "https://localhost:8080/",
          "height": 172
        },
        "id": "NJXxXX4bJPHc",
        "outputId": "4003d088-5989-4a39-96a6-378482c07763"
      },
      "source": [
        "# 행, 열, 값, 집계에 사용할 열을 1개씩 지정 - 평균 집계\n",
        "pdf1 = pd.pivot_table(df,\n",
        "                      index='class',\n",
        "                      columns='sex',\n",
        "                      values='age',\n",
        "                      aggfunc='mean')\n",
        "pdf1.head()"
      ],
      "execution_count": 79,
      "outputs": [
        {
          "output_type": "execute_result",
          "data": {
            "text/html": [
              "<div>\n",
              "<style scoped>\n",
              "    .dataframe tbody tr th:only-of-type {\n",
              "        vertical-align: middle;\n",
              "    }\n",
              "\n",
              "    .dataframe tbody tr th {\n",
              "        vertical-align: top;\n",
              "    }\n",
              "\n",
              "    .dataframe thead th {\n",
              "        text-align: right;\n",
              "    }\n",
              "</style>\n",
              "<table border=\"1\" class=\"dataframe\">\n",
              "  <thead>\n",
              "    <tr style=\"text-align: right;\">\n",
              "      <th>sex</th>\n",
              "      <th>female</th>\n",
              "      <th>male</th>\n",
              "    </tr>\n",
              "    <tr>\n",
              "      <th>class</th>\n",
              "      <th></th>\n",
              "      <th></th>\n",
              "    </tr>\n",
              "  </thead>\n",
              "  <tbody>\n",
              "    <tr>\n",
              "      <th>First</th>\n",
              "      <td>34.611765</td>\n",
              "      <td>41.281386</td>\n",
              "    </tr>\n",
              "    <tr>\n",
              "      <th>Second</th>\n",
              "      <td>28.722973</td>\n",
              "      <td>30.740707</td>\n",
              "    </tr>\n",
              "    <tr>\n",
              "      <th>Third</th>\n",
              "      <td>21.750000</td>\n",
              "      <td>26.507589</td>\n",
              "    </tr>\n",
              "  </tbody>\n",
              "</table>\n",
              "</div>"
            ],
            "text/plain": [
              "sex        female       male\n",
              "class                       \n",
              "First   34.611765  41.281386\n",
              "Second  28.722973  30.740707\n",
              "Third   21.750000  26.507589"
            ]
          },
          "metadata": {},
          "execution_count": 79
        }
      ]
    },
    {
      "cell_type": "markdown",
      "metadata": {
        "id": "-wn8ZXZIJlQU"
      },
      "source": [
        "이번에는 'age'열 대신에 'survived' 열을 피벗의 데이터 값으로 사용하고, 데이터 집계하는 함수를 'mean', 'sum' 2개 사용한다. 'mean' 함수의 계산 결과는 생존률을 나타내고, 'sum' 함수의 결과는 생존자 수를 나타낸다."
      ]
    },
    {
      "cell_type": "code",
      "metadata": {
        "colab": {
          "base_uri": "https://localhost:8080/",
          "height": 203
        },
        "id": "WaZkAilMJkuN",
        "outputId": "75a1e602-dd1a-4888-fa6b-eb5a49039435"
      },
      "source": [
        "pdf2 = pd.pivot_table(df,\n",
        "                      index='class',\n",
        "                      columns='sex',\n",
        "                      values='survived',\n",
        "                      aggfunc=['mean','sum'])\n",
        "pdf2.head()"
      ],
      "execution_count": 80,
      "outputs": [
        {
          "output_type": "execute_result",
          "data": {
            "text/html": [
              "<div>\n",
              "<style scoped>\n",
              "    .dataframe tbody tr th:only-of-type {\n",
              "        vertical-align: middle;\n",
              "    }\n",
              "\n",
              "    .dataframe tbody tr th {\n",
              "        vertical-align: top;\n",
              "    }\n",
              "\n",
              "    .dataframe thead tr th {\n",
              "        text-align: left;\n",
              "    }\n",
              "\n",
              "    .dataframe thead tr:last-of-type th {\n",
              "        text-align: right;\n",
              "    }\n",
              "</style>\n",
              "<table border=\"1\" class=\"dataframe\">\n",
              "  <thead>\n",
              "    <tr>\n",
              "      <th></th>\n",
              "      <th colspan=\"2\" halign=\"left\">mean</th>\n",
              "      <th colspan=\"2\" halign=\"left\">sum</th>\n",
              "    </tr>\n",
              "    <tr>\n",
              "      <th>sex</th>\n",
              "      <th>female</th>\n",
              "      <th>male</th>\n",
              "      <th>female</th>\n",
              "      <th>male</th>\n",
              "    </tr>\n",
              "    <tr>\n",
              "      <th>class</th>\n",
              "      <th></th>\n",
              "      <th></th>\n",
              "      <th></th>\n",
              "      <th></th>\n",
              "    </tr>\n",
              "  </thead>\n",
              "  <tbody>\n",
              "    <tr>\n",
              "      <th>First</th>\n",
              "      <td>0.968085</td>\n",
              "      <td>0.368852</td>\n",
              "      <td>91</td>\n",
              "      <td>45</td>\n",
              "    </tr>\n",
              "    <tr>\n",
              "      <th>Second</th>\n",
              "      <td>0.921053</td>\n",
              "      <td>0.157407</td>\n",
              "      <td>70</td>\n",
              "      <td>17</td>\n",
              "    </tr>\n",
              "    <tr>\n",
              "      <th>Third</th>\n",
              "      <td>0.500000</td>\n",
              "      <td>0.135447</td>\n",
              "      <td>72</td>\n",
              "      <td>47</td>\n",
              "    </tr>\n",
              "  </tbody>\n",
              "</table>\n",
              "</div>"
            ],
            "text/plain": [
              "            mean              sum     \n",
              "sex       female      male female male\n",
              "class                                 \n",
              "First   0.968085  0.368852     91   45\n",
              "Second  0.921053  0.157407     70   17\n",
              "Third   0.500000  0.135447     72   47"
            ]
          },
          "metadata": {},
          "execution_count": 80
        }
      ]
    },
    {
      "cell_type": "markdown",
      "metadata": {
        "id": "AJCS_p4FKQsb"
      },
      "source": [
        "pivot_table() 함수에 전달할 인자(행 인덱스, 열 위치, 데이터 값, 집계 함수)에 각각 2개 이상의 열을 입력할 수 있다. 다음으로 행 인덱스와 데이터 값에 해당하는 열을 각각 2개 지정하고, 열 위치에 해당하는 열은 1개를 지정한다. 또한 데이터 집계 함수를 2개 지정한다.\n",
        "\n"
      ]
    },
    {
      "cell_type": "code",
      "metadata": {
        "colab": {
          "base_uri": "https://localhost:8080/"
        },
        "id": "rR5922P-MZrN",
        "outputId": "c4fab7ce-e221-453b-854b-5fb042cb60b5"
      },
      "source": [
        "# 행, 열, 값에 사용할 열을 2개 이상 지정 가능 - 평균 나이, 최대 요금 집계\n",
        "pdf3 = pd.pivot_table(df,\n",
        "                      index=['class', 'sex'],\n",
        "                      columns='survived',\n",
        "                      values=['age','fare'],\n",
        "                      aggfunc=['mean', 'max'])\n",
        "# 행, 열 구조 살펴보기\n",
        "print(pdf3.index)\n",
        "print(pdf3.columns)"
      ],
      "execution_count": 81,
      "outputs": [
        {
          "output_type": "stream",
          "name": "stdout",
          "text": [
            "MultiIndex([( 'First', 'female'),\n",
            "            ( 'First',   'male'),\n",
            "            ('Second', 'female'),\n",
            "            ('Second',   'male'),\n",
            "            ( 'Third', 'female'),\n",
            "            ( 'Third',   'male')],\n",
            "           names=['class', 'sex'])\n",
            "MultiIndex([('mean',  'age', 0),\n",
            "            ('mean',  'age', 1),\n",
            "            ('mean', 'fare', 0),\n",
            "            ('mean', 'fare', 1),\n",
            "            ( 'max',  'age', 0),\n",
            "            ( 'max',  'age', 1),\n",
            "            ( 'max', 'fare', 0),\n",
            "            ( 'max', 'fare', 1)],\n",
            "           names=[None, None, 'survived'])\n"
          ]
        }
      ]
    },
    {
      "cell_type": "markdown",
      "metadata": {
        "id": "xrBzhHAEMywD"
      },
      "source": [
        "데이터프레임 pdf3의 index 속성과 columns 속성을 출력해보면, 행 인덱스의 levels 속성에는 2개의 열 ('class', 'sex')이 사용되어 2중 구조이다. 그리고 열은 3중 구조로 이루어진다. 데이터 집계 함수인 'mean'과 'max'가 한 층을 이루고, 데이터 값을 구분하는 'age'와 'fare'열이 다음 층을 이루며, 마지막으로 구조 여부를 나타내는 'survived'열이 위치한다."
      ]
    },
    {
      "cell_type": "code",
      "metadata": {
        "colab": {
          "base_uri": "https://localhost:8080/",
          "height": 315
        },
        "id": "_tTabqR8NyHS",
        "outputId": "bfc30274-f583-4746-8a11-25d8db057691"
      },
      "source": [
        "pdf3.head()"
      ],
      "execution_count": 82,
      "outputs": [
        {
          "output_type": "execute_result",
          "data": {
            "text/html": [
              "<div>\n",
              "<style scoped>\n",
              "    .dataframe tbody tr th:only-of-type {\n",
              "        vertical-align: middle;\n",
              "    }\n",
              "\n",
              "    .dataframe tbody tr th {\n",
              "        vertical-align: top;\n",
              "    }\n",
              "\n",
              "    .dataframe thead tr th {\n",
              "        text-align: left;\n",
              "    }\n",
              "\n",
              "    .dataframe thead tr:last-of-type th {\n",
              "        text-align: right;\n",
              "    }\n",
              "</style>\n",
              "<table border=\"1\" class=\"dataframe\">\n",
              "  <thead>\n",
              "    <tr>\n",
              "      <th></th>\n",
              "      <th></th>\n",
              "      <th colspan=\"4\" halign=\"left\">mean</th>\n",
              "      <th colspan=\"4\" halign=\"left\">max</th>\n",
              "    </tr>\n",
              "    <tr>\n",
              "      <th></th>\n",
              "      <th></th>\n",
              "      <th colspan=\"2\" halign=\"left\">age</th>\n",
              "      <th colspan=\"2\" halign=\"left\">fare</th>\n",
              "      <th colspan=\"2\" halign=\"left\">age</th>\n",
              "      <th colspan=\"2\" halign=\"left\">fare</th>\n",
              "    </tr>\n",
              "    <tr>\n",
              "      <th></th>\n",
              "      <th>survived</th>\n",
              "      <th>0</th>\n",
              "      <th>1</th>\n",
              "      <th>0</th>\n",
              "      <th>1</th>\n",
              "      <th>0</th>\n",
              "      <th>1</th>\n",
              "      <th>0</th>\n",
              "      <th>1</th>\n",
              "    </tr>\n",
              "    <tr>\n",
              "      <th>class</th>\n",
              "      <th>sex</th>\n",
              "      <th></th>\n",
              "      <th></th>\n",
              "      <th></th>\n",
              "      <th></th>\n",
              "      <th></th>\n",
              "      <th></th>\n",
              "      <th></th>\n",
              "      <th></th>\n",
              "    </tr>\n",
              "  </thead>\n",
              "  <tbody>\n",
              "    <tr>\n",
              "      <th rowspan=\"2\" valign=\"top\">First</th>\n",
              "      <th>female</th>\n",
              "      <td>25.666667</td>\n",
              "      <td>34.939024</td>\n",
              "      <td>110.604167</td>\n",
              "      <td>105.978159</td>\n",
              "      <td>50.0</td>\n",
              "      <td>63.0</td>\n",
              "      <td>151.55</td>\n",
              "      <td>512.3292</td>\n",
              "    </tr>\n",
              "    <tr>\n",
              "      <th>male</th>\n",
              "      <td>44.581967</td>\n",
              "      <td>36.248000</td>\n",
              "      <td>62.894910</td>\n",
              "      <td>74.637320</td>\n",
              "      <td>71.0</td>\n",
              "      <td>80.0</td>\n",
              "      <td>263.00</td>\n",
              "      <td>512.3292</td>\n",
              "    </tr>\n",
              "    <tr>\n",
              "      <th rowspan=\"2\" valign=\"top\">Second</th>\n",
              "      <th>female</th>\n",
              "      <td>36.000000</td>\n",
              "      <td>28.080882</td>\n",
              "      <td>18.250000</td>\n",
              "      <td>22.288989</td>\n",
              "      <td>57.0</td>\n",
              "      <td>55.0</td>\n",
              "      <td>26.00</td>\n",
              "      <td>65.0000</td>\n",
              "    </tr>\n",
              "    <tr>\n",
              "      <th>male</th>\n",
              "      <td>33.369048</td>\n",
              "      <td>16.022000</td>\n",
              "      <td>19.488965</td>\n",
              "      <td>21.095100</td>\n",
              "      <td>70.0</td>\n",
              "      <td>62.0</td>\n",
              "      <td>73.50</td>\n",
              "      <td>39.0000</td>\n",
              "    </tr>\n",
              "    <tr>\n",
              "      <th>Third</th>\n",
              "      <th>female</th>\n",
              "      <td>23.818182</td>\n",
              "      <td>19.329787</td>\n",
              "      <td>19.773093</td>\n",
              "      <td>12.464526</td>\n",
              "      <td>48.0</td>\n",
              "      <td>63.0</td>\n",
              "      <td>69.55</td>\n",
              "      <td>31.3875</td>\n",
              "    </tr>\n",
              "  </tbody>\n",
              "</table>\n",
              "</div>"
            ],
            "text/plain": [
              "                    mean                         ...   max                  \n",
              "                     age                   fare  ...   age    fare          \n",
              "survived               0          1           0  ...     1       0         1\n",
              "class  sex                                       ...                        \n",
              "First  female  25.666667  34.939024  110.604167  ...  63.0  151.55  512.3292\n",
              "       male    44.581967  36.248000   62.894910  ...  80.0  263.00  512.3292\n",
              "Second female  36.000000  28.080882   18.250000  ...  55.0   26.00   65.0000\n",
              "       male    33.369048  16.022000   19.488965  ...  62.0   73.50   39.0000\n",
              "Third  female  23.818182  19.329787   19.773093  ...  63.0   69.55   31.3875\n",
              "\n",
              "[5 rows x 8 columns]"
            ]
          },
          "metadata": {},
          "execution_count": 82
        }
      ]
    },
    {
      "cell_type": "markdown",
      "metadata": {
        "id": "UEmBjCclOEti"
      },
      "source": [
        "pdf3의 행을 선택하기 위해 xs 인덱서를 사용하는 방법을 살펴보자. xs 인덱서는 기본값으로 행 인덱서에 접근하고, 축 값은 axis=0으로 자동 설정된다. 먼저 행 인덱스가 'First'인 1등석 승객의 데이터를 추출해보자"
      ]
    },
    {
      "cell_type": "code",
      "metadata": {
        "colab": {
          "base_uri": "https://localhost:8080/",
          "height": 203
        },
        "id": "zyG2Rpj1OSHU",
        "outputId": "96069e59-a1c0-42fe-89e5-6cefaf843b0e"
      },
      "source": [
        "pdf3.xs('First')"
      ],
      "execution_count": 83,
      "outputs": [
        {
          "output_type": "execute_result",
          "data": {
            "text/html": [
              "<div>\n",
              "<style scoped>\n",
              "    .dataframe tbody tr th:only-of-type {\n",
              "        vertical-align: middle;\n",
              "    }\n",
              "\n",
              "    .dataframe tbody tr th {\n",
              "        vertical-align: top;\n",
              "    }\n",
              "\n",
              "    .dataframe thead tr th {\n",
              "        text-align: left;\n",
              "    }\n",
              "\n",
              "    .dataframe thead tr:last-of-type th {\n",
              "        text-align: right;\n",
              "    }\n",
              "</style>\n",
              "<table border=\"1\" class=\"dataframe\">\n",
              "  <thead>\n",
              "    <tr>\n",
              "      <th></th>\n",
              "      <th colspan=\"4\" halign=\"left\">mean</th>\n",
              "      <th colspan=\"4\" halign=\"left\">max</th>\n",
              "    </tr>\n",
              "    <tr>\n",
              "      <th></th>\n",
              "      <th colspan=\"2\" halign=\"left\">age</th>\n",
              "      <th colspan=\"2\" halign=\"left\">fare</th>\n",
              "      <th colspan=\"2\" halign=\"left\">age</th>\n",
              "      <th colspan=\"2\" halign=\"left\">fare</th>\n",
              "    </tr>\n",
              "    <tr>\n",
              "      <th>survived</th>\n",
              "      <th>0</th>\n",
              "      <th>1</th>\n",
              "      <th>0</th>\n",
              "      <th>1</th>\n",
              "      <th>0</th>\n",
              "      <th>1</th>\n",
              "      <th>0</th>\n",
              "      <th>1</th>\n",
              "    </tr>\n",
              "    <tr>\n",
              "      <th>sex</th>\n",
              "      <th></th>\n",
              "      <th></th>\n",
              "      <th></th>\n",
              "      <th></th>\n",
              "      <th></th>\n",
              "      <th></th>\n",
              "      <th></th>\n",
              "      <th></th>\n",
              "    </tr>\n",
              "  </thead>\n",
              "  <tbody>\n",
              "    <tr>\n",
              "      <th>female</th>\n",
              "      <td>25.666667</td>\n",
              "      <td>34.939024</td>\n",
              "      <td>110.604167</td>\n",
              "      <td>105.978159</td>\n",
              "      <td>50.0</td>\n",
              "      <td>63.0</td>\n",
              "      <td>151.55</td>\n",
              "      <td>512.3292</td>\n",
              "    </tr>\n",
              "    <tr>\n",
              "      <th>male</th>\n",
              "      <td>44.581967</td>\n",
              "      <td>36.248000</td>\n",
              "      <td>62.894910</td>\n",
              "      <td>74.637320</td>\n",
              "      <td>71.0</td>\n",
              "      <td>80.0</td>\n",
              "      <td>263.00</td>\n",
              "      <td>512.3292</td>\n",
              "    </tr>\n",
              "  </tbody>\n",
              "</table>\n",
              "</div>"
            ],
            "text/plain": [
              "               mean                         ...   max                  \n",
              "                age                   fare  ...   age    fare          \n",
              "survived          0          1           0  ...     1       0         1\n",
              "sex                                         ...                        \n",
              "female    25.666667  34.939024  110.604167  ...  63.0  151.55  512.3292\n",
              "male      44.581967  36.248000   62.894910  ...  80.0  263.00  512.3292\n",
              "\n",
              "[2 rows x 8 columns]"
            ]
          },
          "metadata": {},
          "execution_count": 83
        }
      ]
    },
    {
      "cell_type": "markdown",
      "metadata": {
        "id": "hgqtFaJcOYvq"
      },
      "source": [
        "이번에는 행 인덱스 레벨 0에서 'First'를 가져오고, 행 인덱스 레벨 1에서 'female'을 가져온다. 두 개의 인덱스 값을 투플로 전달하면 1등석 승객 중에서 여성의 데이터만을 선택할 수 있다."
      ]
    },
    {
      "cell_type": "code",
      "metadata": {
        "colab": {
          "base_uri": "https://localhost:8080/"
        },
        "id": "uMZHw69XOlXR",
        "outputId": "a23a21f7-3e15-4881-f082-b5c8910393cd"
      },
      "source": [
        "pdf3.xs(('First', 'female'))"
      ],
      "execution_count": 84,
      "outputs": [
        {
          "output_type": "execute_result",
          "data": {
            "text/plain": [
              "            survived\n",
              "mean  age   0            25.666667\n",
              "            1            34.939024\n",
              "      fare  0           110.604167\n",
              "            1           105.978159\n",
              "max   age   0            50.000000\n",
              "            1            63.000000\n",
              "      fare  0           151.550000\n",
              "            1           512.329200\n",
              "Name: (First, female), dtype: float64"
            ]
          },
          "metadata": {},
          "execution_count": 84
        }
      ]
    },
    {
      "cell_type": "markdown",
      "metadata": {
        "id": "zd_OOysPOrZJ"
      },
      "source": [
        "이번에는 행 인덱스 레벨을 직접 지정하는 방법이다. 'sex' 레벨에서 남성 승객을 나타내는 'male'에 해당하는 데이터만을 추출한다."
      ]
    },
    {
      "cell_type": "code",
      "metadata": {
        "colab": {
          "base_uri": "https://localhost:8080/",
          "height": 234
        },
        "id": "-IPmK2WfOxsj",
        "outputId": "b7185484-acfb-478e-dd50-014e72b4d2fb"
      },
      "source": [
        "pdf3.xs('male', level='sex')"
      ],
      "execution_count": 85,
      "outputs": [
        {
          "output_type": "execute_result",
          "data": {
            "text/html": [
              "<div>\n",
              "<style scoped>\n",
              "    .dataframe tbody tr th:only-of-type {\n",
              "        vertical-align: middle;\n",
              "    }\n",
              "\n",
              "    .dataframe tbody tr th {\n",
              "        vertical-align: top;\n",
              "    }\n",
              "\n",
              "    .dataframe thead tr th {\n",
              "        text-align: left;\n",
              "    }\n",
              "\n",
              "    .dataframe thead tr:last-of-type th {\n",
              "        text-align: right;\n",
              "    }\n",
              "</style>\n",
              "<table border=\"1\" class=\"dataframe\">\n",
              "  <thead>\n",
              "    <tr>\n",
              "      <th></th>\n",
              "      <th colspan=\"4\" halign=\"left\">mean</th>\n",
              "      <th colspan=\"4\" halign=\"left\">max</th>\n",
              "    </tr>\n",
              "    <tr>\n",
              "      <th></th>\n",
              "      <th colspan=\"2\" halign=\"left\">age</th>\n",
              "      <th colspan=\"2\" halign=\"left\">fare</th>\n",
              "      <th colspan=\"2\" halign=\"left\">age</th>\n",
              "      <th colspan=\"2\" halign=\"left\">fare</th>\n",
              "    </tr>\n",
              "    <tr>\n",
              "      <th>survived</th>\n",
              "      <th>0</th>\n",
              "      <th>1</th>\n",
              "      <th>0</th>\n",
              "      <th>1</th>\n",
              "      <th>0</th>\n",
              "      <th>1</th>\n",
              "      <th>0</th>\n",
              "      <th>1</th>\n",
              "    </tr>\n",
              "    <tr>\n",
              "      <th>class</th>\n",
              "      <th></th>\n",
              "      <th></th>\n",
              "      <th></th>\n",
              "      <th></th>\n",
              "      <th></th>\n",
              "      <th></th>\n",
              "      <th></th>\n",
              "      <th></th>\n",
              "    </tr>\n",
              "  </thead>\n",
              "  <tbody>\n",
              "    <tr>\n",
              "      <th>First</th>\n",
              "      <td>44.581967</td>\n",
              "      <td>36.248000</td>\n",
              "      <td>62.894910</td>\n",
              "      <td>74.637320</td>\n",
              "      <td>71.0</td>\n",
              "      <td>80.0</td>\n",
              "      <td>263.00</td>\n",
              "      <td>512.3292</td>\n",
              "    </tr>\n",
              "    <tr>\n",
              "      <th>Second</th>\n",
              "      <td>33.369048</td>\n",
              "      <td>16.022000</td>\n",
              "      <td>19.488965</td>\n",
              "      <td>21.095100</td>\n",
              "      <td>70.0</td>\n",
              "      <td>62.0</td>\n",
              "      <td>73.50</td>\n",
              "      <td>39.0000</td>\n",
              "    </tr>\n",
              "    <tr>\n",
              "      <th>Third</th>\n",
              "      <td>27.255814</td>\n",
              "      <td>22.274211</td>\n",
              "      <td>12.204469</td>\n",
              "      <td>15.579696</td>\n",
              "      <td>74.0</td>\n",
              "      <td>45.0</td>\n",
              "      <td>69.55</td>\n",
              "      <td>56.4958</td>\n",
              "    </tr>\n",
              "  </tbody>\n",
              "</table>\n",
              "</div>"
            ],
            "text/plain": [
              "               mean                        ...   max                  \n",
              "                age                  fare  ...   age    fare          \n",
              "survived          0          1          0  ...     1       0         1\n",
              "class                                      ...                        \n",
              "First     44.581967  36.248000  62.894910  ...  80.0  263.00  512.3292\n",
              "Second    33.369048  16.022000  19.488965  ...  62.0   73.50   39.0000\n",
              "Third     27.255814  22.274211  12.204469  ...  45.0   69.55   56.4958\n",
              "\n",
              "[3 rows x 8 columns]"
            ]
          },
          "metadata": {},
          "execution_count": 85
        }
      ]
    },
    {
      "cell_type": "markdown",
      "metadata": {
        "id": "u_U5-ox5PYLq"
      },
      "source": [
        "이번에는 행 인덱스 레벨 0에서 'Second'를 가져오고, 행 인덱스 레벨 'sex'에서 'male'을 가져온다. 이때 레벨 이름 'sex' 대신에 숫자형 레벨 1을 사용해도 결과는 동일하다."
      ]
    },
    {
      "cell_type": "code",
      "metadata": {
        "colab": {
          "base_uri": "https://localhost:8080/",
          "height": 172
        },
        "id": "6q7LFeTlPjfZ",
        "outputId": "c286b9f9-73bc-49d7-a3c8-757252770aa9"
      },
      "source": [
        "pdf3.xs(('Second', 'male'), level=[0, 'sex'])"
      ],
      "execution_count": 86,
      "outputs": [
        {
          "output_type": "execute_result",
          "data": {
            "text/html": [
              "<div>\n",
              "<style scoped>\n",
              "    .dataframe tbody tr th:only-of-type {\n",
              "        vertical-align: middle;\n",
              "    }\n",
              "\n",
              "    .dataframe tbody tr th {\n",
              "        vertical-align: top;\n",
              "    }\n",
              "\n",
              "    .dataframe thead tr th {\n",
              "        text-align: left;\n",
              "    }\n",
              "\n",
              "    .dataframe thead tr:last-of-type th {\n",
              "        text-align: right;\n",
              "    }\n",
              "</style>\n",
              "<table border=\"1\" class=\"dataframe\">\n",
              "  <thead>\n",
              "    <tr>\n",
              "      <th></th>\n",
              "      <th></th>\n",
              "      <th colspan=\"4\" halign=\"left\">mean</th>\n",
              "      <th colspan=\"4\" halign=\"left\">max</th>\n",
              "    </tr>\n",
              "    <tr>\n",
              "      <th></th>\n",
              "      <th></th>\n",
              "      <th colspan=\"2\" halign=\"left\">age</th>\n",
              "      <th colspan=\"2\" halign=\"left\">fare</th>\n",
              "      <th colspan=\"2\" halign=\"left\">age</th>\n",
              "      <th colspan=\"2\" halign=\"left\">fare</th>\n",
              "    </tr>\n",
              "    <tr>\n",
              "      <th></th>\n",
              "      <th>survived</th>\n",
              "      <th>0</th>\n",
              "      <th>1</th>\n",
              "      <th>0</th>\n",
              "      <th>1</th>\n",
              "      <th>0</th>\n",
              "      <th>1</th>\n",
              "      <th>0</th>\n",
              "      <th>1</th>\n",
              "    </tr>\n",
              "    <tr>\n",
              "      <th>class</th>\n",
              "      <th>sex</th>\n",
              "      <th></th>\n",
              "      <th></th>\n",
              "      <th></th>\n",
              "      <th></th>\n",
              "      <th></th>\n",
              "      <th></th>\n",
              "      <th></th>\n",
              "      <th></th>\n",
              "    </tr>\n",
              "  </thead>\n",
              "  <tbody>\n",
              "    <tr>\n",
              "      <th>Second</th>\n",
              "      <th>male</th>\n",
              "      <td>33.369048</td>\n",
              "      <td>16.022</td>\n",
              "      <td>19.488965</td>\n",
              "      <td>21.0951</td>\n",
              "      <td>70.0</td>\n",
              "      <td>62.0</td>\n",
              "      <td>73.5</td>\n",
              "      <td>39.0</td>\n",
              "    </tr>\n",
              "  </tbody>\n",
              "</table>\n",
              "</div>"
            ],
            "text/plain": [
              "                  mean                               max                  \n",
              "                   age               fare            age        fare      \n",
              "survived             0       1          0        1     0     1     0     1\n",
              "class  sex                                                                \n",
              "Second male  33.369048  16.022  19.488965  21.0951  70.0  62.0  73.5  39.0"
            ]
          },
          "metadata": {},
          "execution_count": 86
        }
      ]
    },
    {
      "cell_type": "markdown",
      "metadata": {
        "id": "R2mWzNBqPtnh"
      },
      "source": [
        "이제 xs 인덱스를 이용하여 열 인덱스로 접근해보자. 그렇게 하기 위해서 축값을 axis=1로 설정해야한다. 먼저 데이터프레임 pdf3의 'mean' 열을 선택하여 평균값 데이터를 추출한다."
      ]
    },
    {
      "cell_type": "code",
      "metadata": {
        "colab": {
          "base_uri": "https://localhost:8080/",
          "height": 295
        },
        "id": "yeaAW9ohP8Gh",
        "outputId": "d6857257-222d-4e17-ab78-862e41b2e504"
      },
      "source": [
        "pdf3.xs('mean', axis=1)"
      ],
      "execution_count": 87,
      "outputs": [
        {
          "output_type": "execute_result",
          "data": {
            "text/html": [
              "<div>\n",
              "<style scoped>\n",
              "    .dataframe tbody tr th:only-of-type {\n",
              "        vertical-align: middle;\n",
              "    }\n",
              "\n",
              "    .dataframe tbody tr th {\n",
              "        vertical-align: top;\n",
              "    }\n",
              "\n",
              "    .dataframe thead tr th {\n",
              "        text-align: left;\n",
              "    }\n",
              "\n",
              "    .dataframe thead tr:last-of-type th {\n",
              "        text-align: right;\n",
              "    }\n",
              "</style>\n",
              "<table border=\"1\" class=\"dataframe\">\n",
              "  <thead>\n",
              "    <tr>\n",
              "      <th></th>\n",
              "      <th></th>\n",
              "      <th colspan=\"2\" halign=\"left\">age</th>\n",
              "      <th colspan=\"2\" halign=\"left\">fare</th>\n",
              "    </tr>\n",
              "    <tr>\n",
              "      <th></th>\n",
              "      <th>survived</th>\n",
              "      <th>0</th>\n",
              "      <th>1</th>\n",
              "      <th>0</th>\n",
              "      <th>1</th>\n",
              "    </tr>\n",
              "    <tr>\n",
              "      <th>class</th>\n",
              "      <th>sex</th>\n",
              "      <th></th>\n",
              "      <th></th>\n",
              "      <th></th>\n",
              "      <th></th>\n",
              "    </tr>\n",
              "  </thead>\n",
              "  <tbody>\n",
              "    <tr>\n",
              "      <th rowspan=\"2\" valign=\"top\">First</th>\n",
              "      <th>female</th>\n",
              "      <td>25.666667</td>\n",
              "      <td>34.939024</td>\n",
              "      <td>110.604167</td>\n",
              "      <td>105.978159</td>\n",
              "    </tr>\n",
              "    <tr>\n",
              "      <th>male</th>\n",
              "      <td>44.581967</td>\n",
              "      <td>36.248000</td>\n",
              "      <td>62.894910</td>\n",
              "      <td>74.637320</td>\n",
              "    </tr>\n",
              "    <tr>\n",
              "      <th rowspan=\"2\" valign=\"top\">Second</th>\n",
              "      <th>female</th>\n",
              "      <td>36.000000</td>\n",
              "      <td>28.080882</td>\n",
              "      <td>18.250000</td>\n",
              "      <td>22.288989</td>\n",
              "    </tr>\n",
              "    <tr>\n",
              "      <th>male</th>\n",
              "      <td>33.369048</td>\n",
              "      <td>16.022000</td>\n",
              "      <td>19.488965</td>\n",
              "      <td>21.095100</td>\n",
              "    </tr>\n",
              "    <tr>\n",
              "      <th rowspan=\"2\" valign=\"top\">Third</th>\n",
              "      <th>female</th>\n",
              "      <td>23.818182</td>\n",
              "      <td>19.329787</td>\n",
              "      <td>19.773093</td>\n",
              "      <td>12.464526</td>\n",
              "    </tr>\n",
              "    <tr>\n",
              "      <th>male</th>\n",
              "      <td>27.255814</td>\n",
              "      <td>22.274211</td>\n",
              "      <td>12.204469</td>\n",
              "      <td>15.579696</td>\n",
              "    </tr>\n",
              "  </tbody>\n",
              "</table>\n",
              "</div>"
            ],
            "text/plain": [
              "                     age                   fare            \n",
              "survived               0          1           0           1\n",
              "class  sex                                                 \n",
              "First  female  25.666667  34.939024  110.604167  105.978159\n",
              "       male    44.581967  36.248000   62.894910   74.637320\n",
              "Second female  36.000000  28.080882   18.250000   22.288989\n",
              "       male    33.369048  16.022000   19.488965   21.095100\n",
              "Third  female  23.818182  19.329787   19.773093   12.464526\n",
              "       male    27.255814  22.274211   12.204469   15.579696"
            ]
          },
          "metadata": {},
          "execution_count": 87
        }
      ]
    },
    {
      "cell_type": "markdown",
      "metadata": {
        "id": "tYbxhNXmQMYU"
      },
      "source": [
        "다음으로 열 인덱스 레벨 0에서 평균값을 나타내는 'mean'을 지정하고, 열 인덱스 레벨 1에서 나이를 나타내는 'age'를 지정한다. 그룹별 평균 나이 집계 결과만을 추출하여 반환한다."
      ]
    },
    {
      "cell_type": "code",
      "metadata": {
        "colab": {
          "base_uri": "https://localhost:8080/",
          "height": 265
        },
        "id": "8a3PK11xQW_h",
        "outputId": "e237242a-421a-4a87-d632-fdfb178d3551"
      },
      "source": [
        "pdf3.xs(('mean', 'age'), axis=1)"
      ],
      "execution_count": 88,
      "outputs": [
        {
          "output_type": "execute_result",
          "data": {
            "text/html": [
              "<div>\n",
              "<style scoped>\n",
              "    .dataframe tbody tr th:only-of-type {\n",
              "        vertical-align: middle;\n",
              "    }\n",
              "\n",
              "    .dataframe tbody tr th {\n",
              "        vertical-align: top;\n",
              "    }\n",
              "\n",
              "    .dataframe thead th {\n",
              "        text-align: right;\n",
              "    }\n",
              "</style>\n",
              "<table border=\"1\" class=\"dataframe\">\n",
              "  <thead>\n",
              "    <tr style=\"text-align: right;\">\n",
              "      <th></th>\n",
              "      <th>survived</th>\n",
              "      <th>0</th>\n",
              "      <th>1</th>\n",
              "    </tr>\n",
              "    <tr>\n",
              "      <th>class</th>\n",
              "      <th>sex</th>\n",
              "      <th></th>\n",
              "      <th></th>\n",
              "    </tr>\n",
              "  </thead>\n",
              "  <tbody>\n",
              "    <tr>\n",
              "      <th rowspan=\"2\" valign=\"top\">First</th>\n",
              "      <th>female</th>\n",
              "      <td>25.666667</td>\n",
              "      <td>34.939024</td>\n",
              "    </tr>\n",
              "    <tr>\n",
              "      <th>male</th>\n",
              "      <td>44.581967</td>\n",
              "      <td>36.248000</td>\n",
              "    </tr>\n",
              "    <tr>\n",
              "      <th rowspan=\"2\" valign=\"top\">Second</th>\n",
              "      <th>female</th>\n",
              "      <td>36.000000</td>\n",
              "      <td>28.080882</td>\n",
              "    </tr>\n",
              "    <tr>\n",
              "      <th>male</th>\n",
              "      <td>33.369048</td>\n",
              "      <td>16.022000</td>\n",
              "    </tr>\n",
              "    <tr>\n",
              "      <th rowspan=\"2\" valign=\"top\">Third</th>\n",
              "      <th>female</th>\n",
              "      <td>23.818182</td>\n",
              "      <td>19.329787</td>\n",
              "    </tr>\n",
              "    <tr>\n",
              "      <th>male</th>\n",
              "      <td>27.255814</td>\n",
              "      <td>22.274211</td>\n",
              "    </tr>\n",
              "  </tbody>\n",
              "</table>\n",
              "</div>"
            ],
            "text/plain": [
              "survived               0          1\n",
              "class  sex                         \n",
              "First  female  25.666667  34.939024\n",
              "       male    44.581967  36.248000\n",
              "Second female  36.000000  28.080882\n",
              "       male    33.369048  16.022000\n",
              "Third  female  23.818182  19.329787\n",
              "       male    27.255814  22.274211"
            ]
          },
          "metadata": {},
          "execution_count": 88
        }
      ]
    },
    {
      "cell_type": "markdown",
      "metadata": {
        "id": "p6mckA42QjUq"
      },
      "source": [
        "열 인덱스 레벨을 직접 지정한다. 'survived'레벨의 값이 1에 해당하는 데이터만을 추출한다. 따라서 생존자 데이터만을 구분하여 출력하게 된다."
      ]
    },
    {
      "cell_type": "code",
      "metadata": {
        "colab": {
          "base_uri": "https://localhost:8080/",
          "height": 295
        },
        "id": "O6inDf3OQsHy",
        "outputId": "ed338886-674c-471a-eea4-ed5999446200"
      },
      "source": [
        "pdf3.xs(1, level='survived', axis=1)"
      ],
      "execution_count": 89,
      "outputs": [
        {
          "output_type": "execute_result",
          "data": {
            "text/html": [
              "<div>\n",
              "<style scoped>\n",
              "    .dataframe tbody tr th:only-of-type {\n",
              "        vertical-align: middle;\n",
              "    }\n",
              "\n",
              "    .dataframe tbody tr th {\n",
              "        vertical-align: top;\n",
              "    }\n",
              "\n",
              "    .dataframe thead tr th {\n",
              "        text-align: left;\n",
              "    }\n",
              "\n",
              "    .dataframe thead tr:last-of-type th {\n",
              "        text-align: right;\n",
              "    }\n",
              "</style>\n",
              "<table border=\"1\" class=\"dataframe\">\n",
              "  <thead>\n",
              "    <tr>\n",
              "      <th></th>\n",
              "      <th></th>\n",
              "      <th colspan=\"2\" halign=\"left\">mean</th>\n",
              "      <th colspan=\"2\" halign=\"left\">max</th>\n",
              "    </tr>\n",
              "    <tr>\n",
              "      <th></th>\n",
              "      <th></th>\n",
              "      <th>age</th>\n",
              "      <th>fare</th>\n",
              "      <th>age</th>\n",
              "      <th>fare</th>\n",
              "    </tr>\n",
              "    <tr>\n",
              "      <th>class</th>\n",
              "      <th>sex</th>\n",
              "      <th></th>\n",
              "      <th></th>\n",
              "      <th></th>\n",
              "      <th></th>\n",
              "    </tr>\n",
              "  </thead>\n",
              "  <tbody>\n",
              "    <tr>\n",
              "      <th rowspan=\"2\" valign=\"top\">First</th>\n",
              "      <th>female</th>\n",
              "      <td>34.939024</td>\n",
              "      <td>105.978159</td>\n",
              "      <td>63.0</td>\n",
              "      <td>512.3292</td>\n",
              "    </tr>\n",
              "    <tr>\n",
              "      <th>male</th>\n",
              "      <td>36.248000</td>\n",
              "      <td>74.637320</td>\n",
              "      <td>80.0</td>\n",
              "      <td>512.3292</td>\n",
              "    </tr>\n",
              "    <tr>\n",
              "      <th rowspan=\"2\" valign=\"top\">Second</th>\n",
              "      <th>female</th>\n",
              "      <td>28.080882</td>\n",
              "      <td>22.288989</td>\n",
              "      <td>55.0</td>\n",
              "      <td>65.0000</td>\n",
              "    </tr>\n",
              "    <tr>\n",
              "      <th>male</th>\n",
              "      <td>16.022000</td>\n",
              "      <td>21.095100</td>\n",
              "      <td>62.0</td>\n",
              "      <td>39.0000</td>\n",
              "    </tr>\n",
              "    <tr>\n",
              "      <th rowspan=\"2\" valign=\"top\">Third</th>\n",
              "      <th>female</th>\n",
              "      <td>19.329787</td>\n",
              "      <td>12.464526</td>\n",
              "      <td>63.0</td>\n",
              "      <td>31.3875</td>\n",
              "    </tr>\n",
              "    <tr>\n",
              "      <th>male</th>\n",
              "      <td>22.274211</td>\n",
              "      <td>15.579696</td>\n",
              "      <td>45.0</td>\n",
              "      <td>56.4958</td>\n",
              "    </tr>\n",
              "  </tbody>\n",
              "</table>\n",
              "</div>"
            ],
            "text/plain": [
              "                    mean               max          \n",
              "                     age        fare   age      fare\n",
              "class  sex                                          \n",
              "First  female  34.939024  105.978159  63.0  512.3292\n",
              "       male    36.248000   74.637320  80.0  512.3292\n",
              "Second female  28.080882   22.288989  55.0   65.0000\n",
              "       male    16.022000   21.095100  62.0   39.0000\n",
              "Third  female  19.329787   12.464526  63.0   31.3875\n",
              "       male    22.274211   15.579696  45.0   56.4958"
            ]
          },
          "metadata": {},
          "execution_count": 89
        }
      ]
    },
    {
      "cell_type": "markdown",
      "metadata": {
        "id": "b-Ogk_erQyby"
      },
      "source": [
        "마지막으로 열 인덱스 레벨 0에서 최대값을 나타내는 'max'를 가져오고, 레벨 1에서 객실 요금을 나타내는 'fare'를 가져온다. 'survived' 열을 나타내는 레벨 2에서 구조받지 못한 승객을 나타내는 0을 가져온다. 반환되는 데이터는 구조받지 못한 승객들 객실 요금의 최대값이다."
      ]
    },
    {
      "cell_type": "code",
      "metadata": {
        "colab": {
          "base_uri": "https://localhost:8080/",
          "height": 326
        },
        "id": "zIaQTTGLRBfp",
        "outputId": "7445ca78-531f-449d-b3af-77fab34e730b"
      },
      "source": [
        "pdf3.xs(('max', 'fare', 0), level=[0, 1, 2], axis=1)"
      ],
      "execution_count": 90,
      "outputs": [
        {
          "output_type": "execute_result",
          "data": {
            "text/html": [
              "<div>\n",
              "<style scoped>\n",
              "    .dataframe tbody tr th:only-of-type {\n",
              "        vertical-align: middle;\n",
              "    }\n",
              "\n",
              "    .dataframe tbody tr th {\n",
              "        vertical-align: top;\n",
              "    }\n",
              "\n",
              "    .dataframe thead tr th {\n",
              "        text-align: left;\n",
              "    }\n",
              "\n",
              "    .dataframe thead tr:last-of-type th {\n",
              "        text-align: right;\n",
              "    }\n",
              "</style>\n",
              "<table border=\"1\" class=\"dataframe\">\n",
              "  <thead>\n",
              "    <tr>\n",
              "      <th></th>\n",
              "      <th></th>\n",
              "      <th>max</th>\n",
              "    </tr>\n",
              "    <tr>\n",
              "      <th></th>\n",
              "      <th></th>\n",
              "      <th>fare</th>\n",
              "    </tr>\n",
              "    <tr>\n",
              "      <th></th>\n",
              "      <th>survived</th>\n",
              "      <th>0</th>\n",
              "    </tr>\n",
              "    <tr>\n",
              "      <th>class</th>\n",
              "      <th>sex</th>\n",
              "      <th></th>\n",
              "    </tr>\n",
              "  </thead>\n",
              "  <tbody>\n",
              "    <tr>\n",
              "      <th rowspan=\"2\" valign=\"top\">First</th>\n",
              "      <th>female</th>\n",
              "      <td>151.55</td>\n",
              "    </tr>\n",
              "    <tr>\n",
              "      <th>male</th>\n",
              "      <td>263.00</td>\n",
              "    </tr>\n",
              "    <tr>\n",
              "      <th rowspan=\"2\" valign=\"top\">Second</th>\n",
              "      <th>female</th>\n",
              "      <td>26.00</td>\n",
              "    </tr>\n",
              "    <tr>\n",
              "      <th>male</th>\n",
              "      <td>73.50</td>\n",
              "    </tr>\n",
              "    <tr>\n",
              "      <th rowspan=\"2\" valign=\"top\">Third</th>\n",
              "      <th>female</th>\n",
              "      <td>69.55</td>\n",
              "    </tr>\n",
              "    <tr>\n",
              "      <th>male</th>\n",
              "      <td>69.55</td>\n",
              "    </tr>\n",
              "  </tbody>\n",
              "</table>\n",
              "</div>"
            ],
            "text/plain": [
              "                  max\n",
              "                 fare\n",
              "survived            0\n",
              "class  sex           \n",
              "First  female  151.55\n",
              "       male    263.00\n",
              "Second female   26.00\n",
              "       male     73.50\n",
              "Third  female   69.55\n",
              "       male     69.55"
            ]
          },
          "metadata": {},
          "execution_count": 90
        }
      ]
    }
  ]
}